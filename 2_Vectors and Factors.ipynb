{
 "cells": [
  {
   "cell_type": "markdown",
   "id": "8dd26773-d8b5-438c-8a7d-c8c716f2ded0",
   "metadata": {},
   "source": [
    "## Vectors"
   ]
  },
  {
   "cell_type": "raw",
   "id": "f3dd21e0-5f9c-4556-ba9b-5a6a81ad5c84",
   "metadata": {},
   "source": [
    "A vector is simply a list of items that are of the same type."
   ]
  },
  {
   "cell_type": "raw",
   "id": "2f14e9e9-099f-481f-9e66-ca84205a1832",
   "metadata": {},
   "source": [
    "To combine the list of items to a vector, use the c() function and separate the items by a comma."
   ]
  },
  {
   "cell_type": "markdown",
   "id": "ddc2c7ba-a5e3-47b9-8da8-42e2fdbfb915",
   "metadata": {},
   "source": [
    "**Vectors** \n",
    "Vectors are strings of numbers, characters or logical data (one-dimension array). In other words, a vector is a simple tool to store your grouped data.\n",
    "\n",
    "In R, you create a vector with the combine function **c()**. You place the vector elements separated by a comma between the brackets. Vectors will be very useful in the future as they allow you to apply operations on a series of data easily.\n",
    "\n",
    "Note that the items in a vector must be of the same class, for example all should be either number, character, or logical.\n"
   ]
  },
  {
   "cell_type": "markdown",
   "id": "11a222e1-fb92-494b-b250-139fbfeb6c5e",
   "metadata": {},
   "source": [
    "### Numeric, Character and Logical Vectors"
   ]
  },
  {
   "cell_type": "code",
   "execution_count": 1,
   "id": "df900aee-88c7-4b41-a0c2-164d927c66b1",
   "metadata": {},
   "outputs": [],
   "source": [
    "year<- c(1995, 2000, 2015, 2023)"
   ]
  },
  {
   "cell_type": "code",
   "execution_count": 2,
   "id": "336b6754-76c5-4e57-b60a-5c7aac1b7fa1",
   "metadata": {},
   "outputs": [
    {
     "data": {
      "text/html": [
       "<ol class=list-inline>\n",
       "\t<li>1995</li>\n",
       "\t<li>2000</li>\n",
       "\t<li>2015</li>\n",
       "\t<li>2023</li>\n",
       "</ol>\n"
      ],
      "text/latex": [
       "\\begin{enumerate*}\n",
       "\\item 1995\n",
       "\\item 2000\n",
       "\\item 2015\n",
       "\\item 2023\n",
       "\\end{enumerate*}\n"
      ],
      "text/markdown": [
       "1. 1995\n",
       "2. 2000\n",
       "3. 2015\n",
       "4. 2023\n",
       "\n",
       "\n"
      ],
      "text/plain": [
       "[1] 1995 2000 2015 2023"
      ]
     },
     "metadata": {},
     "output_type": "display_data"
    }
   ],
   "source": [
    "year"
   ]
  },
  {
   "cell_type": "code",
   "execution_count": 9,
   "id": "c31012c4-0163-4a8b-9c99-f89325e3b784",
   "metadata": {},
   "outputs": [
    {
     "data": {
      "text/html": [
       "4"
      ],
      "text/latex": [
       "4"
      ],
      "text/markdown": [
       "4"
      ],
      "text/plain": [
       "[1] 4"
      ]
     },
     "metadata": {},
     "output_type": "display_data"
    }
   ],
   "source": [
    "length(year)"
   ]
  },
  {
   "cell_type": "code",
   "execution_count": 33,
   "id": "9f9084a4-6da1-4dc8-9313-e6948b7d9b30",
   "metadata": {},
   "outputs": [],
   "source": [
    "titles<-c(\"XYZ\",\"PQR\",\"ABC\",\"LMN\")"
   ]
  },
  {
   "cell_type": "code",
   "execution_count": 34,
   "id": "377f66a1-3c4f-48b6-882d-1c6b8e63f7c7",
   "metadata": {},
   "outputs": [
    {
     "data": {
      "text/html": [
       "<ol class=list-inline>\n",
       "\t<li>'XYZ'</li>\n",
       "\t<li>'PQR'</li>\n",
       "\t<li>'ABC'</li>\n",
       "\t<li>'LMN'</li>\n",
       "</ol>\n"
      ],
      "text/latex": [
       "\\begin{enumerate*}\n",
       "\\item 'XYZ'\n",
       "\\item 'PQR'\n",
       "\\item 'ABC'\n",
       "\\item 'LMN'\n",
       "\\end{enumerate*}\n"
      ],
      "text/markdown": [
       "1. 'XYZ'\n",
       "2. 'PQR'\n",
       "3. 'ABC'\n",
       "4. 'LMN'\n",
       "\n",
       "\n"
      ],
      "text/plain": [
       "[1] \"XYZ\" \"PQR\" \"ABC\" \"LMN\""
      ]
     },
     "metadata": {},
     "output_type": "display_data"
    }
   ],
   "source": [
    "titles"
   ]
  },
  {
   "cell_type": "code",
   "execution_count": 35,
   "id": "ee691f7b-6fbf-4c69-bd92-334abc6d3e58",
   "metadata": {},
   "outputs": [
    {
     "data": {
      "text/html": [
       "<ol class=list-inline>\n",
       "\t<li>1995</li>\n",
       "\t<li>2000</li>\n",
       "\t<li>2015</li>\n",
       "\t<li>2023</li>\n",
       "</ol>\n"
      ],
      "text/latex": [
       "\\begin{enumerate*}\n",
       "\\item 1995\n",
       "\\item 2000\n",
       "\\item 2015\n",
       "\\item 2023\n",
       "\\end{enumerate*}\n"
      ],
      "text/markdown": [
       "1. 1995\n",
       "2. 2000\n",
       "3. 2015\n",
       "4. 2023\n",
       "\n",
       "\n"
      ],
      "text/plain": [
       "[1] 1995 2000 2015 2023"
      ]
     },
     "metadata": {},
     "output_type": "display_data"
    }
   ],
   "source": [
    "year"
   ]
  },
  {
   "cell_type": "code",
   "execution_count": 36,
   "id": "c1674917-2b1d-415e-b81a-e90c61cf5c5a",
   "metadata": {},
   "outputs": [
    {
     "data": {
      "text/html": [
       "1995"
      ],
      "text/latex": [
       "1995"
      ],
      "text/markdown": [
       "1995"
      ],
      "text/plain": [
       "[1] 1995"
      ]
     },
     "metadata": {},
     "output_type": "display_data"
    }
   ],
   "source": [
    "year[1]"
   ]
  },
  {
   "cell_type": "code",
   "execution_count": 37,
   "id": "8c29e0bd-5ce4-4379-a578-88aee553e568",
   "metadata": {},
   "outputs": [
    {
     "data": {
      "text/html": [
       "<ol class=list-inline>\n",
       "\t<li>1995</li>\n",
       "\t<li>2000</li>\n",
       "</ol>\n"
      ],
      "text/latex": [
       "\\begin{enumerate*}\n",
       "\\item 1995\n",
       "\\item 2000\n",
       "\\end{enumerate*}\n"
      ],
      "text/markdown": [
       "1. 1995\n",
       "2. 2000\n",
       "\n",
       "\n"
      ],
      "text/plain": [
       "[1] 1995 2000"
      ]
     },
     "metadata": {},
     "output_type": "display_data"
    }
   ],
   "source": [
    "year[1:2]"
   ]
  },
  {
   "cell_type": "code",
   "execution_count": 38,
   "id": "ff11eed8-e493-4b38-9745-2613020c6a61",
   "metadata": {},
   "outputs": [
    {
     "data": {
      "text/html": [
       "<ol class=list-inline>\n",
       "\t<li>'XYZ'</li>\n",
       "\t<li>'PQR'</li>\n",
       "\t<li>'ABC'</li>\n",
       "\t<li>'LMN'</li>\n",
       "</ol>\n"
      ],
      "text/latex": [
       "\\begin{enumerate*}\n",
       "\\item 'XYZ'\n",
       "\\item 'PQR'\n",
       "\\item 'ABC'\n",
       "\\item 'LMN'\n",
       "\\end{enumerate*}\n"
      ],
      "text/markdown": [
       "1. 'XYZ'\n",
       "2. 'PQR'\n",
       "3. 'ABC'\n",
       "4. 'LMN'\n",
       "\n",
       "\n"
      ],
      "text/plain": [
       "[1] \"XYZ\" \"PQR\" \"ABC\" \"LMN\""
      ]
     },
     "metadata": {},
     "output_type": "display_data"
    }
   ],
   "source": [
    "titles"
   ]
  },
  {
   "cell_type": "code",
   "execution_count": 39,
   "id": "b80a9b9b-c27d-4519-9077-2bb0318f5765",
   "metadata": {},
   "outputs": [
    {
     "data": {
      "text/html": [
       "<ol class=list-inline>\n",
       "\t<li>TRUE</li>\n",
       "\t<li>FALSE</li>\n",
       "\t<li>FALSE</li>\n",
       "\t<li>FALSE</li>\n",
       "</ol>\n"
      ],
      "text/latex": [
       "\\begin{enumerate*}\n",
       "\\item TRUE\n",
       "\\item FALSE\n",
       "\\item FALSE\n",
       "\\item FALSE\n",
       "\\end{enumerate*}\n"
      ],
      "text/markdown": [
       "1. TRUE\n",
       "2. FALSE\n",
       "3. FALSE\n",
       "4. FALSE\n",
       "\n",
       "\n"
      ],
      "text/plain": [
       "[1]  TRUE FALSE FALSE FALSE"
      ]
     },
     "metadata": {},
     "output_type": "display_data"
    }
   ],
   "source": [
    "titles==\"XYZ\""
   ]
  },
  {
   "cell_type": "code",
   "execution_count": 6,
   "id": "bba3fa4e-5809-4f3f-aa97-b6444d955d17",
   "metadata": {},
   "outputs": [
    {
     "data": {
      "text/html": [
       "<ol class=list-inline>\n",
       "\t<li>1</li>\n",
       "\t<li>2</li>\n",
       "\t<li>3</li>\n",
       "\t<li>4</li>\n",
       "\t<li>5</li>\n",
       "</ol>\n"
      ],
      "text/latex": [
       "\\begin{enumerate*}\n",
       "\\item 1\n",
       "\\item 2\n",
       "\\item 3\n",
       "\\item 4\n",
       "\\item 5\n",
       "\\end{enumerate*}\n"
      ],
      "text/markdown": [
       "1. 1\n",
       "2. 2\n",
       "3. 3\n",
       "4. 4\n",
       "5. 5\n",
       "\n",
       "\n"
      ],
      "text/plain": [
       "[1] 1 2 3 4 5"
      ]
     },
     "metadata": {},
     "output_type": "display_data"
    }
   ],
   "source": [
    "numbers <- 1:5\n",
    "\n",
    "numbers"
   ]
  },
  {
   "cell_type": "code",
   "execution_count": 7,
   "id": "ed5f6c82-762b-4826-9506-7584c3effa6a",
   "metadata": {},
   "outputs": [
    {
     "data": {
      "text/html": [
       "<ol class=list-inline>\n",
       "\t<li>1.5</li>\n",
       "\t<li>2.5</li>\n",
       "\t<li>3.5</li>\n",
       "\t<li>4.5</li>\n",
       "\t<li>5.5</li>\n",
       "\t<li>6.5</li>\n",
       "</ol>\n"
      ],
      "text/latex": [
       "\\begin{enumerate*}\n",
       "\\item 1.5\n",
       "\\item 2.5\n",
       "\\item 3.5\n",
       "\\item 4.5\n",
       "\\item 5.5\n",
       "\\item 6.5\n",
       "\\end{enumerate*}\n"
      ],
      "text/markdown": [
       "1. 1.5\n",
       "2. 2.5\n",
       "3. 3.5\n",
       "4. 4.5\n",
       "5. 5.5\n",
       "6. 6.5\n",
       "\n",
       "\n"
      ],
      "text/plain": [
       "[1] 1.5 2.5 3.5 4.5 5.5 6.5"
      ]
     },
     "metadata": {},
     "output_type": "display_data"
    },
    {
     "data": {
      "text/html": [
       "<ol class=list-inline>\n",
       "\t<li>1.5</li>\n",
       "\t<li>2.5</li>\n",
       "\t<li>3.5</li>\n",
       "\t<li>4.5</li>\n",
       "\t<li>5.5</li>\n",
       "</ol>\n"
      ],
      "text/latex": [
       "\\begin{enumerate*}\n",
       "\\item 1.5\n",
       "\\item 2.5\n",
       "\\item 3.5\n",
       "\\item 4.5\n",
       "\\item 5.5\n",
       "\\end{enumerate*}\n"
      ],
      "text/markdown": [
       "1. 1.5\n",
       "2. 2.5\n",
       "3. 3.5\n",
       "4. 4.5\n",
       "5. 5.5\n",
       "\n",
       "\n"
      ],
      "text/plain": [
       "[1] 1.5 2.5 3.5 4.5 5.5"
      ]
     },
     "metadata": {},
     "output_type": "display_data"
    }
   ],
   "source": [
    "# Vector with numerical decimals in a sequence\n",
    "numbers1 <- 1.5:6.5\n",
    "numbers1\n",
    "\n",
    "# Vector with numerical decimals in a sequence where the last element is not used\n",
    "numbers2 <- 1.5:6.3\n",
    "numbers2"
   ]
  },
  {
   "cell_type": "code",
   "execution_count": 8,
   "id": "d86979a5-3a3d-4ebb-9c36-448249334d85",
   "metadata": {},
   "outputs": [
    {
     "data": {
      "text/html": [
       "<ol class=list-inline>\n",
       "\t<li>TRUE</li>\n",
       "\t<li>FALSE</li>\n",
       "\t<li>TRUE</li>\n",
       "\t<li>FALSE</li>\n",
       "</ol>\n"
      ],
      "text/latex": [
       "\\begin{enumerate*}\n",
       "\\item TRUE\n",
       "\\item FALSE\n",
       "\\item TRUE\n",
       "\\item FALSE\n",
       "\\end{enumerate*}\n"
      ],
      "text/markdown": [
       "1. TRUE\n",
       "2. FALSE\n",
       "3. TRUE\n",
       "4. FALSE\n",
       "\n",
       "\n"
      ],
      "text/plain": [
       "[1]  TRUE FALSE  TRUE FALSE"
      ]
     },
     "metadata": {},
     "output_type": "display_data"
    }
   ],
   "source": [
    "# Vector of logical values\n",
    "log_values <- c(TRUE, FALSE, TRUE, FALSE)\n",
    "\n",
    "log_values"
   ]
  },
  {
   "cell_type": "code",
   "execution_count": 10,
   "id": "8a6482ac-ed5c-463c-a94f-8c1c929045f2",
   "metadata": {},
   "outputs": [
    {
     "data": {
      "text/html": [
       "<ol class=list-inline>\n",
       "\t<li>'apple'</li>\n",
       "\t<li>'banana'</li>\n",
       "\t<li>'lemon'</li>\n",
       "\t<li>'mango'</li>\n",
       "\t<li>'orange'</li>\n",
       "</ol>\n"
      ],
      "text/latex": [
       "\\begin{enumerate*}\n",
       "\\item 'apple'\n",
       "\\item 'banana'\n",
       "\\item 'lemon'\n",
       "\\item 'mango'\n",
       "\\item 'orange'\n",
       "\\end{enumerate*}\n"
      ],
      "text/markdown": [
       "1. 'apple'\n",
       "2. 'banana'\n",
       "3. 'lemon'\n",
       "4. 'mango'\n",
       "5. 'orange'\n",
       "\n",
       "\n"
      ],
      "text/plain": [
       "[1] \"apple\"  \"banana\" \"lemon\"  \"mango\"  \"orange\""
      ]
     },
     "metadata": {},
     "output_type": "display_data"
    },
    {
     "data": {
      "text/html": [
       "<ol class=list-inline>\n",
       "\t<li>2</li>\n",
       "\t<li>3</li>\n",
       "\t<li>5</li>\n",
       "\t<li>7</li>\n",
       "\t<li>13</li>\n",
       "\t<li>20</li>\n",
       "</ol>\n"
      ],
      "text/latex": [
       "\\begin{enumerate*}\n",
       "\\item 2\n",
       "\\item 3\n",
       "\\item 5\n",
       "\\item 7\n",
       "\\item 13\n",
       "\\item 20\n",
       "\\end{enumerate*}\n"
      ],
      "text/markdown": [
       "1. 2\n",
       "2. 3\n",
       "3. 5\n",
       "4. 7\n",
       "5. 13\n",
       "6. 20\n",
       "\n",
       "\n"
      ],
      "text/plain": [
       "[1]  2  3  5  7 13 20"
      ]
     },
     "metadata": {},
     "output_type": "display_data"
    }
   ],
   "source": [
    "fruits <- c(\"banana\", \"apple\", \"orange\", \"mango\", \"lemon\")\n",
    "numbers <- c(13, 3, 5, 7, 20, 2)\n",
    "\n",
    "sort(fruits)  # Sort a string\n",
    "sort(numbers) # Sort numbers\n"
   ]
  },
  {
   "cell_type": "markdown",
   "id": "ecd99839-2a75-4204-8831-feb31d7a2856",
   "metadata": {},
   "source": [
    "### Vector Operations"
   ]
  },
  {
   "cell_type": "code",
   "execution_count": 11,
   "id": "94625cee-73be-4eaf-baab-b50b2274f008",
   "metadata": {},
   "outputs": [
    {
     "data": {
      "text/html": [
       "<ol class=list-inline>\n",
       "\t<li>1995</li>\n",
       "\t<li>2000</li>\n",
       "\t<li>2015</li>\n",
       "\t<li>2023</li>\n",
       "</ol>\n"
      ],
      "text/latex": [
       "\\begin{enumerate*}\n",
       "\\item 1995\n",
       "\\item 2000\n",
       "\\item 2015\n",
       "\\item 2023\n",
       "\\end{enumerate*}\n"
      ],
      "text/markdown": [
       "1. 1995\n",
       "2. 2000\n",
       "3. 2015\n",
       "4. 2023\n",
       "\n",
       "\n"
      ],
      "text/plain": [
       "[1] 1995 2000 2015 2023"
      ]
     },
     "metadata": {},
     "output_type": "display_data"
    }
   ],
   "source": [
    "year"
   ]
  },
  {
   "cell_type": "code",
   "execution_count": 12,
   "id": "d29e1be2-713f-4e05-a762-aa5699348300",
   "metadata": {},
   "outputs": [],
   "source": [
    "year<-c(year, 2017)"
   ]
  },
  {
   "cell_type": "code",
   "execution_count": 42,
   "id": "cafe3c33-08f0-40b7-b14d-6f60d1ea8c14",
   "metadata": {},
   "outputs": [
    {
     "data": {
      "text/html": [
       "<ol class=list-inline>\n",
       "\t<li>1995</li>\n",
       "\t<li>2000</li>\n",
       "\t<li>2015</li>\n",
       "\t<li>2023</li>\n",
       "\t<li>2017</li>\n",
       "</ol>\n"
      ],
      "text/latex": [
       "\\begin{enumerate*}\n",
       "\\item 1995\n",
       "\\item 2000\n",
       "\\item 2015\n",
       "\\item 2023\n",
       "\\item 2017\n",
       "\\end{enumerate*}\n"
      ],
      "text/markdown": [
       "1. 1995\n",
       "2. 2000\n",
       "3. 2015\n",
       "4. 2023\n",
       "5. 2017\n",
       "\n",
       "\n"
      ],
      "text/plain": [
       "[1] 1995 2000 2015 2023 2017"
      ]
     },
     "metadata": {},
     "output_type": "display_data"
    }
   ],
   "source": [
    "year"
   ]
  },
  {
   "cell_type": "code",
   "execution_count": 13,
   "id": "510d87ac-e5e2-4b66-b8ce-e46de456f701",
   "metadata": {},
   "outputs": [],
   "source": [
    "year<-c(year, 2018:2020)"
   ]
  },
  {
   "cell_type": "code",
   "execution_count": 44,
   "id": "3a7c3020-2caf-4733-a7ad-3d5cab2a777d",
   "metadata": {},
   "outputs": [
    {
     "data": {
      "text/html": [
       "<ol class=list-inline>\n",
       "\t<li>1995</li>\n",
       "\t<li>2000</li>\n",
       "\t<li>2015</li>\n",
       "\t<li>2023</li>\n",
       "\t<li>2017</li>\n",
       "\t<li>2018</li>\n",
       "\t<li>2019</li>\n",
       "\t<li>2020</li>\n",
       "</ol>\n"
      ],
      "text/latex": [
       "\\begin{enumerate*}\n",
       "\\item 1995\n",
       "\\item 2000\n",
       "\\item 2015\n",
       "\\item 2023\n",
       "\\item 2017\n",
       "\\item 2018\n",
       "\\item 2019\n",
       "\\item 2020\n",
       "\\end{enumerate*}\n"
      ],
      "text/markdown": [
       "1. 1995\n",
       "2. 2000\n",
       "3. 2015\n",
       "4. 2023\n",
       "5. 2017\n",
       "6. 2018\n",
       "7. 2019\n",
       "8. 2020\n",
       "\n",
       "\n"
      ],
      "text/plain": [
       "[1] 1995 2000 2015 2023 2017 2018 2019 2020"
      ]
     },
     "metadata": {},
     "output_type": "display_data"
    }
   ],
   "source": [
    "year"
   ]
  },
  {
   "cell_type": "code",
   "execution_count": 14,
   "id": "4679d1c6-a4e1-4dda-b0e5-0801ed6f7a55",
   "metadata": {},
   "outputs": [
    {
     "data": {
      "text/html": [
       "8"
      ],
      "text/latex": [
       "8"
      ],
      "text/markdown": [
       "8"
      ],
      "text/plain": [
       "[1] 8"
      ]
     },
     "metadata": {},
     "output_type": "display_data"
    }
   ],
   "source": [
    "length(year)"
   ]
  },
  {
   "cell_type": "markdown",
   "id": "350fb103-22db-427a-a4de-ab43d50cdf2e",
   "metadata": {},
   "source": [
    "### Head and Tail of a vector"
   ]
  },
  {
   "cell_type": "code",
   "execution_count": 15,
   "id": "afc57a41-6c98-44c0-a44f-e0f66af506fd",
   "metadata": {},
   "outputs": [
    {
     "data": {
      "text/html": [
       "<ol class=list-inline>\n",
       "\t<li>1995</li>\n",
       "\t<li>2000</li>\n",
       "\t<li>2015</li>\n",
       "\t<li>2023</li>\n",
       "\t<li>2017</li>\n",
       "\t<li>2018</li>\n",
       "</ol>\n"
      ],
      "text/latex": [
       "\\begin{enumerate*}\n",
       "\\item 1995\n",
       "\\item 2000\n",
       "\\item 2015\n",
       "\\item 2023\n",
       "\\item 2017\n",
       "\\item 2018\n",
       "\\end{enumerate*}\n"
      ],
      "text/markdown": [
       "1. 1995\n",
       "2. 2000\n",
       "3. 2015\n",
       "4. 2023\n",
       "5. 2017\n",
       "6. 2018\n",
       "\n",
       "\n"
      ],
      "text/plain": [
       "[1] 1995 2000 2015 2023 2017 2018"
      ]
     },
     "metadata": {},
     "output_type": "display_data"
    }
   ],
   "source": [
    "head(year)"
   ]
  },
  {
   "cell_type": "code",
   "execution_count": 16,
   "id": "fc9648e5-e9c0-48f5-916c-28f5d523ef2a",
   "metadata": {},
   "outputs": [
    {
     "data": {
      "text/html": [
       "<ol class=list-inline>\n",
       "\t<li>1995</li>\n",
       "\t<li>2000</li>\n",
       "\t<li>2015</li>\n",
       "</ol>\n"
      ],
      "text/latex": [
       "\\begin{enumerate*}\n",
       "\\item 1995\n",
       "\\item 2000\n",
       "\\item 2015\n",
       "\\end{enumerate*}\n"
      ],
      "text/markdown": [
       "1. 1995\n",
       "2. 2000\n",
       "3. 2015\n",
       "\n",
       "\n"
      ],
      "text/plain": [
       "[1] 1995 2000 2015"
      ]
     },
     "metadata": {},
     "output_type": "display_data"
    }
   ],
   "source": [
    "head(year,3)"
   ]
  },
  {
   "cell_type": "code",
   "execution_count": 17,
   "id": "617f6f8b-3025-45de-9b46-2f3c28391908",
   "metadata": {},
   "outputs": [
    {
     "data": {
      "text/html": [
       "<ol class=list-inline>\n",
       "\t<li>2015</li>\n",
       "\t<li>2023</li>\n",
       "\t<li>2017</li>\n",
       "\t<li>2018</li>\n",
       "\t<li>2019</li>\n",
       "\t<li>2020</li>\n",
       "</ol>\n"
      ],
      "text/latex": [
       "\\begin{enumerate*}\n",
       "\\item 2015\n",
       "\\item 2023\n",
       "\\item 2017\n",
       "\\item 2018\n",
       "\\item 2019\n",
       "\\item 2020\n",
       "\\end{enumerate*}\n"
      ],
      "text/markdown": [
       "1. 2015\n",
       "2. 2023\n",
       "3. 2017\n",
       "4. 2018\n",
       "5. 2019\n",
       "6. 2020\n",
       "\n",
       "\n"
      ],
      "text/plain": [
       "[1] 2015 2023 2017 2018 2019 2020"
      ]
     },
     "metadata": {},
     "output_type": "display_data"
    }
   ],
   "source": [
    "tail(year)"
   ]
  },
  {
   "cell_type": "code",
   "execution_count": 18,
   "id": "030a3f3a-7ff1-44a0-86d4-4ff17748f303",
   "metadata": {},
   "outputs": [
    {
     "data": {
      "text/html": [
       "<ol class=list-inline>\n",
       "\t<li>2018</li>\n",
       "\t<li>2019</li>\n",
       "\t<li>2020</li>\n",
       "</ol>\n"
      ],
      "text/latex": [
       "\\begin{enumerate*}\n",
       "\\item 2018\n",
       "\\item 2019\n",
       "\\item 2020\n",
       "\\end{enumerate*}\n"
      ],
      "text/markdown": [
       "1. 2018\n",
       "2. 2019\n",
       "3. 2020\n",
       "\n",
       "\n"
      ],
      "text/plain": [
       "[1] 2018 2019 2020"
      ]
     },
     "metadata": {},
     "output_type": "display_data"
    }
   ],
   "source": [
    "tail(year,3)"
   ]
  },
  {
   "cell_type": "code",
   "execution_count": 50,
   "id": "324418ba-3cd5-44e6-98c5-81ab4cc8564d",
   "metadata": {},
   "outputs": [],
   "source": [
    "## Sort"
   ]
  },
  {
   "cell_type": "code",
   "execution_count": 19,
   "id": "bac6a487-2e48-4707-bf6b-e9a50f557b77",
   "metadata": {},
   "outputs": [
    {
     "data": {
      "text/html": [
       "<ol class=list-inline>\n",
       "\t<li>1995</li>\n",
       "\t<li>2000</li>\n",
       "\t<li>2015</li>\n",
       "\t<li>2017</li>\n",
       "\t<li>2018</li>\n",
       "\t<li>2019</li>\n",
       "\t<li>2020</li>\n",
       "\t<li>2023</li>\n",
       "</ol>\n"
      ],
      "text/latex": [
       "\\begin{enumerate*}\n",
       "\\item 1995\n",
       "\\item 2000\n",
       "\\item 2015\n",
       "\\item 2017\n",
       "\\item 2018\n",
       "\\item 2019\n",
       "\\item 2020\n",
       "\\item 2023\n",
       "\\end{enumerate*}\n"
      ],
      "text/markdown": [
       "1. 1995\n",
       "2. 2000\n",
       "3. 2015\n",
       "4. 2017\n",
       "5. 2018\n",
       "6. 2019\n",
       "7. 2020\n",
       "8. 2023\n",
       "\n",
       "\n"
      ],
      "text/plain": [
       "[1] 1995 2000 2015 2017 2018 2019 2020 2023"
      ]
     },
     "metadata": {},
     "output_type": "display_data"
    }
   ],
   "source": [
    "sort(year)"
   ]
  },
  {
   "cell_type": "code",
   "execution_count": 20,
   "id": "b643b328-a1bb-4d8f-9078-434754cc8f75",
   "metadata": {},
   "outputs": [
    {
     "data": {
      "text/html": [
       "<ol class=list-inline>\n",
       "\t<li>1995</li>\n",
       "\t<li>2000</li>\n",
       "\t<li>2015</li>\n",
       "\t<li>2017</li>\n",
       "\t<li>2018</li>\n",
       "\t<li>2019</li>\n",
       "\t<li>2020</li>\n",
       "\t<li>2023</li>\n",
       "</ol>\n"
      ],
      "text/latex": [
       "\\begin{enumerate*}\n",
       "\\item 1995\n",
       "\\item 2000\n",
       "\\item 2015\n",
       "\\item 2017\n",
       "\\item 2018\n",
       "\\item 2019\n",
       "\\item 2020\n",
       "\\item 2023\n",
       "\\end{enumerate*}\n"
      ],
      "text/markdown": [
       "1. 1995\n",
       "2. 2000\n",
       "3. 2015\n",
       "4. 2017\n",
       "5. 2018\n",
       "6. 2019\n",
       "7. 2020\n",
       "8. 2023\n",
       "\n",
       "\n"
      ],
      "text/plain": [
       "[1] 1995 2000 2015 2017 2018 2019 2020 2023"
      ]
     },
     "metadata": {},
     "output_type": "display_data"
    }
   ],
   "source": [
    "sort(year,decreasing=FALSE)"
   ]
  },
  {
   "cell_type": "code",
   "execution_count": 21,
   "id": "2230b1ac-9e96-48c8-949d-bab144bd53e9",
   "metadata": {},
   "outputs": [
    {
     "data": {
      "text/html": [
       "<ol class=list-inline>\n",
       "\t<li>2023</li>\n",
       "\t<li>2020</li>\n",
       "\t<li>2019</li>\n",
       "\t<li>2018</li>\n",
       "\t<li>2017</li>\n",
       "\t<li>2015</li>\n",
       "\t<li>2000</li>\n",
       "\t<li>1995</li>\n",
       "</ol>\n"
      ],
      "text/latex": [
       "\\begin{enumerate*}\n",
       "\\item 2023\n",
       "\\item 2020\n",
       "\\item 2019\n",
       "\\item 2018\n",
       "\\item 2017\n",
       "\\item 2015\n",
       "\\item 2000\n",
       "\\item 1995\n",
       "\\end{enumerate*}\n"
      ],
      "text/markdown": [
       "1. 2023\n",
       "2. 2020\n",
       "3. 2019\n",
       "4. 2018\n",
       "5. 2017\n",
       "6. 2015\n",
       "7. 2000\n",
       "8. 1995\n",
       "\n",
       "\n"
      ],
      "text/plain": [
       "[1] 2023 2020 2019 2018 2017 2015 2000 1995"
      ]
     },
     "metadata": {},
     "output_type": "display_data"
    }
   ],
   "source": [
    "sort(year,decreasing=TRUE)"
   ]
  },
  {
   "cell_type": "code",
   "execution_count": 52,
   "id": "dc1b4270-4ab4-4957-b7c7-2455ee23b837",
   "metadata": {},
   "outputs": [
    {
     "data": {
      "text/html": [
       "1995"
      ],
      "text/latex": [
       "1995"
      ],
      "text/markdown": [
       "1995"
      ],
      "text/plain": [
       "[1] 1995"
      ]
     },
     "metadata": {},
     "output_type": "display_data"
    }
   ],
   "source": [
    "min(year)"
   ]
  },
  {
   "cell_type": "code",
   "execution_count": 53,
   "id": "187a4a80-368d-4535-9c5c-94dc707f9c02",
   "metadata": {},
   "outputs": [
    {
     "data": {
      "text/html": [
       "2023"
      ],
      "text/latex": [
       "2023"
      ],
      "text/markdown": [
       "2023"
      ],
      "text/plain": [
       "[1] 2023"
      ]
     },
     "metadata": {},
     "output_type": "display_data"
    }
   ],
   "source": [
    "max(year)"
   ]
  },
  {
   "cell_type": "code",
   "execution_count": 55,
   "id": "e71cda3e-0f87-4345-970b-07c765113143",
   "metadata": {},
   "outputs": [
    {
     "data": {
      "text/html": [
       "2013.375"
      ],
      "text/latex": [
       "2013.375"
      ],
      "text/markdown": [
       "2013.375"
      ],
      "text/plain": [
       "[1] 2013.375"
      ]
     },
     "metadata": {},
     "output_type": "display_data"
    }
   ],
   "source": [
    "mean(year)   # Not Logical Here"
   ]
  },
  {
   "cell_type": "markdown",
   "id": "2de15a65-fcc4-40fd-81a1-3b8c36975861",
   "metadata": {},
   "source": [
    "### Giving Names to Values in a Vector"
   ]
  },
  {
   "cell_type": "code",
   "execution_count": 22,
   "id": "72c9a389-5480-47b7-967a-0f71831cf24e",
   "metadata": {},
   "outputs": [],
   "source": [
    "names(year)<-c(\"A\",\"B\",\"C\",\"D\",\"E\")"
   ]
  },
  {
   "cell_type": "code",
   "execution_count": 23,
   "id": "6502b171-3731-4aab-8403-c2ce2a86cc10",
   "metadata": {},
   "outputs": [
    {
     "data": {
      "text/html": [
       "<ol class=list-inline>\n",
       "\t<li>'A'</li>\n",
       "\t<li>'B'</li>\n",
       "\t<li>'C'</li>\n",
       "\t<li>'D'</li>\n",
       "\t<li>'E'</li>\n",
       "\t<li>NA</li>\n",
       "\t<li>NA</li>\n",
       "\t<li>NA</li>\n",
       "</ol>\n"
      ],
      "text/latex": [
       "\\begin{enumerate*}\n",
       "\\item 'A'\n",
       "\\item 'B'\n",
       "\\item 'C'\n",
       "\\item 'D'\n",
       "\\item 'E'\n",
       "\\item NA\n",
       "\\item NA\n",
       "\\item NA\n",
       "\\end{enumerate*}\n"
      ],
      "text/markdown": [
       "1. 'A'\n",
       "2. 'B'\n",
       "3. 'C'\n",
       "4. 'D'\n",
       "5. 'E'\n",
       "6. NA\n",
       "7. NA\n",
       "8. NA\n",
       "\n",
       "\n"
      ],
      "text/plain": [
       "[1] \"A\" \"B\" \"C\" \"D\" \"E\" NA  NA  NA "
      ]
     },
     "metadata": {},
     "output_type": "display_data"
    }
   ],
   "source": [
    "names(year)"
   ]
  },
  {
   "cell_type": "code",
   "execution_count": 24,
   "id": "d6d2a7df-f117-4d66-9d1f-db29bce2ec6c",
   "metadata": {},
   "outputs": [
    {
     "data": {
      "text/html": [
       "<dl class=dl-horizontal>\n",
       "\t<dt>A</dt>\n",
       "\t\t<dd>1995</dd>\n",
       "\t<dt>B</dt>\n",
       "\t\t<dd>2000</dd>\n",
       "\t<dt>C</dt>\n",
       "\t\t<dd>2015</dd>\n",
       "\t<dt>D</dt>\n",
       "\t\t<dd>2023</dd>\n",
       "\t<dt>E</dt>\n",
       "\t\t<dd>2017</dd>\n",
       "\t<dt>6</dt>\n",
       "\t\t<dd>2018</dd>\n",
       "\t<dt>7</dt>\n",
       "\t\t<dd>2019</dd>\n",
       "\t<dt>8</dt>\n",
       "\t\t<dd>2020</dd>\n",
       "</dl>\n"
      ],
      "text/latex": [
       "\\begin{description*}\n",
       "\\item[A] 1995\n",
       "\\item[B] 2000\n",
       "\\item[C] 2015\n",
       "\\item[D] 2023\n",
       "\\item[E] 2017\n",
       "\\item[6] 2018\n",
       "\\item[7] 2019\n",
       "\\item[8] 2020\n",
       "\\end{description*}\n"
      ],
      "text/markdown": [
       "A\n",
       ":   1995B\n",
       ":   2000C\n",
       ":   2015D\n",
       ":   2023E\n",
       ":   20176\n",
       ":   20187\n",
       ":   20198\n",
       ":   2020\n",
       "\n"
      ],
      "text/plain": [
       "   A    B    C    D    E <NA> <NA> <NA> \n",
       "1995 2000 2015 2023 2017 2018 2019 2020 "
      ]
     },
     "metadata": {},
     "output_type": "display_data"
    }
   ],
   "source": [
    "year"
   ]
  },
  {
   "cell_type": "code",
   "execution_count": 25,
   "id": "8f9136f0-f606-4e5a-a5aa-66e54aec184d",
   "metadata": {},
   "outputs": [],
   "source": [
    "names(year)<-c(\"A\",\"B\",\"C\",\"D\",\"E\",\"F\",\"G\",\"H\")"
   ]
  },
  {
   "cell_type": "code",
   "execution_count": 63,
   "id": "167249b4-0263-40d5-b2ba-56f3ce616cc5",
   "metadata": {},
   "outputs": [
    {
     "data": {
      "text/html": [
       "<dl class=dl-horizontal>\n",
       "\t<dt>A</dt>\n",
       "\t\t<dd>1995</dd>\n",
       "\t<dt>B</dt>\n",
       "\t\t<dd>2000</dd>\n",
       "\t<dt>C</dt>\n",
       "\t\t<dd>2015</dd>\n",
       "\t<dt>D</dt>\n",
       "\t\t<dd>2023</dd>\n",
       "\t<dt>E</dt>\n",
       "\t\t<dd>2017</dd>\n",
       "\t<dt>F</dt>\n",
       "\t\t<dd>2018</dd>\n",
       "\t<dt>G</dt>\n",
       "\t\t<dd>2019</dd>\n",
       "\t<dt>H</dt>\n",
       "\t\t<dd>2020</dd>\n",
       "</dl>\n"
      ],
      "text/latex": [
       "\\begin{description*}\n",
       "\\item[A] 1995\n",
       "\\item[B] 2000\n",
       "\\item[C] 2015\n",
       "\\item[D] 2023\n",
       "\\item[E] 2017\n",
       "\\item[F] 2018\n",
       "\\item[G] 2019\n",
       "\\item[H] 2020\n",
       "\\end{description*}\n"
      ],
      "text/markdown": [
       "A\n",
       ":   1995B\n",
       ":   2000C\n",
       ":   2015D\n",
       ":   2023E\n",
       ":   2017F\n",
       ":   2018G\n",
       ":   2019H\n",
       ":   2020\n",
       "\n"
      ],
      "text/plain": [
       "   A    B    C    D    E    F    G    H \n",
       "1995 2000 2015 2023 2017 2018 2019 2020 "
      ]
     },
     "metadata": {},
     "output_type": "display_data"
    }
   ],
   "source": [
    "year"
   ]
  },
  {
   "cell_type": "code",
   "execution_count": 26,
   "id": "fb124ccd-b57b-450d-a21a-d8f2b3280963",
   "metadata": {},
   "outputs": [
    {
     "data": {
      "text/html": [
       "<dl class=dl-horizontal>\n",
       "\t<dt>A</dt>\n",
       "\t\t<dd>1995</dd>\n",
       "\t<dt>C</dt>\n",
       "\t\t<dd>2015</dd>\n",
       "</dl>\n"
      ],
      "text/latex": [
       "\\begin{description*}\n",
       "\\item[A] 1995\n",
       "\\item[C] 2015\n",
       "\\end{description*}\n"
      ],
      "text/markdown": [
       "A\n",
       ":   1995C\n",
       ":   2015\n",
       "\n"
      ],
      "text/plain": [
       "   A    C \n",
       "1995 2015 "
      ]
     },
     "metadata": {},
     "output_type": "display_data"
    }
   ],
   "source": [
    "year[c(\"A\",\"C\")]"
   ]
  },
  {
   "cell_type": "code",
   "execution_count": 66,
   "id": "17c16a13-5d92-4311-ba96-7829237b8c63",
   "metadata": {},
   "outputs": [
    {
     "data": {
      "text/html": [
       "<dl class=dl-horizontal>\n",
       "\t<dt>A</dt>\n",
       "\t\t<dd>1995</dd>\n",
       "\t<dt>B</dt>\n",
       "\t\t<dd>2000</dd>\n",
       "\t<dt>C</dt>\n",
       "\t\t<dd>2015</dd>\n",
       "\t<dt>D</dt>\n",
       "\t\t<dd>2023</dd>\n",
       "\t<dt>E</dt>\n",
       "\t\t<dd>2017</dd>\n",
       "\t<dt>F</dt>\n",
       "\t\t<dd>2018</dd>\n",
       "\t<dt>G</dt>\n",
       "\t\t<dd>2019</dd>\n",
       "\t<dt>H</dt>\n",
       "\t\t<dd>2020</dd>\n",
       "</dl>\n"
      ],
      "text/latex": [
       "\\begin{description*}\n",
       "\\item[A] 1995\n",
       "\\item[B] 2000\n",
       "\\item[C] 2015\n",
       "\\item[D] 2023\n",
       "\\item[E] 2017\n",
       "\\item[F] 2018\n",
       "\\item[G] 2019\n",
       "\\item[H] 2020\n",
       "\\end{description*}\n"
      ],
      "text/markdown": [
       "A\n",
       ":   1995B\n",
       ":   2000C\n",
       ":   2015D\n",
       ":   2023E\n",
       ":   2017F\n",
       ":   2018G\n",
       ":   2019H\n",
       ":   2020\n",
       "\n"
      ],
      "text/plain": [
       "   A    B    C    D    E    F    G    H \n",
       "1995 2000 2015 2023 2017 2018 2019 2020 "
      ]
     },
     "metadata": {},
     "output_type": "display_data"
    }
   ],
   "source": [
    "year"
   ]
  },
  {
   "cell_type": "code",
   "execution_count": 27,
   "id": "920c28b6-a540-42fa-b25b-c8d8a84deed8",
   "metadata": {},
   "outputs": [
    {
     "data": {
      "text/plain": [
       "   Min. 1st Qu.  Median    Mean 3rd Qu.    Max. \n",
       "   1995    2011    2018    2013    2019    2023 "
      ]
     },
     "metadata": {},
     "output_type": "display_data"
    }
   ],
   "source": [
    "summary(year)"
   ]
  },
  {
   "cell_type": "markdown",
   "id": "ad6ebb15-14dd-4371-b750-2e9556fa9242",
   "metadata": {},
   "source": [
    "### Logical Operations on Vectors"
   ]
  },
  {
   "cell_type": "code",
   "execution_count": 35,
   "id": "e21be6d4-bc1d-4cd9-b6ed-1a2a69252b00",
   "metadata": {},
   "outputs": [
    {
     "data": {
      "text/html": [
       "FALSE"
      ],
      "text/latex": [
       "FALSE"
      ],
      "text/markdown": [
       "FALSE"
      ],
      "text/plain": [
       "[1] FALSE"
      ]
     },
     "metadata": {},
     "output_type": "display_data"
    }
   ],
   "source": [
    "x <- 1997\n",
    "x > 2000"
   ]
  },
  {
   "cell_type": "code",
   "execution_count": 36,
   "id": "12b637e7-cf71-4e74-840b-43a0a2ccf1b8",
   "metadata": {},
   "outputs": [],
   "source": [
    "movie_years<-c(2001,2002,2008,2017)\n"
   ]
  },
  {
   "cell_type": "code",
   "execution_count": 37,
   "id": "522742f4-a84b-4d8b-9d82-ee9c142bcad6",
   "metadata": {},
   "outputs": [
    {
     "data": {
      "text/html": [
       "<ol class=list-inline>\n",
       "\t<li>FALSE</li>\n",
       "\t<li>TRUE</li>\n",
       "\t<li>TRUE</li>\n",
       "\t<li>TRUE</li>\n",
       "</ol>\n"
      ],
      "text/latex": [
       "\\begin{enumerate*}\n",
       "\\item FALSE\n",
       "\\item TRUE\n",
       "\\item TRUE\n",
       "\\item TRUE\n",
       "\\end{enumerate*}\n"
      ],
      "text/markdown": [
       "1. FALSE\n",
       "2. TRUE\n",
       "3. TRUE\n",
       "4. TRUE\n",
       "\n",
       "\n"
      ],
      "text/plain": [
       "[1] FALSE  TRUE  TRUE  TRUE"
      ]
     },
     "metadata": {},
     "output_type": "display_data"
    }
   ],
   "source": [
    "movie_years > 2001"
   ]
  },
  {
   "cell_type": "code",
   "execution_count": 39,
   "id": "9e6b3c0b-3f08-49ad-bdc5-510ec4049efe",
   "metadata": {},
   "outputs": [
    {
     "data": {
      "text/html": [
       "<ol class=list-inline>\n",
       "\t<li>FALSE</li>\n",
       "\t<li>FALSE</li>\n",
       "\t<li>FALSE</li>\n",
       "\t<li>FALSE</li>\n",
       "</ol>\n"
      ],
      "text/latex": [
       "\\begin{enumerate*}\n",
       "\\item FALSE\n",
       "\\item FALSE\n",
       "\\item FALSE\n",
       "\\item FALSE\n",
       "\\end{enumerate*}\n"
      ],
      "text/markdown": [
       "1. FALSE\n",
       "2. FALSE\n",
       "3. FALSE\n",
       "4. FALSE\n",
       "\n",
       "\n"
      ],
      "text/plain": [
       "[1] FALSE FALSE FALSE FALSE"
      ]
     },
     "metadata": {},
     "output_type": "display_data"
    }
   ],
   "source": [
    "movie_years == 2015 # is equal to 2015?"
   ]
  },
  {
   "cell_type": "code",
   "execution_count": 40,
   "id": "dee689aa-4044-4843-a35d-e601278370cc",
   "metadata": {},
   "outputs": [
    {
     "data": {
      "text/html": [
       "<ol class=list-inline>\n",
       "\t<li>TRUE</li>\n",
       "\t<li>TRUE</li>\n",
       "\t<li>TRUE</li>\n",
       "\t<li>TRUE</li>\n",
       "</ol>\n"
      ],
      "text/latex": [
       "\\begin{enumerate*}\n",
       "\\item TRUE\n",
       "\\item TRUE\n",
       "\\item TRUE\n",
       "\\item TRUE\n",
       "\\end{enumerate*}\n"
      ],
      "text/markdown": [
       "1. TRUE\n",
       "2. TRUE\n",
       "3. TRUE\n",
       "4. TRUE\n",
       "\n",
       "\n"
      ],
      "text/plain": [
       "[1] TRUE TRUE TRUE TRUE"
      ]
     },
     "metadata": {},
     "output_type": "display_data"
    }
   ],
   "source": [
    "movie_years != 2015 # is equal to 2015?"
   ]
  },
  {
   "cell_type": "markdown",
   "id": "8aff1801-2d75-49e9-a2ad-411900ada52a",
   "metadata": {},
   "source": [
    "### Subsetting Vectors"
   ]
  },
  {
   "cell_type": "code",
   "execution_count": 41,
   "id": "1139e500-05f5-4bbf-bbab-f77c80b22334",
   "metadata": {},
   "outputs": [
    {
     "data": {
      "text/html": [
       "2002"
      ],
      "text/latex": [
       "2002"
      ],
      "text/markdown": [
       "2002"
      ],
      "text/plain": [
       "[1] 2002"
      ]
     },
     "metadata": {},
     "output_type": "display_data"
    }
   ],
   "source": [
    "movie_years[2]"
   ]
  },
  {
   "cell_type": "code",
   "execution_count": 42,
   "id": "e8a1726f-da19-44a0-b061-34302b74adb7",
   "metadata": {},
   "outputs": [
    {
     "data": {
      "text/html": [
       "<ol class=list-inline>\n",
       "\t<li>2001</li>\n",
       "\t<li>2008</li>\n",
       "</ol>\n"
      ],
      "text/latex": [
       "\\begin{enumerate*}\n",
       "\\item 2001\n",
       "\\item 2008\n",
       "\\end{enumerate*}\n"
      ],
      "text/markdown": [
       "1. 2001\n",
       "2. 2008\n",
       "\n",
       "\n"
      ],
      "text/plain": [
       "[1] 2001 2008"
      ]
     },
     "metadata": {},
     "output_type": "display_data"
    }
   ],
   "source": [
    "movie_years[c(1,3)] #first and third items"
   ]
  },
  {
   "cell_type": "code",
   "execution_count": 43,
   "id": "31f0556c-c0b9-4427-9f7b-8daad53937d9",
   "metadata": {},
   "outputs": [
    {
     "data": {
      "text/html": [
       "<ol class=list-inline>\n",
       "\t<li>2001</li>\n",
       "\t<li>2002</li>\n",
       "\t<li>2008</li>\n",
       "</ol>\n"
      ],
      "text/latex": [
       "\\begin{enumerate*}\n",
       "\\item 2001\n",
       "\\item 2002\n",
       "\\item 2008\n",
       "\\end{enumerate*}\n"
      ],
      "text/markdown": [
       "1. 2001\n",
       "2. 2002\n",
       "3. 2008\n",
       "\n",
       "\n"
      ],
      "text/plain": [
       "[1] 2001 2002 2008"
      ]
     },
     "metadata": {},
     "output_type": "display_data"
    }
   ],
   "source": [
    "movie_years[1:3]"
   ]
  },
  {
   "cell_type": "code",
   "execution_count": 44,
   "id": "096aab32-4678-48e4-88e4-98ad8e110947",
   "metadata": {},
   "outputs": [
    {
     "data": {
      "text/html": [
       "<ol class=list-inline>\n",
       "\t<li>2001</li>\n",
       "\t<li>2002</li>\n",
       "\t<li>2008</li>\n",
       "\t<li>2017</li>\n",
       "</ol>\n"
      ],
      "text/latex": [
       "\\begin{enumerate*}\n",
       "\\item 2001\n",
       "\\item 2002\n",
       "\\item 2008\n",
       "\\item 2017\n",
       "\\end{enumerate*}\n"
      ],
      "text/markdown": [
       "1. 2001\n",
       "2. 2002\n",
       "3. 2008\n",
       "4. 2017\n",
       "\n",
       "\n"
      ],
      "text/plain": [
       "[1] 2001 2002 2008 2017"
      ]
     },
     "metadata": {},
     "output_type": "display_data"
    }
   ],
   "source": [
    "movie_years"
   ]
  },
  {
   "cell_type": "code",
   "execution_count": 45,
   "id": "db1e7a1d-8c3f-4534-9091-3b49bfb47b6b",
   "metadata": {},
   "outputs": [],
   "source": [
    "# Removing Elements"
   ]
  },
  {
   "cell_type": "code",
   "execution_count": 46,
   "id": "7d8e224a-bbb9-4dd3-9f83-42fa452f94dd",
   "metadata": {},
   "outputs": [
    {
     "data": {
      "text/html": [
       "<ol class=list-inline>\n",
       "\t<li>2002</li>\n",
       "\t<li>2008</li>\n",
       "\t<li>2017</li>\n",
       "</ol>\n"
      ],
      "text/latex": [
       "\\begin{enumerate*}\n",
       "\\item 2002\n",
       "\\item 2008\n",
       "\\item 2017\n",
       "\\end{enumerate*}\n"
      ],
      "text/markdown": [
       "1. 2002\n",
       "2. 2008\n",
       "3. 2017\n",
       "\n",
       "\n"
      ],
      "text/plain": [
       "[1] 2002 2008 2017"
      ]
     },
     "metadata": {},
     "output_type": "display_data"
    }
   ],
   "source": [
    "movie_years[-1]"
   ]
  },
  {
   "cell_type": "code",
   "execution_count": 47,
   "id": "b46133b4-1141-4f72-ac17-ce60e9be6a05",
   "metadata": {},
   "outputs": [
    {
     "data": {
      "text/html": [
       "<ol class=list-inline>\n",
       "\t<li>2001</li>\n",
       "\t<li>2002</li>\n",
       "\t<li>2008</li>\n",
       "\t<li>2017</li>\n",
       "</ol>\n"
      ],
      "text/latex": [
       "\\begin{enumerate*}\n",
       "\\item 2001\n",
       "\\item 2002\n",
       "\\item 2008\n",
       "\\item 2017\n",
       "\\end{enumerate*}\n"
      ],
      "text/markdown": [
       "1. 2001\n",
       "2. 2002\n",
       "3. 2008\n",
       "4. 2017\n",
       "\n",
       "\n"
      ],
      "text/plain": [
       "[1] 2001 2002 2008 2017"
      ]
     },
     "metadata": {},
     "output_type": "display_data"
    }
   ],
   "source": [
    "movie_years"
   ]
  },
  {
   "cell_type": "code",
   "execution_count": 48,
   "id": "40d384a3-9dd5-4d8e-b66e-bd22019a48ac",
   "metadata": {},
   "outputs": [
    {
     "data": {
      "text/html": [
       "<ol class=list-inline>\n",
       "\t<li>2001</li>\n",
       "\t<li>2008</li>\n",
       "\t<li>2017</li>\n",
       "</ol>\n"
      ],
      "text/latex": [
       "\\begin{enumerate*}\n",
       "\\item 2001\n",
       "\\item 2008\n",
       "\\item 2017\n",
       "\\end{enumerate*}\n"
      ],
      "text/markdown": [
       "1. 2001\n",
       "2. 2008\n",
       "3. 2017\n",
       "\n",
       "\n"
      ],
      "text/plain": [
       "[1] 2001 2008 2017"
      ]
     },
     "metadata": {},
     "output_type": "display_data"
    }
   ],
   "source": [
    "movie_years[-2]"
   ]
  },
  {
   "cell_type": "code",
   "execution_count": 51,
   "id": "e686332a-ddc3-4fc0-9042-fddc4a576dae",
   "metadata": {},
   "outputs": [
    {
     "data": {
      "text/html": [
       "<ol class=list-inline>\n",
       "\t<li>2001</li>\n",
       "\t<li>2002</li>\n",
       "\t<li>2008</li>\n",
       "\t<li>2017</li>\n",
       "</ol>\n"
      ],
      "text/latex": [
       "\\begin{enumerate*}\n",
       "\\item 2001\n",
       "\\item 2002\n",
       "\\item 2008\n",
       "\\item 2017\n",
       "\\end{enumerate*}\n"
      ],
      "text/markdown": [
       "1. 2001\n",
       "2. 2002\n",
       "3. 2008\n",
       "4. 2017\n",
       "\n",
       "\n"
      ],
      "text/plain": [
       "[1] 2001 2002 2008 2017"
      ]
     },
     "metadata": {},
     "output_type": "display_data"
    }
   ],
   "source": [
    "movie_years"
   ]
  },
  {
   "cell_type": "code",
   "execution_count": 52,
   "id": "d8e1d63f-1c25-47c1-a0c9-3d5da95e2de6",
   "metadata": {},
   "outputs": [
    {
     "data": {
      "text/html": [
       "<ol class=list-inline>\n",
       "\t<li>2002</li>\n",
       "\t<li>2008</li>\n",
       "\t<li>2017</li>\n",
       "</ol>\n"
      ],
      "text/latex": [
       "\\begin{enumerate*}\n",
       "\\item 2002\n",
       "\\item 2008\n",
       "\\item 2017\n",
       "\\end{enumerate*}\n"
      ],
      "text/markdown": [
       "1. 2002\n",
       "2. 2008\n",
       "3. 2017\n",
       "\n",
       "\n"
      ],
      "text/plain": [
       "[1] 2002 2008 2017"
      ]
     },
     "metadata": {},
     "output_type": "display_data"
    }
   ],
   "source": [
    "movie_years[-c(1)]"
   ]
  },
  {
   "cell_type": "code",
   "execution_count": 53,
   "id": "52e73bcd-3c45-4c76-a07a-bcfce28d9dec",
   "metadata": {},
   "outputs": [
    {
     "data": {
      "text/html": [
       "<ol class=list-inline>\n",
       "\t<li>2002</li>\n",
       "\t<li>2008</li>\n",
       "\t<li>2017</li>\n",
       "</ol>\n"
      ],
      "text/latex": [
       "\\begin{enumerate*}\n",
       "\\item 2002\n",
       "\\item 2008\n",
       "\\item 2017\n",
       "\\end{enumerate*}\n"
      ],
      "text/markdown": [
       "1. 2002\n",
       "2. 2008\n",
       "3. 2017\n",
       "\n",
       "\n"
      ],
      "text/plain": [
       "[1] 2002 2008 2017"
      ]
     },
     "metadata": {},
     "output_type": "display_data"
    }
   ],
   "source": [
    "movie_years[c(-1)]"
   ]
  },
  {
   "cell_type": "code",
   "execution_count": 55,
   "id": "1d0f94e9-7323-4e9f-accc-e5df998ab83f",
   "metadata": {},
   "outputs": [],
   "source": [
    "titles <- c(\"Black Swan\", \"Jumanji\", \"City of God\", \"Toy Story\", \"Casino\")\n"
   ]
  },
  {
   "cell_type": "code",
   "execution_count": 56,
   "id": "b1778d77-155a-4dc4-b37f-4df459a9d30d",
   "metadata": {},
   "outputs": [
    {
     "data": {
      "text/html": [
       "<ol class=list-inline>\n",
       "\t<li>'Black Swan'</li>\n",
       "\t<li>'Jumanji'</li>\n",
       "\t<li>'City of God'</li>\n",
       "\t<li>'Toy Story'</li>\n",
       "\t<li>'Casino'</li>\n",
       "</ol>\n"
      ],
      "text/latex": [
       "\\begin{enumerate*}\n",
       "\\item 'Black Swan'\n",
       "\\item 'Jumanji'\n",
       "\\item 'City of God'\n",
       "\\item 'Toy Story'\n",
       "\\item 'Casino'\n",
       "\\end{enumerate*}\n"
      ],
      "text/markdown": [
       "1. 'Black Swan'\n",
       "2. 'Jumanji'\n",
       "3. 'City of God'\n",
       "4. 'Toy Story'\n",
       "5. 'Casino'\n",
       "\n",
       "\n"
      ],
      "text/plain": [
       "[1] \"Black Swan\"  \"Jumanji\"     \"City of God\" \"Toy Story\"   \"Casino\"     "
      ]
     },
     "metadata": {},
     "output_type": "display_data"
    }
   ],
   "source": [
    "titles"
   ]
  },
  {
   "cell_type": "code",
   "execution_count": 57,
   "id": "beceef6d-9192-4817-a36d-07910cce199c",
   "metadata": {},
   "outputs": [
    {
     "data": {
      "text/html": [
       "<ol class=list-inline>\n",
       "\t<li>'Jumanji'</li>\n",
       "\t<li>'City of God'</li>\n",
       "\t<li>'Toy Story'</li>\n",
       "\t<li>'Casino'</li>\n",
       "</ol>\n"
      ],
      "text/latex": [
       "\\begin{enumerate*}\n",
       "\\item 'Jumanji'\n",
       "\\item 'City of God'\n",
       "\\item 'Toy Story'\n",
       "\\item 'Casino'\n",
       "\\end{enumerate*}\n"
      ],
      "text/markdown": [
       "1. 'Jumanji'\n",
       "2. 'City of God'\n",
       "3. 'Toy Story'\n",
       "4. 'Casino'\n",
       "\n",
       "\n"
      ],
      "text/plain": [
       "[1] \"Jumanji\"     \"City of God\" \"Toy Story\"   \"Casino\"     "
      ]
     },
     "metadata": {},
     "output_type": "display_data"
    }
   ],
   "source": [
    "titles[-1]"
   ]
  },
  {
   "cell_type": "markdown",
   "id": "dfbec587-275e-4c71-9b56-18c37d603b64",
   "metadata": {},
   "source": [
    "**Missing Values (NA)**"
   ]
  },
  {
   "cell_type": "code",
   "execution_count": 58,
   "id": "b024f854-41fc-444f-bc34-b6edc1414c59",
   "metadata": {},
   "outputs": [
    {
     "data": {
      "text/html": [
       "<ol class=list-inline>\n",
       "\t<li>14</li>\n",
       "\t<li>12</li>\n",
       "\t<li>10</li>\n",
       "\t<li>&lt;NA&gt;</li>\n",
       "\t<li>18</li>\n",
       "\t<li>&lt;NA&gt;</li>\n",
       "</ol>\n"
      ],
      "text/latex": [
       "\\begin{enumerate*}\n",
       "\\item 14\n",
       "\\item 12\n",
       "\\item 10\n",
       "\\item <NA>\n",
       "\\item 18\n",
       "\\item <NA>\n",
       "\\end{enumerate*}\n"
      ],
      "text/markdown": [
       "1. 14\n",
       "2. 12\n",
       "3. 10\n",
       "4. &lt;NA&gt;\n",
       "5. 18\n",
       "6. &lt;NA&gt;\n",
       "\n",
       "\n"
      ],
      "text/plain": [
       "[1] 14 12 10 NA 18 NA"
      ]
     },
     "metadata": {},
     "output_type": "display_data"
    }
   ],
   "source": [
    "age_restric <- c(14, 12, 10, NA, 18, NA)\n",
    "age_restric"
   ]
  },
  {
   "cell_type": "code",
   "execution_count": 59,
   "id": "2d936f2c-8213-4581-aff2-39a2f3a4fcfe",
   "metadata": {},
   "outputs": [
    {
     "data": {
      "text/html": [
       "<ol class=list-inline>\n",
       "\t<li>FALSE</li>\n",
       "\t<li>FALSE</li>\n",
       "\t<li>FALSE</li>\n",
       "\t<li>TRUE</li>\n",
       "\t<li>FALSE</li>\n",
       "\t<li>TRUE</li>\n",
       "</ol>\n"
      ],
      "text/latex": [
       "\\begin{enumerate*}\n",
       "\\item FALSE\n",
       "\\item FALSE\n",
       "\\item FALSE\n",
       "\\item TRUE\n",
       "\\item FALSE\n",
       "\\item TRUE\n",
       "\\end{enumerate*}\n"
      ],
      "text/markdown": [
       "1. FALSE\n",
       "2. FALSE\n",
       "3. FALSE\n",
       "4. TRUE\n",
       "5. FALSE\n",
       "6. TRUE\n",
       "\n",
       "\n"
      ],
      "text/plain": [
       "[1] FALSE FALSE FALSE  TRUE FALSE  TRUE"
      ]
     },
     "metadata": {},
     "output_type": "display_data"
    }
   ],
   "source": [
    "is.na(age_restric)"
   ]
  },
  {
   "cell_type": "code",
   "execution_count": 60,
   "id": "6d81214d-540e-48f5-a6fd-d51a01d1b73a",
   "metadata": {},
   "outputs": [
    {
     "data": {
      "text/html": [
       "<ol class=list-inline>\n",
       "\t<li>TRUE</li>\n",
       "\t<li>TRUE</li>\n",
       "\t<li>TRUE</li>\n",
       "\t<li>FALSE</li>\n",
       "\t<li>TRUE</li>\n",
       "\t<li>FALSE</li>\n",
       "</ol>\n"
      ],
      "text/latex": [
       "\\begin{enumerate*}\n",
       "\\item TRUE\n",
       "\\item TRUE\n",
       "\\item TRUE\n",
       "\\item FALSE\n",
       "\\item TRUE\n",
       "\\item FALSE\n",
       "\\end{enumerate*}\n"
      ],
      "text/markdown": [
       "1. TRUE\n",
       "2. TRUE\n",
       "3. TRUE\n",
       "4. FALSE\n",
       "5. TRUE\n",
       "6. FALSE\n",
       "\n",
       "\n"
      ],
      "text/plain": [
       "[1]  TRUE  TRUE  TRUE FALSE  TRUE FALSE"
      ]
     },
     "metadata": {},
     "output_type": "display_data"
    }
   ],
   "source": [
    "!is.na(age_restric)"
   ]
  },
  {
   "cell_type": "code",
   "execution_count": 61,
   "id": "4fbb5259-25a7-4a6a-b03c-bb4f78255913",
   "metadata": {},
   "outputs": [
    {
     "data": {
      "text/html": [
       "<dl class=dl-horizontal>\n",
       "\t<dt>A</dt>\n",
       "\t\t<dd>1995</dd>\n",
       "\t<dt>B</dt>\n",
       "\t\t<dd>2000</dd>\n",
       "\t<dt>C</dt>\n",
       "\t\t<dd>2015</dd>\n",
       "\t<dt>D</dt>\n",
       "\t\t<dd>2023</dd>\n",
       "\t<dt>E</dt>\n",
       "\t\t<dd>2017</dd>\n",
       "\t<dt>F</dt>\n",
       "\t\t<dd>2018</dd>\n",
       "\t<dt>G</dt>\n",
       "\t\t<dd>2019</dd>\n",
       "\t<dt>H</dt>\n",
       "\t\t<dd>2020</dd>\n",
       "</dl>\n"
      ],
      "text/latex": [
       "\\begin{description*}\n",
       "\\item[A] 1995\n",
       "\\item[B] 2000\n",
       "\\item[C] 2015\n",
       "\\item[D] 2023\n",
       "\\item[E] 2017\n",
       "\\item[F] 2018\n",
       "\\item[G] 2019\n",
       "\\item[H] 2020\n",
       "\\end{description*}\n"
      ],
      "text/markdown": [
       "A\n",
       ":   1995B\n",
       ":   2000C\n",
       ":   2015D\n",
       ":   2023E\n",
       ":   2017F\n",
       ":   2018G\n",
       ":   2019H\n",
       ":   2020\n",
       "\n"
      ],
      "text/plain": [
       "   A    B    C    D    E    F    G    H \n",
       "1995 2000 2015 2023 2017 2018 2019 2020 "
      ]
     },
     "metadata": {},
     "output_type": "display_data"
    }
   ],
   "source": [
    "year"
   ]
  },
  {
   "cell_type": "code",
   "execution_count": 62,
   "id": "0a60e87b-e82f-407c-8c83-7602bb625518",
   "metadata": {},
   "outputs": [
    {
     "data": {
      "text/html": [
       "<dl class=dl-horizontal>\n",
       "\t<dt>A</dt>\n",
       "\t\t<dd>FALSE</dd>\n",
       "\t<dt>B</dt>\n",
       "\t\t<dd>FALSE</dd>\n",
       "\t<dt>C</dt>\n",
       "\t\t<dd>TRUE</dd>\n",
       "\t<dt>D</dt>\n",
       "\t\t<dd>TRUE</dd>\n",
       "\t<dt>E</dt>\n",
       "\t\t<dd>TRUE</dd>\n",
       "\t<dt>F</dt>\n",
       "\t\t<dd>TRUE</dd>\n",
       "\t<dt>G</dt>\n",
       "\t\t<dd>TRUE</dd>\n",
       "\t<dt>H</dt>\n",
       "\t\t<dd>TRUE</dd>\n",
       "</dl>\n"
      ],
      "text/latex": [
       "\\begin{description*}\n",
       "\\item[A] FALSE\n",
       "\\item[B] FALSE\n",
       "\\item[C] TRUE\n",
       "\\item[D] TRUE\n",
       "\\item[E] TRUE\n",
       "\\item[F] TRUE\n",
       "\\item[G] TRUE\n",
       "\\item[H] TRUE\n",
       "\\end{description*}\n"
      ],
      "text/markdown": [
       "A\n",
       ":   FALSEB\n",
       ":   FALSEC\n",
       ":   TRUED\n",
       ":   TRUEE\n",
       ":   TRUEF\n",
       ":   TRUEG\n",
       ":   TRUEH\n",
       ":   TRUE\n",
       "\n"
      ],
      "text/plain": [
       "    A     B     C     D     E     F     G     H \n",
       "FALSE FALSE  TRUE  TRUE  TRUE  TRUE  TRUE  TRUE "
      ]
     },
     "metadata": {},
     "output_type": "display_data"
    }
   ],
   "source": [
    "year > 2000"
   ]
  },
  {
   "cell_type": "code",
   "execution_count": 63,
   "id": "15763b9b-0e35-401b-8c5d-699253ef4768",
   "metadata": {},
   "outputs": [
    {
     "data": {
      "text/html": [
       "<ol class=list-inline>\n",
       "\t<li>2001</li>\n",
       "\t<li>2002</li>\n",
       "\t<li>2008</li>\n",
       "\t<li>2017</li>\n",
       "</ol>\n"
      ],
      "text/latex": [
       "\\begin{enumerate*}\n",
       "\\item 2001\n",
       "\\item 2002\n",
       "\\item 2008\n",
       "\\item 2017\n",
       "\\end{enumerate*}\n"
      ],
      "text/markdown": [
       "1. 2001\n",
       "2. 2002\n",
       "3. 2008\n",
       "4. 2017\n",
       "\n",
       "\n"
      ],
      "text/plain": [
       "[1] 2001 2002 2008 2017"
      ]
     },
     "metadata": {},
     "output_type": "display_data"
    }
   ],
   "source": [
    "movie_years"
   ]
  },
  {
   "cell_type": "code",
   "execution_count": 64,
   "id": "3f456338-5f16-4213-9b65-072d07109ab6",
   "metadata": {},
   "outputs": [
    {
     "data": {
      "text/html": [
       "<dl class=dl-horizontal>\n",
       "\t<dt>A</dt>\n",
       "\t\t<dd>1995</dd>\n",
       "\t<dt>B</dt>\n",
       "\t\t<dd>2000</dd>\n",
       "\t<dt>C</dt>\n",
       "\t\t<dd>2015</dd>\n",
       "\t<dt>D</dt>\n",
       "\t\t<dd>2023</dd>\n",
       "\t<dt>E</dt>\n",
       "\t\t<dd>2017</dd>\n",
       "\t<dt>F</dt>\n",
       "\t\t<dd>2018</dd>\n",
       "\t<dt>G</dt>\n",
       "\t\t<dd>2019</dd>\n",
       "\t<dt>H</dt>\n",
       "\t\t<dd>2020</dd>\n",
       "</dl>\n"
      ],
      "text/latex": [
       "\\begin{description*}\n",
       "\\item[A] 1995\n",
       "\\item[B] 2000\n",
       "\\item[C] 2015\n",
       "\\item[D] 2023\n",
       "\\item[E] 2017\n",
       "\\item[F] 2018\n",
       "\\item[G] 2019\n",
       "\\item[H] 2020\n",
       "\\end{description*}\n"
      ],
      "text/markdown": [
       "A\n",
       ":   1995B\n",
       ":   2000C\n",
       ":   2015D\n",
       ":   2023E\n",
       ":   2017F\n",
       ":   2018G\n",
       ":   2019H\n",
       ":   2020\n",
       "\n"
      ],
      "text/plain": [
       "   A    B    C    D    E    F    G    H \n",
       "1995 2000 2015 2023 2017 2018 2019 2020 "
      ]
     },
     "metadata": {},
     "output_type": "display_data"
    }
   ],
   "source": [
    "year[movie_years > 2000] "
   ]
  },
  {
   "cell_type": "markdown",
   "id": "4081d154-f556-4766-a0de-08a8d7c487e0",
   "metadata": {},
   "source": [
    "## Factors"
   ]
  },
  {
   "cell_type": "code",
   "execution_count": null,
   "id": "22c4ecbf-ab90-4ee7-88a3-5441faa44557",
   "metadata": {},
   "outputs": [],
   "source": [
    "genre_vector <- c(\"Comedy\", \"Animation\", \"Crime\", \"Comedy\", \"Animation\")\n",
    "genre_vector"
   ]
  }
 ],
 "metadata": {
  "kernelspec": {
   "display_name": "R",
   "language": "R",
   "name": "ir"
  },
  "language_info": {
   "codemirror_mode": "r",
   "file_extension": ".r",
   "mimetype": "text/x-r-source",
   "name": "R",
   "pygments_lexer": "r",
   "version": "3.6.1"
  }
 },
 "nbformat": 4,
 "nbformat_minor": 5
}
