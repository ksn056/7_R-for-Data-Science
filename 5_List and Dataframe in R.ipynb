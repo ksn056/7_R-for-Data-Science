{
 "cells": [
  {
   "cell_type": "markdown",
   "id": "77b6259e-7734-4472-80e6-a5fe272dd308",
   "metadata": {},
   "source": [
    "#### LISTS and DATAFRAMES in R"
   ]
  },
  {
   "cell_type": "markdown",
   "id": "9b513b6c-de8a-4702-8d26-4f9883be182f",
   "metadata": {},
   "source": [
    "A list is a sequenced collection of different objects of R, like vectors, numbers, characters, other lists as well, and so on. \n",
    "List as a container of correlated information, well structured and easy to read. "
   ]
  },
  {
   "cell_type": "code",
   "execution_count": 1,
   "id": "67fcf1cf-246a-4f8c-a4f2-c1cd28c8e185",
   "metadata": {},
   "outputs": [],
   "source": [
    "movie <- list(\"Toy Story\", 1995, c(\"Animation\", \"Adventure\", \"Comedy\"))"
   ]
  },
  {
   "cell_type": "code",
   "execution_count": 2,
   "id": "f550ffdd-e8f6-4fb2-81c7-722c6b2fcf5d",
   "metadata": {},
   "outputs": [
    {
     "data": {
      "text/html": [
       "'list'"
      ],
      "text/latex": [
       "'list'"
      ],
      "text/markdown": [
       "'list'"
      ],
      "text/plain": [
       "[1] \"list\""
      ]
     },
     "metadata": {},
     "output_type": "display_data"
    }
   ],
   "source": [
    "class(movie)"
   ]
  },
  {
   "cell_type": "code",
   "execution_count": 3,
   "id": "a4f2e943-ac69-4467-b076-b5ceb24e4cf3",
   "metadata": {},
   "outputs": [
    {
     "data": {
      "text/html": [
       "'list'"
      ],
      "text/latex": [
       "'list'"
      ],
      "text/markdown": [
       "'list'"
      ],
      "text/plain": [
       "[1] \"list\""
      ]
     },
     "metadata": {},
     "output_type": "display_data"
    }
   ],
   "source": [
    "typeof(movie[0])"
   ]
  },
  {
   "cell_type": "code",
   "execution_count": 4,
   "id": "4dc30ece-de0b-460b-b99c-54903b522b3c",
   "metadata": {},
   "outputs": [
    {
     "data": {
      "text/html": [
       "<ol>\n",
       "\t<li>'Toy Story'</li>\n",
       "\t<li>1995</li>\n",
       "\t<li><ol class=list-inline>\n",
       "\t<li>'Animation'</li>\n",
       "\t<li>'Adventure'</li>\n",
       "\t<li>'Comedy'</li>\n",
       "</ol>\n",
       "</li>\n",
       "</ol>\n"
      ],
      "text/latex": [
       "\\begin{enumerate}\n",
       "\\item 'Toy Story'\n",
       "\\item 1995\n",
       "\\item \\begin{enumerate*}\n",
       "\\item 'Animation'\n",
       "\\item 'Adventure'\n",
       "\\item 'Comedy'\n",
       "\\end{enumerate*}\n",
       "\n",
       "\\end{enumerate}\n"
      ],
      "text/markdown": [
       "1. 'Toy Story'\n",
       "2. 1995\n",
       "3. 1. 'Animation'\n",
       "2. 'Adventure'\n",
       "3. 'Comedy'\n",
       "\n",
       "\n",
       "\n",
       "\n",
       "\n"
      ],
      "text/plain": [
       "[[1]]\n",
       "[1] \"Toy Story\"\n",
       "\n",
       "[[2]]\n",
       "[1] 1995\n",
       "\n",
       "[[3]]\n",
       "[1] \"Animation\" \"Adventure\" \"Comedy\"   \n"
      ]
     },
     "metadata": {},
     "output_type": "display_data"
    }
   ],
   "source": [
    "movie"
   ]
  },
  {
   "cell_type": "code",
   "execution_count": 5,
   "id": "6ae98d67-9afe-40aa-9308-76ccb3e872e0",
   "metadata": {},
   "outputs": [
    {
     "data": {
      "text/html": [
       "<ol>\n",
       "</ol>\n"
      ],
      "text/latex": [
       "\\begin{enumerate}\n",
       "\\end{enumerate}\n"
      ],
      "text/markdown": [
       "\n",
       "\n"
      ],
      "text/plain": [
       "list()"
      ]
     },
     "metadata": {},
     "output_type": "display_data"
    }
   ],
   "source": [
    "movie[0]"
   ]
  },
  {
   "cell_type": "code",
   "execution_count": 6,
   "id": "46c0a8f8-bcd4-4b2b-9c77-9424020ac89b",
   "metadata": {},
   "outputs": [
    {
     "data": {
      "text/html": [
       "<ol>\n",
       "\t<li>'Toy Story'</li>\n",
       "</ol>\n"
      ],
      "text/latex": [
       "\\begin{enumerate}\n",
       "\\item 'Toy Story'\n",
       "\\end{enumerate}\n"
      ],
      "text/markdown": [
       "1. 'Toy Story'\n",
       "\n",
       "\n"
      ],
      "text/plain": [
       "[[1]]\n",
       "[1] \"Toy Story\"\n"
      ]
     },
     "metadata": {},
     "output_type": "display_data"
    }
   ],
   "source": [
    "movie[1]"
   ]
  },
  {
   "cell_type": "code",
   "execution_count": 7,
   "id": "d9442757-c051-45fa-a08a-04984245421e",
   "metadata": {},
   "outputs": [
    {
     "data": {
      "text/html": [
       "<ol>\n",
       "\t<li>1995</li>\n",
       "\t<li><ol class=list-inline>\n",
       "\t<li>'Animation'</li>\n",
       "\t<li>'Adventure'</li>\n",
       "\t<li>'Comedy'</li>\n",
       "</ol>\n",
       "</li>\n",
       "</ol>\n"
      ],
      "text/latex": [
       "\\begin{enumerate}\n",
       "\\item 1995\n",
       "\\item \\begin{enumerate*}\n",
       "\\item 'Animation'\n",
       "\\item 'Adventure'\n",
       "\\item 'Comedy'\n",
       "\\end{enumerate*}\n",
       "\n",
       "\\end{enumerate}\n"
      ],
      "text/markdown": [
       "1. 1995\n",
       "2. 1. 'Animation'\n",
       "2. 'Adventure'\n",
       "3. 'Comedy'\n",
       "\n",
       "\n",
       "\n",
       "\n",
       "\n"
      ],
      "text/plain": [
       "[[1]]\n",
       "[1] 1995\n",
       "\n",
       "[[2]]\n",
       "[1] \"Animation\" \"Adventure\" \"Comedy\"   \n"
      ]
     },
     "metadata": {},
     "output_type": "display_data"
    }
   ],
   "source": [
    "movie[2:3]"
   ]
  },
  {
   "cell_type": "code",
   "execution_count": 8,
   "id": "0aa32a9a-5b32-4fe5-a7e9-dd900ea402a9",
   "metadata": {},
   "outputs": [],
   "source": [
    "a<-list(\"a\",10,5.8,c(\"XYZ\",60))"
   ]
  },
  {
   "cell_type": "code",
   "execution_count": 9,
   "id": "43cb2893-f7b6-4cde-a0ea-bd51d5aed659",
   "metadata": {},
   "outputs": [
    {
     "data": {
      "text/html": [
       "<ol>\n",
       "\t<li>'a'</li>\n",
       "\t<li>10</li>\n",
       "\t<li>5.8</li>\n",
       "\t<li><ol class=list-inline>\n",
       "\t<li>'XYZ'</li>\n",
       "\t<li>'60'</li>\n",
       "</ol>\n",
       "</li>\n",
       "</ol>\n"
      ],
      "text/latex": [
       "\\begin{enumerate}\n",
       "\\item 'a'\n",
       "\\item 10\n",
       "\\item 5.8\n",
       "\\item \\begin{enumerate*}\n",
       "\\item 'XYZ'\n",
       "\\item '60'\n",
       "\\end{enumerate*}\n",
       "\n",
       "\\end{enumerate}\n"
      ],
      "text/markdown": [
       "1. 'a'\n",
       "2. 10\n",
       "3. 5.8\n",
       "4. 1. 'XYZ'\n",
       "2. '60'\n",
       "\n",
       "\n",
       "\n",
       "\n",
       "\n"
      ],
      "text/plain": [
       "[[1]]\n",
       "[1] \"a\"\n",
       "\n",
       "[[2]]\n",
       "[1] 10\n",
       "\n",
       "[[3]]\n",
       "[1] 5.8\n",
       "\n",
       "[[4]]\n",
       "[1] \"XYZ\" \"60\" \n"
      ]
     },
     "metadata": {},
     "output_type": "display_data"
    }
   ],
   "source": [
    "a"
   ]
  },
  {
   "cell_type": "code",
   "execution_count": 10,
   "id": "e28fee36-1bb0-4176-86de-ca87b8ada3d1",
   "metadata": {},
   "outputs": [
    {
     "data": {
      "text/html": [
       "<ol>\n",
       "\t<li>'a'</li>\n",
       "</ol>\n"
      ],
      "text/latex": [
       "\\begin{enumerate}\n",
       "\\item 'a'\n",
       "\\end{enumerate}\n"
      ],
      "text/markdown": [
       "1. 'a'\n",
       "\n",
       "\n"
      ],
      "text/plain": [
       "[[1]]\n",
       "[1] \"a\"\n"
      ]
     },
     "metadata": {},
     "output_type": "display_data"
    }
   ],
   "source": [
    "a[1]"
   ]
  },
  {
   "cell_type": "code",
   "execution_count": 11,
   "id": "f4028bed-4c64-4a63-bafc-b47e7592c846",
   "metadata": {},
   "outputs": [
    {
     "data": {
      "text/html": [
       "<ol>\n",
       "\t<li>'a'</li>\n",
       "</ol>\n"
      ],
      "text/latex": [
       "\\begin{enumerate}\n",
       "\\item 'a'\n",
       "\\end{enumerate}\n"
      ],
      "text/markdown": [
       "1. 'a'\n",
       "\n",
       "\n"
      ],
      "text/plain": [
       "[[1]]\n",
       "[1] \"a\"\n"
      ]
     },
     "metadata": {},
     "output_type": "display_data"
    }
   ],
   "source": [
    "a[1]"
   ]
  },
  {
   "cell_type": "code",
   "execution_count": 12,
   "id": "546d56e6-d995-4058-be0c-0b96820af91b",
   "metadata": {},
   "outputs": [
    {
     "data": {
      "text/html": [
       "<ol>\n",
       "\t<li>10</li>\n",
       "\t<li>5.8</li>\n",
       "\t<li><ol class=list-inline>\n",
       "\t<li>'XYZ'</li>\n",
       "\t<li>'60'</li>\n",
       "</ol>\n",
       "</li>\n",
       "</ol>\n"
      ],
      "text/latex": [
       "\\begin{enumerate}\n",
       "\\item 10\n",
       "\\item 5.8\n",
       "\\item \\begin{enumerate*}\n",
       "\\item 'XYZ'\n",
       "\\item '60'\n",
       "\\end{enumerate*}\n",
       "\n",
       "\\end{enumerate}\n"
      ],
      "text/markdown": [
       "1. 10\n",
       "2. 5.8\n",
       "3. 1. 'XYZ'\n",
       "2. '60'\n",
       "\n",
       "\n",
       "\n",
       "\n",
       "\n"
      ],
      "text/plain": [
       "[[1]]\n",
       "[1] 10\n",
       "\n",
       "[[2]]\n",
       "[1] 5.8\n",
       "\n",
       "[[3]]\n",
       "[1] \"XYZ\" \"60\" \n"
      ]
     },
     "metadata": {},
     "output_type": "display_data"
    }
   ],
   "source": [
    "a[-1]"
   ]
  },
  {
   "cell_type": "code",
   "execution_count": 13,
   "id": "92f09779-7c3e-472d-9371-ff8fb55aedfd",
   "metadata": {},
   "outputs": [
    {
     "data": {
      "text/html": [
       "<ol>\n",
       "\t<li>'a'</li>\n",
       "\t<li>10</li>\n",
       "\t<li>5.8</li>\n",
       "\t<li><ol class=list-inline>\n",
       "\t<li>'XYZ'</li>\n",
       "\t<li>'60'</li>\n",
       "</ol>\n",
       "</li>\n",
       "</ol>\n"
      ],
      "text/latex": [
       "\\begin{enumerate}\n",
       "\\item 'a'\n",
       "\\item 10\n",
       "\\item 5.8\n",
       "\\item \\begin{enumerate*}\n",
       "\\item 'XYZ'\n",
       "\\item '60'\n",
       "\\end{enumerate*}\n",
       "\n",
       "\\end{enumerate}\n"
      ],
      "text/markdown": [
       "1. 'a'\n",
       "2. 10\n",
       "3. 5.8\n",
       "4. 1. 'XYZ'\n",
       "2. '60'\n",
       "\n",
       "\n",
       "\n",
       "\n",
       "\n"
      ],
      "text/plain": [
       "[[1]]\n",
       "[1] \"a\"\n",
       "\n",
       "[[2]]\n",
       "[1] 10\n",
       "\n",
       "[[3]]\n",
       "[1] 5.8\n",
       "\n",
       "[[4]]\n",
       "[1] \"XYZ\" \"60\" \n"
      ]
     },
     "metadata": {},
     "output_type": "display_data"
    }
   ],
   "source": [
    "a"
   ]
  },
  {
   "cell_type": "code",
   "execution_count": 14,
   "id": "543643d2-8402-4821-8682-2bf21b633c7e",
   "metadata": {},
   "outputs": [
    {
     "data": {
      "text/html": [
       "<ol>\n",
       "\t<li>'a'</li>\n",
       "\t<li>10</li>\n",
       "</ol>\n"
      ],
      "text/latex": [
       "\\begin{enumerate}\n",
       "\\item 'a'\n",
       "\\item 10\n",
       "\\end{enumerate}\n"
      ],
      "text/markdown": [
       "1. 'a'\n",
       "2. 10\n",
       "\n",
       "\n"
      ],
      "text/plain": [
       "[[1]]\n",
       "[1] \"a\"\n",
       "\n",
       "[[2]]\n",
       "[1] 10\n"
      ]
     },
     "metadata": {},
     "output_type": "display_data"
    }
   ],
   "source": [
    "a[1:2]"
   ]
  },
  {
   "cell_type": "markdown",
   "id": "4e9dad27-18f3-40fd-b33f-4fe90b83ae41",
   "metadata": {},
   "source": [
    "### Named lists"
   ]
  },
  {
   "cell_type": "code",
   "execution_count": 15,
   "id": "a193c754-16b2-4137-9ebf-92d2d4df3373",
   "metadata": {},
   "outputs": [],
   "source": [
    "movie<-list( name = \"Toy Story\",\n",
    "             year = 1995,\n",
    "             genre = c(\"Animation\", \"Adventure\", \"Comedy\")\n",
    "           )"
   ]
  },
  {
   "cell_type": "code",
   "execution_count": 16,
   "id": "ef9c47a6-59b4-45d9-88bf-5ae3950b0381",
   "metadata": {},
   "outputs": [
    {
     "data": {
      "text/html": [
       "<dl>\n",
       "\t<dt>$name</dt>\n",
       "\t\t<dd>'Toy Story'</dd>\n",
       "\t<dt>$year</dt>\n",
       "\t\t<dd>1995</dd>\n",
       "\t<dt>$genre</dt>\n",
       "\t\t<dd><ol class=list-inline>\n",
       "\t<li>'Animation'</li>\n",
       "\t<li>'Adventure'</li>\n",
       "\t<li>'Comedy'</li>\n",
       "</ol>\n",
       "</dd>\n",
       "</dl>\n"
      ],
      "text/latex": [
       "\\begin{description}\n",
       "\\item[\\$name] 'Toy Story'\n",
       "\\item[\\$year] 1995\n",
       "\\item[\\$genre] \\begin{enumerate*}\n",
       "\\item 'Animation'\n",
       "\\item 'Adventure'\n",
       "\\item 'Comedy'\n",
       "\\end{enumerate*}\n",
       "\n",
       "\\end{description}\n"
      ],
      "text/markdown": [
       "$name\n",
       ":   'Toy Story'\n",
       "$year\n",
       ":   1995\n",
       "$genre\n",
       ":   1. 'Animation'\n",
       "2. 'Adventure'\n",
       "3. 'Comedy'\n",
       "\n",
       "\n",
       "\n",
       "\n",
       "\n"
      ],
      "text/plain": [
       "$name\n",
       "[1] \"Toy Story\"\n",
       "\n",
       "$year\n",
       "[1] 1995\n",
       "\n",
       "$genre\n",
       "[1] \"Animation\" \"Adventure\" \"Comedy\"   \n"
      ]
     },
     "metadata": {},
     "output_type": "display_data"
    }
   ],
   "source": [
    "movie"
   ]
  },
  {
   "cell_type": "code",
   "execution_count": 17,
   "id": "65a057e1-a37b-4d4d-b112-6c7e3330d14f",
   "metadata": {},
   "outputs": [
    {
     "data": {
      "text/html": [
       "<strong>$genre</strong> = <ol class=list-inline>\n",
       "\t<li>'Animation'</li>\n",
       "\t<li>'Adventure'</li>\n",
       "\t<li>'Comedy'</li>\n",
       "</ol>\n"
      ],
      "text/latex": [
       "\\textbf{\\$genre} = \\begin{enumerate*}\n",
       "\\item 'Animation'\n",
       "\\item 'Adventure'\n",
       "\\item 'Comedy'\n",
       "\\end{enumerate*}\n"
      ],
      "text/markdown": [
       "**$genre** = 1. 'Animation'\n",
       "2. 'Adventure'\n",
       "3. 'Comedy'\n",
       "\n",
       "\n"
      ],
      "text/plain": [
       "$genre\n",
       "[1] \"Animation\" \"Adventure\" \"Comedy\"   \n"
      ]
     },
     "metadata": {},
     "output_type": "display_data"
    }
   ],
   "source": [
    "movie[\"genre\"]"
   ]
  },
  {
   "cell_type": "code",
   "execution_count": 19,
   "id": "bc6ff47d-9559-45a6-8d9e-67921a069e7e",
   "metadata": {},
   "outputs": [
    {
     "data": {
      "text/html": [
       "<ol class=list-inline>\n",
       "\t<li>'Animation'</li>\n",
       "\t<li>'Adventure'</li>\n",
       "\t<li>'Comedy'</li>\n",
       "</ol>\n"
      ],
      "text/latex": [
       "\\begin{enumerate*}\n",
       "\\item 'Animation'\n",
       "\\item 'Adventure'\n",
       "\\item 'Comedy'\n",
       "\\end{enumerate*}\n"
      ],
      "text/markdown": [
       "1. 'Animation'\n",
       "2. 'Adventure'\n",
       "3. 'Comedy'\n",
       "\n",
       "\n"
      ],
      "text/plain": [
       "[1] \"Animation\" \"Adventure\" \"Comedy\"   "
      ]
     },
     "metadata": {},
     "output_type": "display_data"
    }
   ],
   "source": [
    "movie $genre"
   ]
  },
  {
   "cell_type": "code",
   "execution_count": 20,
   "id": "68c73ce0-94ee-4a6d-b928-246119be4f6d",
   "metadata": {},
   "outputs": [
    {
     "data": {
      "text/html": [
       "'character'"
      ],
      "text/latex": [
       "'character'"
      ],
      "text/markdown": [
       "'character'"
      ],
      "text/plain": [
       "[1] \"character\""
      ]
     },
     "metadata": {},
     "output_type": "display_data"
    },
    {
     "data": {
      "text/html": [
       "'NULL'"
      ],
      "text/latex": [
       "'NULL'"
      ],
      "text/markdown": [
       "'NULL'"
      ],
      "text/plain": [
       "[1] \"NULL\""
      ]
     },
     "metadata": {},
     "output_type": "display_data"
    }
   ],
   "source": [
    "class(movie$name)\n",
    "class(movie$foreign)"
   ]
  },
  {
   "cell_type": "code",
   "execution_count": 21,
   "id": "bb98dacd-f9a1-486d-959a-16fee2d9f688",
   "metadata": {},
   "outputs": [
    {
     "data": {
      "text/html": [
       "'list'"
      ],
      "text/latex": [
       "'list'"
      ],
      "text/markdown": [
       "'list'"
      ],
      "text/plain": [
       "[1] \"list\""
      ]
     },
     "metadata": {},
     "output_type": "display_data"
    },
    {
     "data": {
      "text/html": [
       "'list'"
      ],
      "text/latex": [
       "'list'"
      ],
      "text/markdown": [
       "'list'"
      ],
      "text/plain": [
       "[1] \"list\""
      ]
     },
     "metadata": {},
     "output_type": "display_data"
    }
   ],
   "source": [
    "class(movie[\"name\"])\n",
    "class(movie[\"foreign\"])"
   ]
  },
  {
   "cell_type": "code",
   "execution_count": 22,
   "id": "620b34b6-60bc-4c43-822e-485312a6d790",
   "metadata": {},
   "outputs": [],
   "source": [
    "movie[[\"age\"]] <- 5"
   ]
  },
  {
   "cell_type": "code",
   "execution_count": 23,
   "id": "ef177b5c-5348-4ad7-aa88-9e487ad493d4",
   "metadata": {},
   "outputs": [
    {
     "data": {
      "text/html": [
       "<dl>\n",
       "\t<dt>$name</dt>\n",
       "\t\t<dd>'Toy Story'</dd>\n",
       "\t<dt>$year</dt>\n",
       "\t\t<dd>1995</dd>\n",
       "\t<dt>$genre</dt>\n",
       "\t\t<dd><ol class=list-inline>\n",
       "\t<li>'Animation'</li>\n",
       "\t<li>'Adventure'</li>\n",
       "\t<li>'Comedy'</li>\n",
       "</ol>\n",
       "</dd>\n",
       "\t<dt>$age</dt>\n",
       "\t\t<dd>5</dd>\n",
       "</dl>\n"
      ],
      "text/latex": [
       "\\begin{description}\n",
       "\\item[\\$name] 'Toy Story'\n",
       "\\item[\\$year] 1995\n",
       "\\item[\\$genre] \\begin{enumerate*}\n",
       "\\item 'Animation'\n",
       "\\item 'Adventure'\n",
       "\\item 'Comedy'\n",
       "\\end{enumerate*}\n",
       "\n",
       "\\item[\\$age] 5\n",
       "\\end{description}\n"
      ],
      "text/markdown": [
       "$name\n",
       ":   'Toy Story'\n",
       "$year\n",
       ":   1995\n",
       "$genre\n",
       ":   1. 'Animation'\n",
       "2. 'Adventure'\n",
       "3. 'Comedy'\n",
       "\n",
       "\n",
       "\n",
       "$age\n",
       ":   5\n",
       "\n",
       "\n"
      ],
      "text/plain": [
       "$name\n",
       "[1] \"Toy Story\"\n",
       "\n",
       "$year\n",
       "[1] 1995\n",
       "\n",
       "$genre\n",
       "[1] \"Animation\" \"Adventure\" \"Comedy\"   \n",
       "\n",
       "$age\n",
       "[1] 5\n"
      ]
     },
     "metadata": {},
     "output_type": "display_data"
    }
   ],
   "source": [
    "movie"
   ]
  },
  {
   "cell_type": "code",
   "execution_count": 24,
   "id": "198400ba-77f5-4a4d-bd09-b4df4a89e7c5",
   "metadata": {},
   "outputs": [],
   "source": [
    "movie[[\"age\"]] <- 6"
   ]
  },
  {
   "cell_type": "code",
   "execution_count": 25,
   "id": "4f68345d-fc7e-4324-a3cc-dfa56314f2f1",
   "metadata": {},
   "outputs": [
    {
     "data": {
      "text/html": [
       "<dl>\n",
       "\t<dt>$name</dt>\n",
       "\t\t<dd>'Toy Story'</dd>\n",
       "\t<dt>$year</dt>\n",
       "\t\t<dd>1995</dd>\n",
       "\t<dt>$genre</dt>\n",
       "\t\t<dd><ol class=list-inline>\n",
       "\t<li>'Animation'</li>\n",
       "\t<li>'Adventure'</li>\n",
       "\t<li>'Comedy'</li>\n",
       "</ol>\n",
       "</dd>\n",
       "\t<dt>$age</dt>\n",
       "\t\t<dd>6</dd>\n",
       "</dl>\n"
      ],
      "text/latex": [
       "\\begin{description}\n",
       "\\item[\\$name] 'Toy Story'\n",
       "\\item[\\$year] 1995\n",
       "\\item[\\$genre] \\begin{enumerate*}\n",
       "\\item 'Animation'\n",
       "\\item 'Adventure'\n",
       "\\item 'Comedy'\n",
       "\\end{enumerate*}\n",
       "\n",
       "\\item[\\$age] 6\n",
       "\\end{description}\n"
      ],
      "text/markdown": [
       "$name\n",
       ":   'Toy Story'\n",
       "$year\n",
       ":   1995\n",
       "$genre\n",
       ":   1. 'Animation'\n",
       "2. 'Adventure'\n",
       "3. 'Comedy'\n",
       "\n",
       "\n",
       "\n",
       "$age\n",
       ":   6\n",
       "\n",
       "\n"
      ],
      "text/plain": [
       "$name\n",
       "[1] \"Toy Story\"\n",
       "\n",
       "$year\n",
       "[1] 1995\n",
       "\n",
       "$genre\n",
       "[1] \"Animation\" \"Adventure\" \"Comedy\"   \n",
       "\n",
       "$age\n",
       "[1] 6\n"
      ]
     },
     "metadata": {},
     "output_type": "display_data"
    }
   ],
   "source": [
    "movie"
   ]
  },
  {
   "cell_type": "code",
   "execution_count": 26,
   "id": "61912084-5a09-444f-9d02-206206019462",
   "metadata": {},
   "outputs": [
    {
     "data": {
      "text/html": [
       "<dl>\n",
       "\t<dt>$name</dt>\n",
       "\t\t<dd>'Toy Story'</dd>\n",
       "\t<dt>$year</dt>\n",
       "\t\t<dd>1995</dd>\n",
       "\t<dt>$genre</dt>\n",
       "\t\t<dd><ol class=list-inline>\n",
       "\t<li>'Animation'</li>\n",
       "\t<li>'Adventure'</li>\n",
       "\t<li>'Comedy'</li>\n",
       "</ol>\n",
       "</dd>\n",
       "</dl>\n"
      ],
      "text/latex": [
       "\\begin{description}\n",
       "\\item[\\$name] 'Toy Story'\n",
       "\\item[\\$year] 1995\n",
       "\\item[\\$genre] \\begin{enumerate*}\n",
       "\\item 'Animation'\n",
       "\\item 'Adventure'\n",
       "\\item 'Comedy'\n",
       "\\end{enumerate*}\n",
       "\n",
       "\\end{description}\n"
      ],
      "text/markdown": [
       "$name\n",
       ":   'Toy Story'\n",
       "$year\n",
       ":   1995\n",
       "$genre\n",
       ":   1. 'Animation'\n",
       "2. 'Adventure'\n",
       "3. 'Comedy'\n",
       "\n",
       "\n",
       "\n",
       "\n",
       "\n"
      ],
      "text/plain": [
       "$name\n",
       "[1] \"Toy Story\"\n",
       "\n",
       "$year\n",
       "[1] 1995\n",
       "\n",
       "$genre\n",
       "[1] \"Animation\" \"Adventure\" \"Comedy\"   \n"
      ]
     },
     "metadata": {},
     "output_type": "display_data"
    }
   ],
   "source": [
    "movie[[\"age\"]] <- NULL\n",
    "movie"
   ]
  },
  {
   "cell_type": "markdown",
   "id": "56084a7f-488a-4528-844d-5292cb095bf7",
   "metadata": {},
   "source": [
    "#### Concatenating Lists"
   ]
  },
  {
   "cell_type": "code",
   "execution_count": 27,
   "id": "101b9b33-94de-46a6-8245-6d39459b622f",
   "metadata": {},
   "outputs": [],
   "source": [
    "movie_part1 <- list(name = \"Toy Story\")\n",
    "movie_part2 <- list(year = 1995, genre = c(\"Animation\", \"Adventure\", \"Comedy\"))"
   ]
  },
  {
   "cell_type": "code",
   "execution_count": 28,
   "id": "edd20b47-fb7a-497d-8738-4301132e2b7f",
   "metadata": {},
   "outputs": [
    {
     "data": {
      "text/html": [
       "<strong>$name</strong> = 'Toy Story'"
      ],
      "text/latex": [
       "\\textbf{\\$name} = 'Toy Story'"
      ],
      "text/markdown": [
       "**$name** = 'Toy Story'"
      ],
      "text/plain": [
       "$name\n",
       "[1] \"Toy Story\"\n"
      ]
     },
     "metadata": {},
     "output_type": "display_data"
    }
   ],
   "source": [
    "movie_part1"
   ]
  },
  {
   "cell_type": "code",
   "execution_count": 29,
   "id": "67c6d54c-eb59-4da5-b21f-5b2a222ede1f",
   "metadata": {},
   "outputs": [
    {
     "data": {
      "text/html": [
       "<dl>\n",
       "\t<dt>$year</dt>\n",
       "\t\t<dd>1995</dd>\n",
       "\t<dt>$genre</dt>\n",
       "\t\t<dd><ol class=list-inline>\n",
       "\t<li>'Animation'</li>\n",
       "\t<li>'Adventure'</li>\n",
       "\t<li>'Comedy'</li>\n",
       "</ol>\n",
       "</dd>\n",
       "</dl>\n"
      ],
      "text/latex": [
       "\\begin{description}\n",
       "\\item[\\$year] 1995\n",
       "\\item[\\$genre] \\begin{enumerate*}\n",
       "\\item 'Animation'\n",
       "\\item 'Adventure'\n",
       "\\item 'Comedy'\n",
       "\\end{enumerate*}\n",
       "\n",
       "\\end{description}\n"
      ],
      "text/markdown": [
       "$year\n",
       ":   1995\n",
       "$genre\n",
       ":   1. 'Animation'\n",
       "2. 'Adventure'\n",
       "3. 'Comedy'\n",
       "\n",
       "\n",
       "\n",
       "\n",
       "\n"
      ],
      "text/plain": [
       "$year\n",
       "[1] 1995\n",
       "\n",
       "$genre\n",
       "[1] \"Animation\" \"Adventure\" \"Comedy\"   \n"
      ]
     },
     "metadata": {},
     "output_type": "display_data"
    }
   ],
   "source": [
    "movie_part2"
   ]
  },
  {
   "cell_type": "code",
   "execution_count": 30,
   "id": "7e332c33-8b44-4fc9-b6df-2654dd740ae5",
   "metadata": {},
   "outputs": [],
   "source": [
    "movie_concatenated <- c(movie_part1, movie_part2)"
   ]
  },
  {
   "cell_type": "code",
   "execution_count": 31,
   "id": "957d55f6-523f-4c4e-b40d-141f51df7ad5",
   "metadata": {},
   "outputs": [
    {
     "data": {
      "text/html": [
       "<dl>\n",
       "\t<dt>$name</dt>\n",
       "\t\t<dd>'Toy Story'</dd>\n",
       "\t<dt>$year</dt>\n",
       "\t\t<dd>1995</dd>\n",
       "\t<dt>$genre</dt>\n",
       "\t\t<dd><ol class=list-inline>\n",
       "\t<li>'Animation'</li>\n",
       "\t<li>'Adventure'</li>\n",
       "\t<li>'Comedy'</li>\n",
       "</ol>\n",
       "</dd>\n",
       "</dl>\n"
      ],
      "text/latex": [
       "\\begin{description}\n",
       "\\item[\\$name] 'Toy Story'\n",
       "\\item[\\$year] 1995\n",
       "\\item[\\$genre] \\begin{enumerate*}\n",
       "\\item 'Animation'\n",
       "\\item 'Adventure'\n",
       "\\item 'Comedy'\n",
       "\\end{enumerate*}\n",
       "\n",
       "\\end{description}\n"
      ],
      "text/markdown": [
       "$name\n",
       ":   'Toy Story'\n",
       "$year\n",
       ":   1995\n",
       "$genre\n",
       ":   1. 'Animation'\n",
       "2. 'Adventure'\n",
       "3. 'Comedy'\n",
       "\n",
       "\n",
       "\n",
       "\n",
       "\n"
      ],
      "text/plain": [
       "$name\n",
       "[1] \"Toy Story\"\n",
       "\n",
       "$year\n",
       "[1] 1995\n",
       "\n",
       "$genre\n",
       "[1] \"Animation\" \"Adventure\" \"Comedy\"   \n"
      ]
     },
     "metadata": {},
     "output_type": "display_data"
    }
   ],
   "source": [
    "movie_concatenated "
   ]
  },
  {
   "cell_type": "markdown",
   "id": "9f8d20da-0890-442b-bb8f-a2a111e24b48",
   "metadata": {},
   "source": [
    "### DataFrames"
   ]
  },
  {
   "cell_type": "code",
   "execution_count": 32,
   "id": "04c78340-95e8-4752-b711-b576561cdc29",
   "metadata": {},
   "outputs": [],
   "source": [
    "movies <- data.frame(name = c(\"Toy Story\", \"Akira\", \"The Breakfast Club\", \"The Artist\",\n",
    "                              \"Modern Times\", \"Fight Club\", \"City of God\", \"The Untouchables\"),\n",
    "                    year = c(1995, 1998, 1985, 2011, 1936, 1999, 2002, 1987)\n",
    "                    )"
   ]
  },
  {
   "cell_type": "code",
   "execution_count": 33,
   "id": "6aeff1f3-12ea-421f-85e9-a4efd7beb49a",
   "metadata": {},
   "outputs": [
    {
     "data": {
      "text/html": [
       "<table>\n",
       "<thead><tr><th scope=col>name</th><th scope=col>year</th></tr></thead>\n",
       "<tbody>\n",
       "\t<tr><td>Toy Story         </td><td>1995              </td></tr>\n",
       "\t<tr><td>Akira             </td><td>1998              </td></tr>\n",
       "\t<tr><td>The Breakfast Club</td><td>1985              </td></tr>\n",
       "\t<tr><td>The Artist        </td><td>2011              </td></tr>\n",
       "\t<tr><td>Modern Times      </td><td>1936              </td></tr>\n",
       "\t<tr><td>Fight Club        </td><td>1999              </td></tr>\n",
       "\t<tr><td>City of God       </td><td>2002              </td></tr>\n",
       "\t<tr><td>The Untouchables  </td><td>1987              </td></tr>\n",
       "</tbody>\n",
       "</table>\n"
      ],
      "text/latex": [
       "\\begin{tabular}{r|ll}\n",
       " name & year\\\\\n",
       "\\hline\n",
       "\t Toy Story          & 1995              \\\\\n",
       "\t Akira              & 1998              \\\\\n",
       "\t The Breakfast Club & 1985              \\\\\n",
       "\t The Artist         & 2011              \\\\\n",
       "\t Modern Times       & 1936              \\\\\n",
       "\t Fight Club         & 1999              \\\\\n",
       "\t City of God        & 2002              \\\\\n",
       "\t The Untouchables   & 1987              \\\\\n",
       "\\end{tabular}\n"
      ],
      "text/markdown": [
       "\n",
       "| name | year |\n",
       "|---|---|\n",
       "| Toy Story          | 1995               |\n",
       "| Akira              | 1998               |\n",
       "| The Breakfast Club | 1985               |\n",
       "| The Artist         | 2011               |\n",
       "| Modern Times       | 1936               |\n",
       "| Fight Club         | 1999               |\n",
       "| City of God        | 2002               |\n",
       "| The Untouchables   | 1987               |\n",
       "\n"
      ],
      "text/plain": [
       "  name               year\n",
       "1 Toy Story          1995\n",
       "2 Akira              1998\n",
       "3 The Breakfast Club 1985\n",
       "4 The Artist         2011\n",
       "5 Modern Times       1936\n",
       "6 Fight Club         1999\n",
       "7 City of God        2002\n",
       "8 The Untouchables   1987"
      ]
     },
     "metadata": {},
     "output_type": "display_data"
    }
   ],
   "source": [
    "movies"
   ]
  },
  {
   "cell_type": "code",
   "execution_count": 34,
   "id": "befb1172-11aa-45bd-9224-51a589802d63",
   "metadata": {},
   "outputs": [],
   "source": [
    "movies <- data.frame(name = c(\"Toy Story\", \"Akira\", \"The Breakfast Club\", \"The Artist\",\n",
    "                              \"Modern Times\", \"Fight Club\", \"City of God\", \"The Untouchables\"),\n",
    "                    year = c(1995, 1998, 1985, 2011, 1936, 1999, 2002, 1987),\n",
    "                    stringsAsFactors=F)"
   ]
  },
  {
   "cell_type": "code",
   "execution_count": 35,
   "id": "d8da2abd-02a8-4b26-83b9-3869eceaf340",
   "metadata": {},
   "outputs": [
    {
     "data": {
      "text/html": [
       "<table>\n",
       "<thead><tr><th scope=col>name</th><th scope=col>year</th></tr></thead>\n",
       "<tbody>\n",
       "\t<tr><td>Toy Story         </td><td>1995              </td></tr>\n",
       "\t<tr><td>Akira             </td><td>1998              </td></tr>\n",
       "\t<tr><td>The Breakfast Club</td><td>1985              </td></tr>\n",
       "\t<tr><td>The Artist        </td><td>2011              </td></tr>\n",
       "\t<tr><td>Modern Times      </td><td>1936              </td></tr>\n",
       "\t<tr><td>Fight Club        </td><td>1999              </td></tr>\n",
       "\t<tr><td>City of God       </td><td>2002              </td></tr>\n",
       "\t<tr><td>The Untouchables  </td><td>1987              </td></tr>\n",
       "</tbody>\n",
       "</table>\n"
      ],
      "text/latex": [
       "\\begin{tabular}{r|ll}\n",
       " name & year\\\\\n",
       "\\hline\n",
       "\t Toy Story          & 1995              \\\\\n",
       "\t Akira              & 1998              \\\\\n",
       "\t The Breakfast Club & 1985              \\\\\n",
       "\t The Artist         & 2011              \\\\\n",
       "\t Modern Times       & 1936              \\\\\n",
       "\t Fight Club         & 1999              \\\\\n",
       "\t City of God        & 2002              \\\\\n",
       "\t The Untouchables   & 1987              \\\\\n",
       "\\end{tabular}\n"
      ],
      "text/markdown": [
       "\n",
       "| name | year |\n",
       "|---|---|\n",
       "| Toy Story          | 1995               |\n",
       "| Akira              | 1998               |\n",
       "| The Breakfast Club | 1985               |\n",
       "| The Artist         | 2011               |\n",
       "| Modern Times       | 1936               |\n",
       "| Fight Club         | 1999               |\n",
       "| City of God        | 2002               |\n",
       "| The Untouchables   | 1987               |\n",
       "\n"
      ],
      "text/plain": [
       "  name               year\n",
       "1 Toy Story          1995\n",
       "2 Akira              1998\n",
       "3 The Breakfast Club 1985\n",
       "4 The Artist         2011\n",
       "5 Modern Times       1936\n",
       "6 Fight Club         1999\n",
       "7 City of God        2002\n",
       "8 The Untouchables   1987"
      ]
     },
     "metadata": {},
     "output_type": "display_data"
    }
   ],
   "source": [
    "movies"
   ]
  },
  {
   "cell_type": "code",
   "execution_count": 36,
   "id": "b500bcd2-48a1-40d2-ae80-8d0b642c8e44",
   "metadata": {},
   "outputs": [
    {
     "data": {
      "text/html": [
       "<table>\n",
       "<thead><tr><th scope=col>name</th><th scope=col>year</th></tr></thead>\n",
       "<tbody>\n",
       "\t<tr><td>Toy Story         </td><td>1995              </td></tr>\n",
       "\t<tr><td>Akira             </td><td>1998              </td></tr>\n",
       "\t<tr><td>The Breakfast Club</td><td>1985              </td></tr>\n",
       "\t<tr><td>The Artist        </td><td>2011              </td></tr>\n",
       "\t<tr><td>Modern Times      </td><td>1936              </td></tr>\n",
       "\t<tr><td>Fight Club        </td><td>1999              </td></tr>\n",
       "</tbody>\n",
       "</table>\n"
      ],
      "text/latex": [
       "\\begin{tabular}{r|ll}\n",
       " name & year\\\\\n",
       "\\hline\n",
       "\t Toy Story          & 1995              \\\\\n",
       "\t Akira              & 1998              \\\\\n",
       "\t The Breakfast Club & 1985              \\\\\n",
       "\t The Artist         & 2011              \\\\\n",
       "\t Modern Times       & 1936              \\\\\n",
       "\t Fight Club         & 1999              \\\\\n",
       "\\end{tabular}\n"
      ],
      "text/markdown": [
       "\n",
       "| name | year |\n",
       "|---|---|\n",
       "| Toy Story          | 1995               |\n",
       "| Akira              | 1998               |\n",
       "| The Breakfast Club | 1985               |\n",
       "| The Artist         | 2011               |\n",
       "| Modern Times       | 1936               |\n",
       "| Fight Club         | 1999               |\n",
       "\n"
      ],
      "text/plain": [
       "  name               year\n",
       "1 Toy Story          1995\n",
       "2 Akira              1998\n",
       "3 The Breakfast Club 1985\n",
       "4 The Artist         2011\n",
       "5 Modern Times       1936\n",
       "6 Fight Club         1999"
      ]
     },
     "metadata": {},
     "output_type": "display_data"
    }
   ],
   "source": [
    "head(movies)"
   ]
  },
  {
   "cell_type": "code",
   "execution_count": 37,
   "id": "3271f532-c05f-4663-bb97-a850a6a789a6",
   "metadata": {},
   "outputs": [
    {
     "data": {
      "text/html": [
       "<table>\n",
       "<thead><tr><th></th><th scope=col>name</th><th scope=col>year</th></tr></thead>\n",
       "<tbody>\n",
       "\t<tr><th scope=row>3</th><td>The Breakfast Club</td><td>1985              </td></tr>\n",
       "\t<tr><th scope=row>4</th><td>The Artist        </td><td>2011              </td></tr>\n",
       "\t<tr><th scope=row>5</th><td>Modern Times      </td><td>1936              </td></tr>\n",
       "\t<tr><th scope=row>6</th><td>Fight Club        </td><td>1999              </td></tr>\n",
       "\t<tr><th scope=row>7</th><td>City of God       </td><td>2002              </td></tr>\n",
       "\t<tr><th scope=row>8</th><td>The Untouchables  </td><td>1987              </td></tr>\n",
       "</tbody>\n",
       "</table>\n"
      ],
      "text/latex": [
       "\\begin{tabular}{r|ll}\n",
       "  & name & year\\\\\n",
       "\\hline\n",
       "\t3 & The Breakfast Club & 1985              \\\\\n",
       "\t4 & The Artist         & 2011              \\\\\n",
       "\t5 & Modern Times       & 1936              \\\\\n",
       "\t6 & Fight Club         & 1999              \\\\\n",
       "\t7 & City of God        & 2002              \\\\\n",
       "\t8 & The Untouchables   & 1987              \\\\\n",
       "\\end{tabular}\n"
      ],
      "text/markdown": [
       "\n",
       "| <!--/--> | name | year |\n",
       "|---|---|---|\n",
       "| 3 | The Breakfast Club | 1985               |\n",
       "| 4 | The Artist         | 2011               |\n",
       "| 5 | Modern Times       | 1936               |\n",
       "| 6 | Fight Club         | 1999               |\n",
       "| 7 | City of God        | 2002               |\n",
       "| 8 | The Untouchables   | 1987               |\n",
       "\n"
      ],
      "text/plain": [
       "  name               year\n",
       "3 The Breakfast Club 1985\n",
       "4 The Artist         2011\n",
       "5 Modern Times       1936\n",
       "6 Fight Club         1999\n",
       "7 City of God        2002\n",
       "8 The Untouchables   1987"
      ]
     },
     "metadata": {},
     "output_type": "display_data"
    }
   ],
   "source": [
    "tail(movies)"
   ]
  },
  {
   "cell_type": "code",
   "execution_count": 38,
   "id": "c7135251-8254-4898-872c-2d80e1d2891b",
   "metadata": {},
   "outputs": [
    {
     "data": {
      "text/plain": [
       "     name                year     \n",
       " Length:8           Min.   :1936  \n",
       " Class :character   1st Qu.:1986  \n",
       " Mode  :character   Median :1996  \n",
       "                    Mean   :1989  \n",
       "                    3rd Qu.:2000  \n",
       "                    Max.   :2011  "
      ]
     },
     "metadata": {},
     "output_type": "display_data"
    }
   ],
   "source": [
    "summary(movies)"
   ]
  },
  {
   "cell_type": "code",
   "execution_count": 39,
   "id": "ab8f27ca-c8eb-4747-a9a8-191816de1b5e",
   "metadata": {},
   "outputs": [
    {
     "data": {
      "text/html": [
       "<ol class=list-inline>\n",
       "\t<li>8</li>\n",
       "\t<li>2</li>\n",
       "</ol>\n"
      ],
      "text/latex": [
       "\\begin{enumerate*}\n",
       "\\item 8\n",
       "\\item 2\n",
       "\\end{enumerate*}\n"
      ],
      "text/markdown": [
       "1. 8\n",
       "2. 2\n",
       "\n",
       "\n"
      ],
      "text/plain": [
       "[1] 8 2"
      ]
     },
     "metadata": {},
     "output_type": "display_data"
    }
   ],
   "source": [
    "dim(movies)"
   ]
  },
  {
   "cell_type": "code",
   "execution_count": 40,
   "id": "c7d0c12d-8cb2-4ba4-91d6-f7270009cb8b",
   "metadata": {},
   "outputs": [
    {
     "data": {
      "text/html": [
       "<ol class=list-inline>\n",
       "\t<li>'Toy Story'</li>\n",
       "\t<li>'Akira'</li>\n",
       "\t<li>'The Breakfast Club'</li>\n",
       "\t<li>'The Artist'</li>\n",
       "\t<li>'Modern Times'</li>\n",
       "\t<li>'Fight Club'</li>\n",
       "\t<li>'City of God'</li>\n",
       "\t<li>'The Untouchables'</li>\n",
       "</ol>\n"
      ],
      "text/latex": [
       "\\begin{enumerate*}\n",
       "\\item 'Toy Story'\n",
       "\\item 'Akira'\n",
       "\\item 'The Breakfast Club'\n",
       "\\item 'The Artist'\n",
       "\\item 'Modern Times'\n",
       "\\item 'Fight Club'\n",
       "\\item 'City of God'\n",
       "\\item 'The Untouchables'\n",
       "\\end{enumerate*}\n"
      ],
      "text/markdown": [
       "1. 'Toy Story'\n",
       "2. 'Akira'\n",
       "3. 'The Breakfast Club'\n",
       "4. 'The Artist'\n",
       "5. 'Modern Times'\n",
       "6. 'Fight Club'\n",
       "7. 'City of God'\n",
       "8. 'The Untouchables'\n",
       "\n",
       "\n"
      ],
      "text/plain": [
       "[1] \"Toy Story\"          \"Akira\"              \"The Breakfast Club\"\n",
       "[4] \"The Artist\"         \"Modern Times\"       \"Fight Club\"        \n",
       "[7] \"City of God\"        \"The Untouchables\"  "
      ]
     },
     "metadata": {},
     "output_type": "display_data"
    }
   ],
   "source": [
    "movies$name"
   ]
  },
  {
   "cell_type": "code",
   "execution_count": 41,
   "id": "6ed8a6c5-8356-407f-9083-a2307ef784f8",
   "metadata": {},
   "outputs": [
    {
     "data": {
      "text/html": [
       "<table>\n",
       "<thead><tr><th scope=col>name</th></tr></thead>\n",
       "<tbody>\n",
       "\t<tr><td>Toy Story         </td></tr>\n",
       "\t<tr><td>Akira             </td></tr>\n",
       "\t<tr><td>The Breakfast Club</td></tr>\n",
       "\t<tr><td>The Artist        </td></tr>\n",
       "\t<tr><td>Modern Times      </td></tr>\n",
       "\t<tr><td>Fight Club        </td></tr>\n",
       "\t<tr><td>City of God       </td></tr>\n",
       "\t<tr><td>The Untouchables  </td></tr>\n",
       "</tbody>\n",
       "</table>\n"
      ],
      "text/latex": [
       "\\begin{tabular}{r|l}\n",
       " name\\\\\n",
       "\\hline\n",
       "\t Toy Story         \\\\\n",
       "\t Akira             \\\\\n",
       "\t The Breakfast Club\\\\\n",
       "\t The Artist        \\\\\n",
       "\t Modern Times      \\\\\n",
       "\t Fight Club        \\\\\n",
       "\t City of God       \\\\\n",
       "\t The Untouchables  \\\\\n",
       "\\end{tabular}\n"
      ],
      "text/markdown": [
       "\n",
       "| name |\n",
       "|---|\n",
       "| Toy Story          |\n",
       "| Akira              |\n",
       "| The Breakfast Club |\n",
       "| The Artist         |\n",
       "| Modern Times       |\n",
       "| Fight Club         |\n",
       "| City of God        |\n",
       "| The Untouchables   |\n",
       "\n"
      ],
      "text/plain": [
       "  name              \n",
       "1 Toy Story         \n",
       "2 Akira             \n",
       "3 The Breakfast Club\n",
       "4 The Artist        \n",
       "5 Modern Times      \n",
       "6 Fight Club        \n",
       "7 City of God       \n",
       "8 The Untouchables  "
      ]
     },
     "metadata": {},
     "output_type": "display_data"
    }
   ],
   "source": [
    "movies[\"name\"]"
   ]
  },
  {
   "cell_type": "code",
   "execution_count": 42,
   "id": "084bd432-4a77-4401-85fa-24f718690a3e",
   "metadata": {},
   "outputs": [
    {
     "data": {
      "text/html": [
       "<table>\n",
       "<thead><tr><th scope=col>name</th></tr></thead>\n",
       "<tbody>\n",
       "\t<tr><td>Toy Story         </td></tr>\n",
       "\t<tr><td>Akira             </td></tr>\n",
       "\t<tr><td>The Breakfast Club</td></tr>\n",
       "\t<tr><td>The Artist        </td></tr>\n",
       "\t<tr><td>Modern Times      </td></tr>\n",
       "\t<tr><td>Fight Club        </td></tr>\n",
       "\t<tr><td>City of God       </td></tr>\n",
       "\t<tr><td>The Untouchables  </td></tr>\n",
       "</tbody>\n",
       "</table>\n"
      ],
      "text/latex": [
       "\\begin{tabular}{r|l}\n",
       " name\\\\\n",
       "\\hline\n",
       "\t Toy Story         \\\\\n",
       "\t Akira             \\\\\n",
       "\t The Breakfast Club\\\\\n",
       "\t The Artist        \\\\\n",
       "\t Modern Times      \\\\\n",
       "\t Fight Club        \\\\\n",
       "\t City of God       \\\\\n",
       "\t The Untouchables  \\\\\n",
       "\\end{tabular}\n"
      ],
      "text/markdown": [
       "\n",
       "| name |\n",
       "|---|\n",
       "| Toy Story          |\n",
       "| Akira              |\n",
       "| The Breakfast Club |\n",
       "| The Artist         |\n",
       "| Modern Times       |\n",
       "| Fight Club         |\n",
       "| City of God        |\n",
       "| The Untouchables   |\n",
       "\n"
      ],
      "text/plain": [
       "  name              \n",
       "1 Toy Story         \n",
       "2 Akira             \n",
       "3 The Breakfast Club\n",
       "4 The Artist        \n",
       "5 Modern Times      \n",
       "6 Fight Club        \n",
       "7 City of God       \n",
       "8 The Untouchables  "
      ]
     },
     "metadata": {},
     "output_type": "display_data"
    }
   ],
   "source": [
    "movies[1]"
   ]
  },
  {
   "cell_type": "markdown",
   "id": "b974b07d-5678-4f70-9837-865fba4af8a5",
   "metadata": {},
   "source": [
    "str() is one of most useful functions in R. With this function you can obtain textual information about an object"
   ]
  },
  {
   "cell_type": "code",
   "execution_count": 43,
   "id": "cc22f05b-50ff-4197-a4f3-ce6946dfcd53",
   "metadata": {},
   "outputs": [
    {
     "name": "stdout",
     "output_type": "stream",
     "text": [
      "'data.frame':\t8 obs. of  2 variables:\n",
      " $ name: chr  \"Toy Story\" \"Akira\" \"The Breakfast Club\" \"The Artist\" ...\n",
      " $ year: num  1995 1998 1985 2011 1936 ...\n"
     ]
    }
   ],
   "source": [
    "str(movies)"
   ]
  },
  {
   "cell_type": "code",
   "execution_count": 44,
   "id": "1bc311bc-6b73-42ac-8eb9-70c3c19a708b",
   "metadata": {},
   "outputs": [
    {
     "data": {
      "text/html": [
       "<table>\n",
       "<thead><tr><th scope=col>name</th><th scope=col>year</th></tr></thead>\n",
       "<tbody>\n",
       "\t<tr><td>Toy Story         </td><td>1995              </td></tr>\n",
       "\t<tr><td>Akira             </td><td>1998              </td></tr>\n",
       "\t<tr><td>The Breakfast Club</td><td>1985              </td></tr>\n",
       "\t<tr><td>The Artist        </td><td>2011              </td></tr>\n",
       "\t<tr><td>Modern Times      </td><td>1936              </td></tr>\n",
       "\t<tr><td>Fight Club        </td><td>1999              </td></tr>\n",
       "\t<tr><td>City of God       </td><td>2002              </td></tr>\n",
       "\t<tr><td>The Untouchables  </td><td>1987              </td></tr>\n",
       "</tbody>\n",
       "</table>\n"
      ],
      "text/latex": [
       "\\begin{tabular}{r|ll}\n",
       " name & year\\\\\n",
       "\\hline\n",
       "\t Toy Story          & 1995              \\\\\n",
       "\t Akira              & 1998              \\\\\n",
       "\t The Breakfast Club & 1985              \\\\\n",
       "\t The Artist         & 2011              \\\\\n",
       "\t Modern Times       & 1936              \\\\\n",
       "\t Fight Club         & 1999              \\\\\n",
       "\t City of God        & 2002              \\\\\n",
       "\t The Untouchables   & 1987              \\\\\n",
       "\\end{tabular}\n"
      ],
      "text/markdown": [
       "\n",
       "| name | year |\n",
       "|---|---|\n",
       "| Toy Story          | 1995               |\n",
       "| Akira              | 1998               |\n",
       "| The Breakfast Club | 1985               |\n",
       "| The Artist         | 2011               |\n",
       "| Modern Times       | 1936               |\n",
       "| Fight Club         | 1999               |\n",
       "| City of God        | 2002               |\n",
       "| The Untouchables   | 1987               |\n",
       "\n"
      ],
      "text/plain": [
       "  name               year\n",
       "1 Toy Story          1995\n",
       "2 Akira              1998\n",
       "3 The Breakfast Club 1985\n",
       "4 The Artist         2011\n",
       "5 Modern Times       1936\n",
       "6 Fight Club         1999\n",
       "7 City of God        2002\n",
       "8 The Untouchables   1987"
      ]
     },
     "metadata": {},
     "output_type": "display_data"
    }
   ],
   "source": [
    "movies"
   ]
  },
  {
   "cell_type": "code",
   "execution_count": 45,
   "id": "9b4dc02e-9da7-4808-826b-79e56a142b86",
   "metadata": {},
   "outputs": [
    {
     "data": {
      "text/html": [
       "'numeric'"
      ],
      "text/latex": [
       "'numeric'"
      ],
      "text/markdown": [
       "'numeric'"
      ],
      "text/plain": [
       "[1] \"numeric\""
      ]
     },
     "metadata": {},
     "output_type": "display_data"
    }
   ],
   "source": [
    "class(movies$year)"
   ]
  },
  {
   "cell_type": "code",
   "execution_count": 46,
   "id": "4c83b0eb-0993-4d81-a15b-65276dd1fcc4",
   "metadata": {},
   "outputs": [
    {
     "data": {
      "text/html": [
       "1995"
      ],
      "text/latex": [
       "1995"
      ],
      "text/markdown": [
       "1995"
      ],
      "text/plain": [
       "[1] 1995"
      ]
     },
     "metadata": {},
     "output_type": "display_data"
    }
   ],
   "source": [
    "movies[1,2]"
   ]
  },
  {
   "cell_type": "code",
   "execution_count": 47,
   "id": "d45daa6e-9efa-4088-93ef-712f0ed742c5",
   "metadata": {},
   "outputs": [
    {
     "data": {
      "text/html": [
       "<table>\n",
       "<thead><tr><th scope=col>name</th><th scope=col>year</th></tr></thead>\n",
       "<tbody>\n",
       "\t<tr><td>Toy Story         </td><td>1995              </td></tr>\n",
       "\t<tr><td>Akira             </td><td>1998              </td></tr>\n",
       "\t<tr><td>The Breakfast Club</td><td>1985              </td></tr>\n",
       "\t<tr><td>The Artist        </td><td>2011              </td></tr>\n",
       "\t<tr><td>Modern Times      </td><td>1936              </td></tr>\n",
       "\t<tr><td>Fight Club        </td><td>1999              </td></tr>\n",
       "</tbody>\n",
       "</table>\n"
      ],
      "text/latex": [
       "\\begin{tabular}{r|ll}\n",
       " name & year\\\\\n",
       "\\hline\n",
       "\t Toy Story          & 1995              \\\\\n",
       "\t Akira              & 1998              \\\\\n",
       "\t The Breakfast Club & 1985              \\\\\n",
       "\t The Artist         & 2011              \\\\\n",
       "\t Modern Times       & 1936              \\\\\n",
       "\t Fight Club         & 1999              \\\\\n",
       "\\end{tabular}\n"
      ],
      "text/markdown": [
       "\n",
       "| name | year |\n",
       "|---|---|\n",
       "| Toy Story          | 1995               |\n",
       "| Akira              | 1998               |\n",
       "| The Breakfast Club | 1985               |\n",
       "| The Artist         | 2011               |\n",
       "| Modern Times       | 1936               |\n",
       "| Fight Club         | 1999               |\n",
       "\n"
      ],
      "text/plain": [
       "  name               year\n",
       "1 Toy Story          1995\n",
       "2 Akira              1998\n",
       "3 The Breakfast Club 1985\n",
       "4 The Artist         2011\n",
       "5 Modern Times       1936\n",
       "6 Fight Club         1999"
      ]
     },
     "metadata": {},
     "output_type": "display_data"
    }
   ],
   "source": [
    "head(movies)"
   ]
  },
  {
   "cell_type": "code",
   "execution_count": 48,
   "id": "f42152af-456c-466c-934b-dc4baf7de534",
   "metadata": {},
   "outputs": [
    {
     "data": {
      "text/html": [
       "<table>\n",
       "<thead><tr><th></th><th scope=col>name</th><th scope=col>year</th></tr></thead>\n",
       "<tbody>\n",
       "\t<tr><th scope=row>3</th><td>The Breakfast Club</td><td>1985              </td></tr>\n",
       "\t<tr><th scope=row>4</th><td>The Artist        </td><td>2011              </td></tr>\n",
       "\t<tr><th scope=row>5</th><td>Modern Times      </td><td>1936              </td></tr>\n",
       "\t<tr><th scope=row>6</th><td>Fight Club        </td><td>1999              </td></tr>\n",
       "\t<tr><th scope=row>7</th><td>City of God       </td><td>2002              </td></tr>\n",
       "\t<tr><th scope=row>8</th><td>The Untouchables  </td><td>1987              </td></tr>\n",
       "</tbody>\n",
       "</table>\n"
      ],
      "text/latex": [
       "\\begin{tabular}{r|ll}\n",
       "  & name & year\\\\\n",
       "\\hline\n",
       "\t3 & The Breakfast Club & 1985              \\\\\n",
       "\t4 & The Artist         & 2011              \\\\\n",
       "\t5 & Modern Times       & 1936              \\\\\n",
       "\t6 & Fight Club         & 1999              \\\\\n",
       "\t7 & City of God        & 2002              \\\\\n",
       "\t8 & The Untouchables   & 1987              \\\\\n",
       "\\end{tabular}\n"
      ],
      "text/markdown": [
       "\n",
       "| <!--/--> | name | year |\n",
       "|---|---|---|\n",
       "| 3 | The Breakfast Club | 1985               |\n",
       "| 4 | The Artist         | 2011               |\n",
       "| 5 | Modern Times       | 1936               |\n",
       "| 6 | Fight Club         | 1999               |\n",
       "| 7 | City of God        | 2002               |\n",
       "| 8 | The Untouchables   | 1987               |\n",
       "\n"
      ],
      "text/plain": [
       "  name               year\n",
       "3 The Breakfast Club 1985\n",
       "4 The Artist         2011\n",
       "5 Modern Times       1936\n",
       "6 Fight Club         1999\n",
       "7 City of God        2002\n",
       "8 The Untouchables   1987"
      ]
     },
     "metadata": {},
     "output_type": "display_data"
    }
   ],
   "source": [
    "tail(movies)"
   ]
  },
  {
   "cell_type": "markdown",
   "id": "ad0b23ff-343e-4fa3-8d4a-93da31f756be",
   "metadata": {},
   "source": [
    "### Add new Column into our data frame"
   ]
  },
  {
   "cell_type": "code",
   "execution_count": 49,
   "id": "c6f44032-2464-48ee-885e-3a82bfff2b80",
   "metadata": {},
   "outputs": [
    {
     "data": {
      "text/html": [
       "<table>\n",
       "<thead><tr><th scope=col>name</th><th scope=col>year</th><th scope=col>length</th></tr></thead>\n",
       "<tbody>\n",
       "\t<tr><td>Toy Story         </td><td>1995              </td><td> 81               </td></tr>\n",
       "\t<tr><td>Akira             </td><td>1998              </td><td>125               </td></tr>\n",
       "\t<tr><td>The Breakfast Club</td><td>1985              </td><td> 97               </td></tr>\n",
       "\t<tr><td>The Artist        </td><td>2011              </td><td>100               </td></tr>\n",
       "\t<tr><td>Modern Times      </td><td>1936              </td><td> 87               </td></tr>\n",
       "\t<tr><td>Fight Club        </td><td>1999              </td><td>139               </td></tr>\n",
       "\t<tr><td>City of God       </td><td>2002              </td><td>130               </td></tr>\n",
       "\t<tr><td>The Untouchables  </td><td>1987              </td><td>119               </td></tr>\n",
       "</tbody>\n",
       "</table>\n"
      ],
      "text/latex": [
       "\\begin{tabular}{r|lll}\n",
       " name & year & length\\\\\n",
       "\\hline\n",
       "\t Toy Story          & 1995               &  81               \\\\\n",
       "\t Akira              & 1998               & 125               \\\\\n",
       "\t The Breakfast Club & 1985               &  97               \\\\\n",
       "\t The Artist         & 2011               & 100               \\\\\n",
       "\t Modern Times       & 1936               &  87               \\\\\n",
       "\t Fight Club         & 1999               & 139               \\\\\n",
       "\t City of God        & 2002               & 130               \\\\\n",
       "\t The Untouchables   & 1987               & 119               \\\\\n",
       "\\end{tabular}\n"
      ],
      "text/markdown": [
       "\n",
       "| name | year | length |\n",
       "|---|---|---|\n",
       "| Toy Story          | 1995               |  81                |\n",
       "| Akira              | 1998               | 125                |\n",
       "| The Breakfast Club | 1985               |  97                |\n",
       "| The Artist         | 2011               | 100                |\n",
       "| Modern Times       | 1936               |  87                |\n",
       "| Fight Club         | 1999               | 139                |\n",
       "| City of God        | 2002               | 130                |\n",
       "| The Untouchables   | 1987               | 119                |\n",
       "\n"
      ],
      "text/plain": [
       "  name               year length\n",
       "1 Toy Story          1995  81   \n",
       "2 Akira              1998 125   \n",
       "3 The Breakfast Club 1985  97   \n",
       "4 The Artist         2011 100   \n",
       "5 Modern Times       1936  87   \n",
       "6 Fight Club         1999 139   \n",
       "7 City of God        2002 130   \n",
       "8 The Untouchables   1987 119   "
      ]
     },
     "metadata": {},
     "output_type": "display_data"
    }
   ],
   "source": [
    "movies['length'] <- c(81, 125, 97, 100, 87, 139, 130, 119)\n",
    "movies"
   ]
  },
  {
   "cell_type": "markdown",
   "id": "e5fa26ac-b568-4329-b549-073ecfc317ab",
   "metadata": {},
   "source": [
    "### Combine Data Frames\n",
    "In R, we use the rbind() and the cbind() function to combine two data frames together.\n",
    "\n",
    "#### rbind() - combines two data frames vertically\n",
    "#### cbind() - combines two data frames horizontally"
   ]
  },
  {
   "cell_type": "code",
   "execution_count": 50,
   "id": "a72cffa0-9c38-4528-8a0a-730add659d08",
   "metadata": {},
   "outputs": [],
   "source": [
    "New_DF <- cbind(movies, movie_type=c(\"Comedy\",\"Action\",\"Thriller\",\"Romantic\",\"Comedy\",\"Action\",\"Thriller\",\"Action\"))"
   ]
  },
  {
   "cell_type": "code",
   "execution_count": 51,
   "id": "1392abb2-b293-46c8-a973-d315def20b35",
   "metadata": {},
   "outputs": [
    {
     "data": {
      "text/html": [
       "<table>\n",
       "<thead><tr><th scope=col>name</th><th scope=col>year</th><th scope=col>length</th><th scope=col>movie_type</th></tr></thead>\n",
       "<tbody>\n",
       "\t<tr><td>Toy Story         </td><td>1995              </td><td> 81               </td><td>Comedy            </td></tr>\n",
       "\t<tr><td>Akira             </td><td>1998              </td><td>125               </td><td>Action            </td></tr>\n",
       "\t<tr><td>The Breakfast Club</td><td>1985              </td><td> 97               </td><td>Thriller          </td></tr>\n",
       "\t<tr><td>The Artist        </td><td>2011              </td><td>100               </td><td>Romantic          </td></tr>\n",
       "\t<tr><td>Modern Times      </td><td>1936              </td><td> 87               </td><td>Comedy            </td></tr>\n",
       "\t<tr><td>Fight Club        </td><td>1999              </td><td>139               </td><td>Action            </td></tr>\n",
       "\t<tr><td>City of God       </td><td>2002              </td><td>130               </td><td>Thriller          </td></tr>\n",
       "\t<tr><td>The Untouchables  </td><td>1987              </td><td>119               </td><td>Action            </td></tr>\n",
       "</tbody>\n",
       "</table>\n"
      ],
      "text/latex": [
       "\\begin{tabular}{r|llll}\n",
       " name & year & length & movie\\_type\\\\\n",
       "\\hline\n",
       "\t Toy Story          & 1995               &  81                & Comedy            \\\\\n",
       "\t Akira              & 1998               & 125                & Action            \\\\\n",
       "\t The Breakfast Club & 1985               &  97                & Thriller          \\\\\n",
       "\t The Artist         & 2011               & 100                & Romantic          \\\\\n",
       "\t Modern Times       & 1936               &  87                & Comedy            \\\\\n",
       "\t Fight Club         & 1999               & 139                & Action            \\\\\n",
       "\t City of God        & 2002               & 130                & Thriller          \\\\\n",
       "\t The Untouchables   & 1987               & 119                & Action            \\\\\n",
       "\\end{tabular}\n"
      ],
      "text/markdown": [
       "\n",
       "| name | year | length | movie_type |\n",
       "|---|---|---|---|\n",
       "| Toy Story          | 1995               |  81                | Comedy             |\n",
       "| Akira              | 1998               | 125                | Action             |\n",
       "| The Breakfast Club | 1985               |  97                | Thriller           |\n",
       "| The Artist         | 2011               | 100                | Romantic           |\n",
       "| Modern Times       | 1936               |  87                | Comedy             |\n",
       "| Fight Club         | 1999               | 139                | Action             |\n",
       "| City of God        | 2002               | 130                | Thriller           |\n",
       "| The Untouchables   | 1987               | 119                | Action             |\n",
       "\n"
      ],
      "text/plain": [
       "  name               year length movie_type\n",
       "1 Toy Story          1995  81    Comedy    \n",
       "2 Akira              1998 125    Action    \n",
       "3 The Breakfast Club 1985  97    Thriller  \n",
       "4 The Artist         2011 100    Romantic  \n",
       "5 Modern Times       1936  87    Comedy    \n",
       "6 Fight Club         1999 139    Action    \n",
       "7 City of God        2002 130    Thriller  \n",
       "8 The Untouchables   1987 119    Action    "
      ]
     },
     "metadata": {},
     "output_type": "display_data"
    }
   ],
   "source": [
    "New_DF"
   ]
  },
  {
   "cell_type": "markdown",
   "id": "d7f2752b-bdc4-47ed-934e-8345c2f4b756",
   "metadata": {},
   "source": [
    "### Add new row into our data frame"
   ]
  },
  {
   "cell_type": "code",
   "execution_count": 52,
   "id": "94268ae6-ae7f-4271-b188-1ffac492a452",
   "metadata": {},
   "outputs": [],
   "source": [
    "# add a new movie to our data set"
   ]
  },
  {
   "cell_type": "code",
   "execution_count": 53,
   "id": "4dc1d0b9-a3b9-4161-89be-6b8d413b42c6",
   "metadata": {},
   "outputs": [
    {
     "data": {
      "text/html": [
       "<table>\n",
       "<thead><tr><th scope=col>name</th><th scope=col>year</th><th scope=col>length</th></tr></thead>\n",
       "<tbody>\n",
       "\t<tr><td>Toy Story         </td><td>1995              </td><td>81                </td></tr>\n",
       "\t<tr><td>Akira             </td><td>1998              </td><td>125               </td></tr>\n",
       "\t<tr><td>The Breakfast Club</td><td>1985              </td><td>97                </td></tr>\n",
       "\t<tr><td>The Artist        </td><td>2011              </td><td>100               </td></tr>\n",
       "\t<tr><td>Modern Times      </td><td>1936              </td><td>87                </td></tr>\n",
       "\t<tr><td>Fight Club        </td><td>1999              </td><td>139               </td></tr>\n",
       "\t<tr><td>City of God       </td><td>2002              </td><td>130               </td></tr>\n",
       "\t<tr><td>The Untouchables  </td><td>1987              </td><td>119               </td></tr>\n",
       "\t<tr><td>Dr. Strangelove   </td><td>1964              </td><td>94                </td></tr>\n",
       "</tbody>\n",
       "</table>\n"
      ],
      "text/latex": [
       "\\begin{tabular}{r|lll}\n",
       " name & year & length\\\\\n",
       "\\hline\n",
       "\t Toy Story          & 1995               & 81                \\\\\n",
       "\t Akira              & 1998               & 125               \\\\\n",
       "\t The Breakfast Club & 1985               & 97                \\\\\n",
       "\t The Artist         & 2011               & 100               \\\\\n",
       "\t Modern Times       & 1936               & 87                \\\\\n",
       "\t Fight Club         & 1999               & 139               \\\\\n",
       "\t City of God        & 2002               & 130               \\\\\n",
       "\t The Untouchables   & 1987               & 119               \\\\\n",
       "\t Dr. Strangelove    & 1964               & 94                \\\\\n",
       "\\end{tabular}\n"
      ],
      "text/markdown": [
       "\n",
       "| name | year | length |\n",
       "|---|---|---|\n",
       "| Toy Story          | 1995               | 81                 |\n",
       "| Akira              | 1998               | 125                |\n",
       "| The Breakfast Club | 1985               | 97                 |\n",
       "| The Artist         | 2011               | 100                |\n",
       "| Modern Times       | 1936               | 87                 |\n",
       "| Fight Club         | 1999               | 139                |\n",
       "| City of God        | 2002               | 130                |\n",
       "| The Untouchables   | 1987               | 119                |\n",
       "| Dr. Strangelove    | 1964               | 94                 |\n",
       "\n"
      ],
      "text/plain": [
       "  name               year length\n",
       "1 Toy Story          1995 81    \n",
       "2 Akira              1998 125   \n",
       "3 The Breakfast Club 1985 97    \n",
       "4 The Artist         2011 100   \n",
       "5 Modern Times       1936 87    \n",
       "6 Fight Club         1999 139   \n",
       "7 City of God        2002 130   \n",
       "8 The Untouchables   1987 119   \n",
       "9 Dr. Strangelove    1964 94    "
      ]
     },
     "metadata": {},
     "output_type": "display_data"
    }
   ],
   "source": [
    "movies <- rbind(movies, c(name=\"Dr. Strangelove\", year=1964, length=94))\n",
    "movies"
   ]
  },
  {
   "cell_type": "code",
   "execution_count": 54,
   "id": "101ac977-eb0c-4e0d-9a48-9b0f80dd16fe",
   "metadata": {},
   "outputs": [
    {
     "data": {
      "text/html": [
       "<table>\n",
       "<thead><tr><th scope=col>name</th><th scope=col>year</th><th scope=col>length</th></tr></thead>\n",
       "<tbody>\n",
       "\t<tr><td>Toy Story         </td><td>1995              </td><td>81                </td></tr>\n",
       "\t<tr><td>Akira             </td><td>1998              </td><td>125               </td></tr>\n",
       "\t<tr><td>The Breakfast Club</td><td>1985              </td><td>97                </td></tr>\n",
       "\t<tr><td>The Artist        </td><td>2011              </td><td>100               </td></tr>\n",
       "\t<tr><td>Modern Times      </td><td>1936              </td><td>87                </td></tr>\n",
       "\t<tr><td>Fight Club        </td><td>1999              </td><td>139               </td></tr>\n",
       "\t<tr><td>City of God       </td><td>2002              </td><td>130               </td></tr>\n",
       "\t<tr><td>The Untouchables  </td><td>1987              </td><td>119               </td></tr>\n",
       "\t<tr><td>Dr. Strangelove   </td><td>1964              </td><td>94                </td></tr>\n",
       "</tbody>\n",
       "</table>\n"
      ],
      "text/latex": [
       "\\begin{tabular}{r|lll}\n",
       " name & year & length\\\\\n",
       "\\hline\n",
       "\t Toy Story          & 1995               & 81                \\\\\n",
       "\t Akira              & 1998               & 125               \\\\\n",
       "\t The Breakfast Club & 1985               & 97                \\\\\n",
       "\t The Artist         & 2011               & 100               \\\\\n",
       "\t Modern Times       & 1936               & 87                \\\\\n",
       "\t Fight Club         & 1999               & 139               \\\\\n",
       "\t City of God        & 2002               & 130               \\\\\n",
       "\t The Untouchables   & 1987               & 119               \\\\\n",
       "\t Dr. Strangelove    & 1964               & 94                \\\\\n",
       "\\end{tabular}\n"
      ],
      "text/markdown": [
       "\n",
       "| name | year | length |\n",
       "|---|---|---|\n",
       "| Toy Story          | 1995               | 81                 |\n",
       "| Akira              | 1998               | 125                |\n",
       "| The Breakfast Club | 1985               | 97                 |\n",
       "| The Artist         | 2011               | 100                |\n",
       "| Modern Times       | 1936               | 87                 |\n",
       "| Fight Club         | 1999               | 139                |\n",
       "| City of God        | 2002               | 130                |\n",
       "| The Untouchables   | 1987               | 119                |\n",
       "| Dr. Strangelove    | 1964               | 94                 |\n",
       "\n"
      ],
      "text/plain": [
       "  name               year length\n",
       "1 Toy Story          1995 81    \n",
       "2 Akira              1998 125   \n",
       "3 The Breakfast Club 1985 97    \n",
       "4 The Artist         2011 100   \n",
       "5 Modern Times       1936 87    \n",
       "6 Fight Club         1999 139   \n",
       "7 City of God        2002 130   \n",
       "8 The Untouchables   1987 119   \n",
       "9 Dr. Strangelove    1964 94    "
      ]
     },
     "metadata": {},
     "output_type": "display_data"
    }
   ],
   "source": [
    "movies <- movies[-12,]\n",
    "movies"
   ]
  },
  {
   "cell_type": "markdown",
   "id": "59767ec0-adc2-4273-8132-6e925a15a84f",
   "metadata": {},
   "source": [
    "### To delete a column"
   ]
  },
  {
   "cell_type": "code",
   "execution_count": 55,
   "id": "9b731ead-7940-4e01-8f12-ac0b85bbd912",
   "metadata": {},
   "outputs": [
    {
     "data": {
      "text/html": [
       "<table>\n",
       "<thead><tr><th scope=col>name</th><th scope=col>year</th></tr></thead>\n",
       "<tbody>\n",
       "\t<tr><td>Toy Story         </td><td>1995              </td></tr>\n",
       "\t<tr><td>Akira             </td><td>1998              </td></tr>\n",
       "\t<tr><td>The Breakfast Club</td><td>1985              </td></tr>\n",
       "\t<tr><td>The Artist        </td><td>2011              </td></tr>\n",
       "\t<tr><td>Modern Times      </td><td>1936              </td></tr>\n",
       "\t<tr><td>Fight Club        </td><td>1999              </td></tr>\n",
       "\t<tr><td>City of God       </td><td>2002              </td></tr>\n",
       "\t<tr><td>The Untouchables  </td><td>1987              </td></tr>\n",
       "\t<tr><td>Dr. Strangelove   </td><td>1964              </td></tr>\n",
       "</tbody>\n",
       "</table>\n"
      ],
      "text/latex": [
       "\\begin{tabular}{r|ll}\n",
       " name & year\\\\\n",
       "\\hline\n",
       "\t Toy Story          & 1995              \\\\\n",
       "\t Akira              & 1998              \\\\\n",
       "\t The Breakfast Club & 1985              \\\\\n",
       "\t The Artist         & 2011              \\\\\n",
       "\t Modern Times       & 1936              \\\\\n",
       "\t Fight Club         & 1999              \\\\\n",
       "\t City of God        & 2002              \\\\\n",
       "\t The Untouchables   & 1987              \\\\\n",
       "\t Dr. Strangelove    & 1964              \\\\\n",
       "\\end{tabular}\n"
      ],
      "text/markdown": [
       "\n",
       "| name | year |\n",
       "|---|---|\n",
       "| Toy Story          | 1995               |\n",
       "| Akira              | 1998               |\n",
       "| The Breakfast Club | 1985               |\n",
       "| The Artist         | 2011               |\n",
       "| Modern Times       | 1936               |\n",
       "| Fight Club         | 1999               |\n",
       "| City of God        | 2002               |\n",
       "| The Untouchables   | 1987               |\n",
       "| Dr. Strangelove    | 1964               |\n",
       "\n"
      ],
      "text/plain": [
       "  name               year\n",
       "1 Toy Story          1995\n",
       "2 Akira              1998\n",
       "3 The Breakfast Club 1985\n",
       "4 The Artist         2011\n",
       "5 Modern Times       1936\n",
       "6 Fight Club         1999\n",
       "7 City of God        2002\n",
       "8 The Untouchables   1987\n",
       "9 Dr. Strangelove    1964"
      ]
     },
     "metadata": {},
     "output_type": "display_data"
    }
   ],
   "source": [
    "movies[[\"length\"]] <- NULL\n",
    "movies"
   ]
  },
  {
   "cell_type": "markdown",
   "id": "b11a32b4-d107-4c02-bdee-dce9655e4168",
   "metadata": {},
   "source": [
    "### Summarize the Data"
   ]
  },
  {
   "cell_type": "code",
   "execution_count": 56,
   "id": "ef51fb88-5f04-4b5e-a1e9-3d7760d2b199",
   "metadata": {},
   "outputs": [
    {
     "data": {
      "text/html": [
       "<dl>\n",
       "\t<dt>$name</dt>\n",
       "\t\t<dd>'Toy Story'</dd>\n",
       "\t<dt>$year</dt>\n",
       "\t\t<dd>1995</dd>\n",
       "\t<dt>$genre</dt>\n",
       "\t\t<dd><ol class=list-inline>\n",
       "\t<li>'Animation'</li>\n",
       "\t<li>'Adventure'</li>\n",
       "\t<li>'Comedy'</li>\n",
       "</ol>\n",
       "</dd>\n",
       "</dl>\n"
      ],
      "text/latex": [
       "\\begin{description}\n",
       "\\item[\\$name] 'Toy Story'\n",
       "\\item[\\$year] 1995\n",
       "\\item[\\$genre] \\begin{enumerate*}\n",
       "\\item 'Animation'\n",
       "\\item 'Adventure'\n",
       "\\item 'Comedy'\n",
       "\\end{enumerate*}\n",
       "\n",
       "\\end{description}\n"
      ],
      "text/markdown": [
       "$name\n",
       ":   'Toy Story'\n",
       "$year\n",
       ":   1995\n",
       "$genre\n",
       ":   1. 'Animation'\n",
       "2. 'Adventure'\n",
       "3. 'Comedy'\n",
       "\n",
       "\n",
       "\n",
       "\n",
       "\n"
      ],
      "text/plain": [
       "$name\n",
       "[1] \"Toy Story\"\n",
       "\n",
       "$year\n",
       "[1] 1995\n",
       "\n",
       "$genre\n",
       "[1] \"Animation\" \"Adventure\" \"Comedy\"   \n"
      ]
     },
     "metadata": {},
     "output_type": "display_data"
    }
   ],
   "source": [
    "movie"
   ]
  },
  {
   "cell_type": "code",
   "execution_count": 57,
   "id": "3ac8b650-331f-4c27-a638-51178f5dac17",
   "metadata": {},
   "outputs": [
    {
     "data": {
      "text/plain": [
       "      Length Class  Mode     \n",
       "name  1      -none- character\n",
       "year  1      -none- numeric  \n",
       "genre 3      -none- character"
      ]
     },
     "metadata": {},
     "output_type": "display_data"
    }
   ],
   "source": [
    "summary(movie)"
   ]
  },
  {
   "cell_type": "code",
   "execution_count": 58,
   "id": "d802547f-4de8-4af8-8f71-ab0a8558b9ef",
   "metadata": {},
   "outputs": [
    {
     "data": {
      "text/html": [
       "2"
      ],
      "text/latex": [
       "2"
      ],
      "text/markdown": [
       "2"
      ],
      "text/plain": [
       "[1] 2"
      ]
     },
     "metadata": {},
     "output_type": "display_data"
    }
   ],
   "source": [
    "length(movies)"
   ]
  },
  {
   "cell_type": "markdown",
   "id": "2d4fcdce-6ccf-473f-a739-3925a45f289b",
   "metadata": {},
   "source": [
    "### Combining Data Frames - Adding Rows rbind()"
   ]
  },
  {
   "cell_type": "code",
   "execution_count": 59,
   "id": "a73f7a31-c749-43e1-98d0-061fddac99ec",
   "metadata": {},
   "outputs": [],
   "source": [
    "Data_Frame1 <- data.frame (\n",
    "  Training = c(\"Strength\", \"Stamina\", \"Other\"),\n",
    "  Pulse = c(100, 150, 120),\n",
    "  Duration = c(60, 30, 45)\n",
    ")"
   ]
  },
  {
   "cell_type": "code",
   "execution_count": 60,
   "id": "43fa424f-d6a4-49c5-8c54-979a78dc834e",
   "metadata": {},
   "outputs": [
    {
     "data": {
      "text/html": [
       "<table>\n",
       "<thead><tr><th scope=col>Training</th><th scope=col>Pulse</th><th scope=col>Duration</th></tr></thead>\n",
       "<tbody>\n",
       "\t<tr><td>Strength</td><td>100     </td><td>60      </td></tr>\n",
       "\t<tr><td>Stamina </td><td>150     </td><td>30      </td></tr>\n",
       "\t<tr><td>Other   </td><td>120     </td><td>45      </td></tr>\n",
       "</tbody>\n",
       "</table>\n"
      ],
      "text/latex": [
       "\\begin{tabular}{r|lll}\n",
       " Training & Pulse & Duration\\\\\n",
       "\\hline\n",
       "\t Strength & 100      & 60      \\\\\n",
       "\t Stamina  & 150      & 30      \\\\\n",
       "\t Other    & 120      & 45      \\\\\n",
       "\\end{tabular}\n"
      ],
      "text/markdown": [
       "\n",
       "| Training | Pulse | Duration |\n",
       "|---|---|---|\n",
       "| Strength | 100      | 60       |\n",
       "| Stamina  | 150      | 30       |\n",
       "| Other    | 120      | 45       |\n",
       "\n"
      ],
      "text/plain": [
       "  Training Pulse Duration\n",
       "1 Strength 100   60      \n",
       "2 Stamina  150   30      \n",
       "3 Other    120   45      "
      ]
     },
     "metadata": {},
     "output_type": "display_data"
    }
   ],
   "source": [
    "Data_Frame1"
   ]
  },
  {
   "cell_type": "code",
   "execution_count": 61,
   "id": "64ee52d0-3fa7-47f8-bed1-7d40da69e0d1",
   "metadata": {},
   "outputs": [],
   "source": [
    "Data_Frame2 <- data.frame (\n",
    "  Training = c(\"Stamina\", \"Stamina\", \"Strength\"),\n",
    "  Pulse = c(140, 150, 160),\n",
    "  Duration = c(30, 30, 20)\n",
    ")"
   ]
  },
  {
   "cell_type": "code",
   "execution_count": 62,
   "id": "1be8f6c5-f00e-4914-bafe-09e0e8188379",
   "metadata": {},
   "outputs": [
    {
     "data": {
      "text/html": [
       "<table>\n",
       "<thead><tr><th scope=col>Training</th><th scope=col>Pulse</th><th scope=col>Duration</th></tr></thead>\n",
       "<tbody>\n",
       "\t<tr><td>Stamina </td><td>140     </td><td>30      </td></tr>\n",
       "\t<tr><td>Stamina </td><td>150     </td><td>30      </td></tr>\n",
       "\t<tr><td>Strength</td><td>160     </td><td>20      </td></tr>\n",
       "</tbody>\n",
       "</table>\n"
      ],
      "text/latex": [
       "\\begin{tabular}{r|lll}\n",
       " Training & Pulse & Duration\\\\\n",
       "\\hline\n",
       "\t Stamina  & 140      & 30      \\\\\n",
       "\t Stamina  & 150      & 30      \\\\\n",
       "\t Strength & 160      & 20      \\\\\n",
       "\\end{tabular}\n"
      ],
      "text/markdown": [
       "\n",
       "| Training | Pulse | Duration |\n",
       "|---|---|---|\n",
       "| Stamina  | 140      | 30       |\n",
       "| Stamina  | 150      | 30       |\n",
       "| Strength | 160      | 20       |\n",
       "\n"
      ],
      "text/plain": [
       "  Training Pulse Duration\n",
       "1 Stamina  140   30      \n",
       "2 Stamina  150   30      \n",
       "3 Strength 160   20      "
      ]
     },
     "metadata": {},
     "output_type": "display_data"
    }
   ],
   "source": [
    "Data_Frame2"
   ]
  },
  {
   "cell_type": "code",
   "execution_count": 63,
   "id": "d0adc1fe-3f6e-46c7-8e14-1bf017fd300f",
   "metadata": {},
   "outputs": [
    {
     "data": {
      "text/html": [
       "<table>\n",
       "<thead><tr><th scope=col>Training</th><th scope=col>Pulse</th><th scope=col>Duration</th></tr></thead>\n",
       "<tbody>\n",
       "\t<tr><td>Strength</td><td>100     </td><td>60      </td></tr>\n",
       "\t<tr><td>Stamina </td><td>150     </td><td>30      </td></tr>\n",
       "\t<tr><td>Other   </td><td>120     </td><td>45      </td></tr>\n",
       "\t<tr><td>Stamina </td><td>140     </td><td>30      </td></tr>\n",
       "\t<tr><td>Stamina </td><td>150     </td><td>30      </td></tr>\n",
       "\t<tr><td>Strength</td><td>160     </td><td>20      </td></tr>\n",
       "</tbody>\n",
       "</table>\n"
      ],
      "text/latex": [
       "\\begin{tabular}{r|lll}\n",
       " Training & Pulse & Duration\\\\\n",
       "\\hline\n",
       "\t Strength & 100      & 60      \\\\\n",
       "\t Stamina  & 150      & 30      \\\\\n",
       "\t Other    & 120      & 45      \\\\\n",
       "\t Stamina  & 140      & 30      \\\\\n",
       "\t Stamina  & 150      & 30      \\\\\n",
       "\t Strength & 160      & 20      \\\\\n",
       "\\end{tabular}\n"
      ],
      "text/markdown": [
       "\n",
       "| Training | Pulse | Duration |\n",
       "|---|---|---|\n",
       "| Strength | 100      | 60       |\n",
       "| Stamina  | 150      | 30       |\n",
       "| Other    | 120      | 45       |\n",
       "| Stamina  | 140      | 30       |\n",
       "| Stamina  | 150      | 30       |\n",
       "| Strength | 160      | 20       |\n",
       "\n"
      ],
      "text/plain": [
       "  Training Pulse Duration\n",
       "1 Strength 100   60      \n",
       "2 Stamina  150   30      \n",
       "3 Other    120   45      \n",
       "4 Stamina  140   30      \n",
       "5 Stamina  150   30      \n",
       "6 Strength 160   20      "
      ]
     },
     "metadata": {},
     "output_type": "display_data"
    }
   ],
   "source": [
    "New_Data_Frame <- rbind(Data_Frame1, Data_Frame2)\n",
    "New_Data_Frame"
   ]
  },
  {
   "cell_type": "markdown",
   "id": "ebf58d57-3f22-4780-a11d-e597735c7160",
   "metadata": {},
   "source": [
    "### Combining Data Frames - Adding Columns cbind()"
   ]
  },
  {
   "cell_type": "code",
   "execution_count": 64,
   "id": "6a8e176c-e648-4131-9c6b-467cc67153c4",
   "metadata": {},
   "outputs": [],
   "source": [
    "Data_Frame3 <- data.frame (\n",
    "  Training = c(\"Strength\", \"Stamina\", \"Other\"),\n",
    "  Pulse = c(100, 150, 120),\n",
    "  Duration = c(60, 30, 45)\n",
    ")"
   ]
  },
  {
   "cell_type": "code",
   "execution_count": 65,
   "id": "f9c15577-ac2c-49e3-b909-6cce2a8643bb",
   "metadata": {},
   "outputs": [
    {
     "data": {
      "text/html": [
       "<table>\n",
       "<thead><tr><th scope=col>Training</th><th scope=col>Pulse</th><th scope=col>Duration</th></tr></thead>\n",
       "<tbody>\n",
       "\t<tr><td>Strength</td><td>100     </td><td>60      </td></tr>\n",
       "\t<tr><td>Stamina </td><td>150     </td><td>30      </td></tr>\n",
       "\t<tr><td>Other   </td><td>120     </td><td>45      </td></tr>\n",
       "</tbody>\n",
       "</table>\n"
      ],
      "text/latex": [
       "\\begin{tabular}{r|lll}\n",
       " Training & Pulse & Duration\\\\\n",
       "\\hline\n",
       "\t Strength & 100      & 60      \\\\\n",
       "\t Stamina  & 150      & 30      \\\\\n",
       "\t Other    & 120      & 45      \\\\\n",
       "\\end{tabular}\n"
      ],
      "text/markdown": [
       "\n",
       "| Training | Pulse | Duration |\n",
       "|---|---|---|\n",
       "| Strength | 100      | 60       |\n",
       "| Stamina  | 150      | 30       |\n",
       "| Other    | 120      | 45       |\n",
       "\n"
      ],
      "text/plain": [
       "  Training Pulse Duration\n",
       "1 Strength 100   60      \n",
       "2 Stamina  150   30      \n",
       "3 Other    120   45      "
      ]
     },
     "metadata": {},
     "output_type": "display_data"
    }
   ],
   "source": [
    "Data_Frame3"
   ]
  },
  {
   "cell_type": "code",
   "execution_count": 66,
   "id": "453813e4-2d09-4a08-a0b6-99cca5bef887",
   "metadata": {},
   "outputs": [],
   "source": [
    "Data_Frame4 <- data.frame (\n",
    "  Steps = c(3000, 6000, 2000),\n",
    "  Calories = c(300, 400, 300)\n",
    ")"
   ]
  },
  {
   "cell_type": "code",
   "execution_count": 67,
   "id": "17e66964-ada6-49b2-8051-fcdb761ff4b6",
   "metadata": {},
   "outputs": [
    {
     "data": {
      "text/html": [
       "<table>\n",
       "<thead><tr><th scope=col>Steps</th><th scope=col>Calories</th></tr></thead>\n",
       "<tbody>\n",
       "\t<tr><td>3000</td><td>300 </td></tr>\n",
       "\t<tr><td>6000</td><td>400 </td></tr>\n",
       "\t<tr><td>2000</td><td>300 </td></tr>\n",
       "</tbody>\n",
       "</table>\n"
      ],
      "text/latex": [
       "\\begin{tabular}{r|ll}\n",
       " Steps & Calories\\\\\n",
       "\\hline\n",
       "\t 3000 & 300 \\\\\n",
       "\t 6000 & 400 \\\\\n",
       "\t 2000 & 300 \\\\\n",
       "\\end{tabular}\n"
      ],
      "text/markdown": [
       "\n",
       "| Steps | Calories |\n",
       "|---|---|\n",
       "| 3000 | 300  |\n",
       "| 6000 | 400  |\n",
       "| 2000 | 300  |\n",
       "\n"
      ],
      "text/plain": [
       "  Steps Calories\n",
       "1 3000  300     \n",
       "2 6000  400     \n",
       "3 2000  300     "
      ]
     },
     "metadata": {},
     "output_type": "display_data"
    }
   ],
   "source": [
    "Data_Frame4"
   ]
  },
  {
   "cell_type": "code",
   "execution_count": 68,
   "id": "506ade71-7bb0-4b7d-b60e-cac485e9f58e",
   "metadata": {},
   "outputs": [
    {
     "data": {
      "text/html": [
       "<table>\n",
       "<thead><tr><th scope=col>Training</th><th scope=col>Pulse</th><th scope=col>Duration</th><th scope=col>Steps</th><th scope=col>Calories</th></tr></thead>\n",
       "<tbody>\n",
       "\t<tr><td>Strength</td><td>100     </td><td>60      </td><td>3000    </td><td>300     </td></tr>\n",
       "\t<tr><td>Stamina </td><td>150     </td><td>30      </td><td>6000    </td><td>400     </td></tr>\n",
       "\t<tr><td>Other   </td><td>120     </td><td>45      </td><td>2000    </td><td>300     </td></tr>\n",
       "</tbody>\n",
       "</table>\n"
      ],
      "text/latex": [
       "\\begin{tabular}{r|lllll}\n",
       " Training & Pulse & Duration & Steps & Calories\\\\\n",
       "\\hline\n",
       "\t Strength & 100      & 60       & 3000     & 300     \\\\\n",
       "\t Stamina  & 150      & 30       & 6000     & 400     \\\\\n",
       "\t Other    & 120      & 45       & 2000     & 300     \\\\\n",
       "\\end{tabular}\n"
      ],
      "text/markdown": [
       "\n",
       "| Training | Pulse | Duration | Steps | Calories |\n",
       "|---|---|---|---|---|\n",
       "| Strength | 100      | 60       | 3000     | 300      |\n",
       "| Stamina  | 150      | 30       | 6000     | 400      |\n",
       "| Other    | 120      | 45       | 2000     | 300      |\n",
       "\n"
      ],
      "text/plain": [
       "  Training Pulse Duration Steps Calories\n",
       "1 Strength 100   60       3000  300     \n",
       "2 Stamina  150   30       6000  400     \n",
       "3 Other    120   45       2000  300     "
      ]
     },
     "metadata": {},
     "output_type": "display_data"
    }
   ],
   "source": [
    "New_Data_Frame1 <- cbind(Data_Frame3, Data_Frame4)\n",
    "New_Data_Frame1"
   ]
  },
  {
   "cell_type": "code",
   "execution_count": 69,
   "id": "3e837cad-df3b-46ff-8f84-f24291eb236e",
   "metadata": {},
   "outputs": [
    {
     "data": {
      "text/plain": [
       "     Training     Pulse          Duration        Steps         Calories    \n",
       " Other   :1   Min.   :100.0   Min.   :30.0   Min.   :2000   Min.   :300.0  \n",
       " Stamina :1   1st Qu.:110.0   1st Qu.:37.5   1st Qu.:2500   1st Qu.:300.0  \n",
       " Strength:1   Median :120.0   Median :45.0   Median :3000   Median :300.0  \n",
       "              Mean   :123.3   Mean   :45.0   Mean   :3667   Mean   :333.3  \n",
       "              3rd Qu.:135.0   3rd Qu.:52.5   3rd Qu.:4500   3rd Qu.:350.0  \n",
       "              Max.   :150.0   Max.   :60.0   Max.   :6000   Max.   :400.0  "
      ]
     },
     "metadata": {},
     "output_type": "display_data"
    }
   ],
   "source": [
    "summary(New_Data_Frame1)"
   ]
  },
  {
   "cell_type": "code",
   "execution_count": 70,
   "id": "a0f87ca8-eea0-407e-8d44-c59063205d2b",
   "metadata": {},
   "outputs": [
    {
     "data": {
      "text/html": [
       "<table>\n",
       "<thead><tr><th scope=col>Training</th></tr></thead>\n",
       "<tbody>\n",
       "\t<tr><td>Strength</td></tr>\n",
       "\t<tr><td>Stamina </td></tr>\n",
       "\t<tr><td>Other   </td></tr>\n",
       "</tbody>\n",
       "</table>\n"
      ],
      "text/latex": [
       "\\begin{tabular}{r|l}\n",
       " Training\\\\\n",
       "\\hline\n",
       "\t Strength\\\\\n",
       "\t Stamina \\\\\n",
       "\t Other   \\\\\n",
       "\\end{tabular}\n"
      ],
      "text/markdown": [
       "\n",
       "| Training |\n",
       "|---|\n",
       "| Strength |\n",
       "| Stamina  |\n",
       "| Other    |\n",
       "\n"
      ],
      "text/plain": [
       "  Training\n",
       "1 Strength\n",
       "2 Stamina \n",
       "3 Other   "
      ]
     },
     "metadata": {},
     "output_type": "display_data"
    }
   ],
   "source": [
    "New_Data_Frame1[1]"
   ]
  },
  {
   "cell_type": "code",
   "execution_count": 71,
   "id": "cdaeea68-ed0c-4a37-9c61-470a4329bb1a",
   "metadata": {},
   "outputs": [
    {
     "data": {
      "text/html": [
       "<table>\n",
       "<thead><tr><th scope=col>Training</th><th scope=col>Pulse</th><th scope=col>Duration</th></tr></thead>\n",
       "<tbody>\n",
       "\t<tr><td>Strength</td><td>100     </td><td>60      </td></tr>\n",
       "\t<tr><td>Stamina </td><td>150     </td><td>30      </td></tr>\n",
       "\t<tr><td>Other   </td><td>120     </td><td>45      </td></tr>\n",
       "</tbody>\n",
       "</table>\n"
      ],
      "text/latex": [
       "\\begin{tabular}{r|lll}\n",
       " Training & Pulse & Duration\\\\\n",
       "\\hline\n",
       "\t Strength & 100      & 60      \\\\\n",
       "\t Stamina  & 150      & 30      \\\\\n",
       "\t Other    & 120      & 45      \\\\\n",
       "\\end{tabular}\n"
      ],
      "text/markdown": [
       "\n",
       "| Training | Pulse | Duration |\n",
       "|---|---|---|\n",
       "| Strength | 100      | 60       |\n",
       "| Stamina  | 150      | 30       |\n",
       "| Other    | 120      | 45       |\n",
       "\n"
      ],
      "text/plain": [
       "  Training Pulse Duration\n",
       "1 Strength 100   60      \n",
       "2 Stamina  150   30      \n",
       "3 Other    120   45      "
      ]
     },
     "metadata": {},
     "output_type": "display_data"
    },
    {
     "data": {
      "text/html": [
       "<table>\n",
       "<thead><tr><th scope=col>Training</th><th scope=col>Pulse</th><th scope=col>Duration</th></tr></thead>\n",
       "<tbody>\n",
       "\t<tr><td>Strength</td><td>100     </td><td>60      </td></tr>\n",
       "\t<tr><td>Stamina </td><td>150     </td><td>30      </td></tr>\n",
       "\t<tr><td>Other   </td><td>120     </td><td>45      </td></tr>\n",
       "\t<tr><td>Strength</td><td>110     </td><td>110     </td></tr>\n",
       "</tbody>\n",
       "</table>\n"
      ],
      "text/latex": [
       "\\begin{tabular}{r|lll}\n",
       " Training & Pulse & Duration\\\\\n",
       "\\hline\n",
       "\t Strength & 100      & 60      \\\\\n",
       "\t Stamina  & 150      & 30      \\\\\n",
       "\t Other    & 120      & 45      \\\\\n",
       "\t Strength & 110      & 110     \\\\\n",
       "\\end{tabular}\n"
      ],
      "text/markdown": [
       "\n",
       "| Training | Pulse | Duration |\n",
       "|---|---|---|\n",
       "| Strength | 100      | 60       |\n",
       "| Stamina  | 150      | 30       |\n",
       "| Other    | 120      | 45       |\n",
       "| Strength | 110      | 110      |\n",
       "\n"
      ],
      "text/plain": [
       "  Training Pulse Duration\n",
       "1 Strength 100   60      \n",
       "2 Stamina  150   30      \n",
       "3 Other    120   45      \n",
       "4 Strength 110   110     "
      ]
     },
     "metadata": {},
     "output_type": "display_data"
    }
   ],
   "source": [
    "Data_Frame <- data.frame (\n",
    "  Training = c(\"Strength\", \"Stamina\", \"Other\"),\n",
    "  Pulse = c(100, 150, 120),\n",
    "  Duration = c(60, 30, 45)\n",
    ")\n",
    "\n",
    "Data_Frame\n",
    "# Add a new row\n",
    "New_row_DF <- rbind(Data_Frame, c(\"Strength\", 110, 110))\n",
    "\n",
    "# Print the old row\n",
    "\n",
    "\n",
    "# Print the new row\n",
    "New_row_DF\n"
   ]
  },
  {
   "cell_type": "code",
   "execution_count": 72,
   "id": "e5236ac4-ba52-4fe4-93c7-00c4a3abebad",
   "metadata": {},
   "outputs": [
    {
     "data": {
      "text/html": [
       "<table>\n",
       "<thead><tr><th scope=col>Training</th><th scope=col>Pulse</th><th scope=col>Duration</th></tr></thead>\n",
       "<tbody>\n",
       "\t<tr><td>Strength</td><td>100     </td><td>60      </td></tr>\n",
       "\t<tr><td>Stamina </td><td>150     </td><td>30      </td></tr>\n",
       "\t<tr><td>Other   </td><td>120     </td><td>45      </td></tr>\n",
       "</tbody>\n",
       "</table>\n"
      ],
      "text/latex": [
       "\\begin{tabular}{r|lll}\n",
       " Training & Pulse & Duration\\\\\n",
       "\\hline\n",
       "\t Strength & 100      & 60      \\\\\n",
       "\t Stamina  & 150      & 30      \\\\\n",
       "\t Other    & 120      & 45      \\\\\n",
       "\\end{tabular}\n"
      ],
      "text/markdown": [
       "\n",
       "| Training | Pulse | Duration |\n",
       "|---|---|---|\n",
       "| Strength | 100      | 60       |\n",
       "| Stamina  | 150      | 30       |\n",
       "| Other    | 120      | 45       |\n",
       "\n"
      ],
      "text/plain": [
       "  Training Pulse Duration\n",
       "1 Strength 100   60      \n",
       "2 Stamina  150   30      \n",
       "3 Other    120   45      "
      ]
     },
     "metadata": {},
     "output_type": "display_data"
    },
    {
     "data": {
      "text/html": [
       "<table>\n",
       "<thead><tr><th scope=col>Training</th><th scope=col>Pulse</th><th scope=col>Duration</th><th scope=col>Steps</th></tr></thead>\n",
       "<tbody>\n",
       "\t<tr><td>Strength</td><td>100     </td><td>60      </td><td>1000    </td></tr>\n",
       "\t<tr><td>Stamina </td><td>150     </td><td>30      </td><td>6000    </td></tr>\n",
       "\t<tr><td>Other   </td><td>120     </td><td>45      </td><td>2000    </td></tr>\n",
       "</tbody>\n",
       "</table>\n"
      ],
      "text/latex": [
       "\\begin{tabular}{r|llll}\n",
       " Training & Pulse & Duration & Steps\\\\\n",
       "\\hline\n",
       "\t Strength & 100      & 60       & 1000    \\\\\n",
       "\t Stamina  & 150      & 30       & 6000    \\\\\n",
       "\t Other    & 120      & 45       & 2000    \\\\\n",
       "\\end{tabular}\n"
      ],
      "text/markdown": [
       "\n",
       "| Training | Pulse | Duration | Steps |\n",
       "|---|---|---|---|\n",
       "| Strength | 100      | 60       | 1000     |\n",
       "| Stamina  | 150      | 30       | 6000     |\n",
       "| Other    | 120      | 45       | 2000     |\n",
       "\n"
      ],
      "text/plain": [
       "  Training Pulse Duration Steps\n",
       "1 Strength 100   60       1000 \n",
       "2 Stamina  150   30       6000 \n",
       "3 Other    120   45       2000 "
      ]
     },
     "metadata": {},
     "output_type": "display_data"
    }
   ],
   "source": [
    "Data_Frame <- data.frame (\n",
    "  Training = c(\"Strength\", \"Stamina\", \"Other\"),\n",
    "  Pulse = c(100, 150, 120),\n",
    "  Duration = c(60, 30, 45)\n",
    ")\n",
    "\n",
    "Data_Frame \n",
    "\n",
    "# Add a new column\n",
    "New_col_DF <- cbind(Data_Frame, Steps = c(1000, 6000, 2000))\n",
    "\n",
    "# Print the new column\n",
    "New_col_DF"
   ]
  },
  {
   "cell_type": "markdown",
   "id": "2dd28323-7226-4f62-9ad5-84b8dd30c62e",
   "metadata": {},
   "source": [
    "### Remove Rows"
   ]
  },
  {
   "cell_type": "code",
   "execution_count": 73,
   "id": "7d53ed7d-ba09-4735-b116-b9a27bbc701d",
   "metadata": {},
   "outputs": [
    {
     "data": {
      "text/html": [
       "<table>\n",
       "<thead><tr><th scope=col>Training</th><th scope=col>Pulse</th><th scope=col>Duration</th></tr></thead>\n",
       "<tbody>\n",
       "\t<tr><td>Strength</td><td>100     </td><td>60      </td></tr>\n",
       "\t<tr><td>Stamina </td><td>150     </td><td>30      </td></tr>\n",
       "\t<tr><td>Other   </td><td>120     </td><td>45      </td></tr>\n",
       "</tbody>\n",
       "</table>\n"
      ],
      "text/latex": [
       "\\begin{tabular}{r|lll}\n",
       " Training & Pulse & Duration\\\\\n",
       "\\hline\n",
       "\t Strength & 100      & 60      \\\\\n",
       "\t Stamina  & 150      & 30      \\\\\n",
       "\t Other    & 120      & 45      \\\\\n",
       "\\end{tabular}\n"
      ],
      "text/markdown": [
       "\n",
       "| Training | Pulse | Duration |\n",
       "|---|---|---|\n",
       "| Strength | 100      | 60       |\n",
       "| Stamina  | 150      | 30       |\n",
       "| Other    | 120      | 45       |\n",
       "\n"
      ],
      "text/plain": [
       "  Training Pulse Duration\n",
       "1 Strength 100   60      \n",
       "2 Stamina  150   30      \n",
       "3 Other    120   45      "
      ]
     },
     "metadata": {},
     "output_type": "display_data"
    }
   ],
   "source": [
    "Data_Frame <- data.frame (\n",
    "  Training = c(\"Strength\", \"Stamina\", \"Other\"),\n",
    "  Pulse = c(100, 150, 120),\n",
    "  Duration = c(60, 30, 45)\n",
    ")\n",
    "Data_Frame \n",
    "# Remove the first row and column\n"
   ]
  },
  {
   "cell_type": "code",
   "execution_count": 74,
   "id": "3801fd07-f574-4fe9-ad5b-2be89c106ada",
   "metadata": {},
   "outputs": [],
   "source": [
    "Data_Frame_New <- Data_Frame[-c(1)]"
   ]
  },
  {
   "cell_type": "code",
   "execution_count": 75,
   "id": "86acba4e-a2fb-41b6-a0d6-6fb894ac6d94",
   "metadata": {},
   "outputs": [
    {
     "data": {
      "text/html": [
       "<table>\n",
       "<thead><tr><th scope=col>Pulse</th><th scope=col>Duration</th></tr></thead>\n",
       "<tbody>\n",
       "\t<tr><td>100</td><td>60 </td></tr>\n",
       "\t<tr><td>150</td><td>30 </td></tr>\n",
       "\t<tr><td>120</td><td>45 </td></tr>\n",
       "</tbody>\n",
       "</table>\n"
      ],
      "text/latex": [
       "\\begin{tabular}{r|ll}\n",
       " Pulse & Duration\\\\\n",
       "\\hline\n",
       "\t 100 & 60 \\\\\n",
       "\t 150 & 30 \\\\\n",
       "\t 120 & 45 \\\\\n",
       "\\end{tabular}\n"
      ],
      "text/markdown": [
       "\n",
       "| Pulse | Duration |\n",
       "|---|---|\n",
       "| 100 | 60  |\n",
       "| 150 | 30  |\n",
       "| 120 | 45  |\n",
       "\n"
      ],
      "text/plain": [
       "  Pulse Duration\n",
       "1 100   60      \n",
       "2 150   30      \n",
       "3 120   45      "
      ]
     },
     "metadata": {},
     "output_type": "display_data"
    }
   ],
   "source": [
    "Data_Frame_New"
   ]
  },
  {
   "cell_type": "code",
   "execution_count": 76,
   "id": "9587dd8c-2791-4be1-9da0-f99109e305cf",
   "metadata": {},
   "outputs": [
    {
     "data": {
      "text/html": [
       "<table>\n",
       "<thead><tr><th scope=col>Training</th><th scope=col>Pulse</th><th scope=col>Duration</th></tr></thead>\n",
       "<tbody>\n",
       "\t<tr><td>Strength</td><td>100     </td><td>60      </td></tr>\n",
       "\t<tr><td>Stamina </td><td>150     </td><td>30      </td></tr>\n",
       "\t<tr><td>Other   </td><td>120     </td><td>45      </td></tr>\n",
       "</tbody>\n",
       "</table>\n"
      ],
      "text/latex": [
       "\\begin{tabular}{r|lll}\n",
       " Training & Pulse & Duration\\\\\n",
       "\\hline\n",
       "\t Strength & 100      & 60      \\\\\n",
       "\t Stamina  & 150      & 30      \\\\\n",
       "\t Other    & 120      & 45      \\\\\n",
       "\\end{tabular}\n"
      ],
      "text/markdown": [
       "\n",
       "| Training | Pulse | Duration |\n",
       "|---|---|---|\n",
       "| Strength | 100      | 60       |\n",
       "| Stamina  | 150      | 30       |\n",
       "| Other    | 120      | 45       |\n",
       "\n"
      ],
      "text/plain": [
       "  Training Pulse Duration\n",
       "1 Strength 100   60      \n",
       "2 Stamina  150   30      \n",
       "3 Other    120   45      "
      ]
     },
     "metadata": {},
     "output_type": "display_data"
    }
   ],
   "source": [
    "Data_Frame"
   ]
  },
  {
   "cell_type": "code",
   "execution_count": 77,
   "id": "f62718aa-17c5-45c9-b83f-03714a36b02c",
   "metadata": {},
   "outputs": [
    {
     "ename": "ERROR",
     "evalue": "Error in select(Data_Frame, -Duration): could not find function \"select\"\n",
     "output_type": "error",
     "traceback": [
      "Error in select(Data_Frame, -Duration): could not find function \"select\"\nTraceback:\n"
     ]
    }
   ],
   "source": [
    "data<- select(Data_Frame,-Duration)"
   ]
  },
  {
   "cell_type": "code",
   "execution_count": null,
   "id": "4e33137a-ca33-4fce-9c5c-46b4e3386ea9",
   "metadata": {},
   "outputs": [],
   "source": [
    "Data_Frame_New1 <- Data_Frame[,-c(1)]"
   ]
  },
  {
   "cell_type": "code",
   "execution_count": null,
   "id": "88be780e-79a3-4752-a297-454301ed111f",
   "metadata": {},
   "outputs": [],
   "source": [
    "Data_Frame_New1"
   ]
  },
  {
   "cell_type": "markdown",
   "id": "461c4500-f614-493c-8477-7981862dd2a3",
   "metadata": {},
   "source": [
    "## Saving a Data Frame"
   ]
  },
  {
   "cell_type": "code",
   "execution_count": 79,
   "id": "b11080e1-85bb-465b-bd98-c121082f92cf",
   "metadata": {},
   "outputs": [
    {
     "data": {
      "text/html": [
       "<table>\n",
       "<thead><tr><th scope=col>Pulse</th><th scope=col>Duration</th></tr></thead>\n",
       "<tbody>\n",
       "\t<tr><td>100</td><td>60 </td></tr>\n",
       "\t<tr><td>150</td><td>30 </td></tr>\n",
       "\t<tr><td>120</td><td>45 </td></tr>\n",
       "</tbody>\n",
       "</table>\n"
      ],
      "text/latex": [
       "\\begin{tabular}{r|ll}\n",
       " Pulse & Duration\\\\\n",
       "\\hline\n",
       "\t 100 & 60 \\\\\n",
       "\t 150 & 30 \\\\\n",
       "\t 120 & 45 \\\\\n",
       "\\end{tabular}\n"
      ],
      "text/markdown": [
       "\n",
       "| Pulse | Duration |\n",
       "|---|---|\n",
       "| 100 | 60  |\n",
       "| 150 | 30  |\n",
       "| 120 | 45  |\n",
       "\n"
      ],
      "text/plain": [
       "  Pulse Duration\n",
       "1 100   60      \n",
       "2 150   30      \n",
       "3 120   45      "
      ]
     },
     "metadata": {},
     "output_type": "display_data"
    }
   ],
   "source": [
    "Data_Frame_New"
   ]
  },
  {
   "cell_type": "code",
   "execution_count": 78,
   "id": "6502f3c3-5011-448a-8709-2aa277ea185b",
   "metadata": {},
   "outputs": [],
   "source": [
    "write.csv(Data_Frame_New,file=\"Completed.csv\")"
   ]
  },
  {
   "cell_type": "code",
   "execution_count": 82,
   "id": "c07ac6f8-2817-45f3-bf2f-5d5fe57943bc",
   "metadata": {},
   "outputs": [],
   "source": [
    "write.csv(Data_Frame_New,file=\"Completed1.csv\",row.names=FALSE)"
   ]
  },
  {
   "cell_type": "code",
   "execution_count": null,
   "id": "b4a33a15-4202-4745-9d7c-175b71b4f6ac",
   "metadata": {},
   "outputs": [],
   "source": []
  }
 ],
 "metadata": {
  "kernelspec": {
   "display_name": "R",
   "language": "R",
   "name": "ir"
  },
  "language_info": {
   "codemirror_mode": "r",
   "file_extension": ".r",
   "mimetype": "text/x-r-source",
   "name": "R",
   "pygments_lexer": "r",
   "version": "3.6.1"
  }
 },
 "nbformat": 4,
 "nbformat_minor": 5
}
