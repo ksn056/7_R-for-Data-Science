{
 "cells": [
  {
   "cell_type": "markdown",
   "id": "e9e9cc6d-5317-4de1-8f62-c618900fd68b",
   "metadata": {},
   "source": [
    "### if elese"
   ]
  },
  {
   "cell_type": "code",
   "execution_count": 5,
   "id": "b783769f-ee00-460a-99de-25cb12e87070",
   "metadata": {},
   "outputs": [
    {
     "name": "stdout",
     "output_type": "stream",
     "text": [
      "[1] \"x is greater than 5\"\n"
     ]
    }
   ],
   "source": [
    "x <- 10\n",
    "\n",
    "if (x > 5) {\n",
    "  print(\"x is greater than 5\")\n",
    "}"
   ]
  },
  {
   "cell_type": "code",
   "execution_count": 1,
   "id": "14ab82ca-0f70-419d-94ad-ac159a869a36",
   "metadata": {},
   "outputs": [
    {
     "name": "stdout",
     "output_type": "stream",
     "text": [
      "[1] \"x is not greater than 5\"\n"
     ]
    }
   ],
   "source": [
    "x=1\n",
    "if (x > 5) {\n",
    "  print(\"x is greater than 5\")\n",
    "} else {\n",
    "  print(\"x is not greater than 5\")\n",
    "}"
   ]
  },
  {
   "cell_type": "code",
   "execution_count": 2,
   "id": "bcdc5f05-8c04-4b5f-bf5d-2b57004db02d",
   "metadata": {},
   "outputs": [
    {
     "name": "stdout",
     "output_type": "stream",
     "text": [
      "[1] \"a and b are equal\"\n"
     ]
    }
   ],
   "source": [
    "a <- 33\n",
    "b <- 33\n",
    "\n",
    "if (b > a) {\n",
    "  print(\"b is greater than a\")\n",
    "} else if (a == b) {\n",
    "  print (\"a and b are equal\")\n",
    "}"
   ]
  },
  {
   "cell_type": "code",
   "execution_count": 3,
   "id": "c6de986a-0b10-43a4-9430-a72298ce8b99",
   "metadata": {},
   "outputs": [
    {
     "name": "stdout",
     "output_type": "stream",
     "text": [
      "[1] \"a is greater than b\"\n"
     ]
    }
   ],
   "source": [
    "a <- 200\n",
    "b <- 33\n",
    "\n",
    "if (b > a) {\n",
    "  print(\"b is greater than a\")\n",
    "} else if (a == b) {\n",
    "  print(\"a and b are equal\")\n",
    "} else {\n",
    "  print(\"a is greater than b\")\n",
    "}"
   ]
  },
  {
   "cell_type": "markdown",
   "id": "aeac64ed-895d-423b-a48c-7997d8d2e0e8",
   "metadata": {},
   "source": [
    "#### AND & OR in R"
   ]
  },
  {
   "cell_type": "code",
   "execution_count": 5,
   "id": "96444c0a-fa1d-4a90-b49d-3565be9531aa",
   "metadata": {},
   "outputs": [
    {
     "name": "stdout",
     "output_type": "stream",
     "text": [
      "[1] \"Both conditions are true\"\n"
     ]
    }
   ],
   "source": [
    "a <- 200\n",
    "b <- 33\n",
    "c <- 500\n",
    "\n",
    "if (a > b & c > a) {\n",
    "  print(\"Both conditions are true\")\n",
    "}"
   ]
  },
  {
   "cell_type": "code",
   "execution_count": 6,
   "id": "c20908e5-9515-4f03-b7e5-783a6d4082b6",
   "metadata": {},
   "outputs": [
    {
     "name": "stdout",
     "output_type": "stream",
     "text": [
      "[1] \"At least one of the conditions is true\"\n"
     ]
    }
   ],
   "source": [
    "a <- 200\n",
    "b <- 33\n",
    "c <- 500\n",
    "\n",
    "if (a > b | a > c) {\n",
    "  print(\"At least one of the conditions is true\")\n",
    "}"
   ]
  },
  {
   "cell_type": "markdown",
   "id": "a370fab4-a28b-4a58-afb8-9662ca16b70b",
   "metadata": {},
   "source": [
    "### While loop"
   ]
  },
  {
   "cell_type": "code",
   "execution_count": 7,
   "id": "f10bcc98-f4ca-49ac-8151-e1dca1ea06b2",
   "metadata": {},
   "outputs": [
    {
     "name": "stdout",
     "output_type": "stream",
     "text": [
      "[1] 1\n",
      "[1] 2\n",
      "[1] 3\n",
      "[1] 4\n",
      "[1] 5\n"
     ]
    }
   ],
   "source": [
    "i <- 1\n",
    "while (i < 6) {\n",
    "  print(i)\n",
    "  i <- i + 1\n",
    "}"
   ]
  },
  {
   "cell_type": "code",
   "execution_count": 8,
   "id": "2e43c4f1-3547-4c26-87c0-405df96997b5",
   "metadata": {},
   "outputs": [
    {
     "name": "stdout",
     "output_type": "stream",
     "text": [
      "[1] \"Hi\"\n",
      "[1] \"Hi\"\n",
      "[1] \"Hi\"\n",
      "[1] \"Hi\"\n",
      "[1] \"Hi\"\n"
     ]
    }
   ],
   "source": [
    "i <- 1\n",
    "while (i < 6) {\n",
    "  print(\"Hi\")\n",
    "  i <- i + 1\n",
    "}"
   ]
  },
  {
   "cell_type": "markdown",
   "id": "0496f846-c06b-40a0-b06c-ed35e94d9dfa",
   "metadata": {},
   "source": [
    "### Break"
   ]
  },
  {
   "cell_type": "code",
   "execution_count": 9,
   "id": "82764589-39c0-46f2-a94b-dd08d759812c",
   "metadata": {},
   "outputs": [
    {
     "name": "stdout",
     "output_type": "stream",
     "text": [
      "[1] 1\n",
      "[1] 2\n",
      "[1] 3\n"
     ]
    }
   ],
   "source": [
    "i <- 1\n",
    "while (i < 6) {\n",
    "  print(i)\n",
    "  i <- i + 1\n",
    "  if (i == 4) {\n",
    "    break\n",
    "  }\n",
    "}"
   ]
  },
  {
   "cell_type": "code",
   "execution_count": 11,
   "id": "ab5b8869-5e4b-44e2-a16e-e35285347f94",
   "metadata": {},
   "outputs": [
    {
     "name": "stdout",
     "output_type": "stream",
     "text": [
      "[1] 1\n",
      "[1] 2\n",
      "[1] 4\n",
      "[1] 5\n",
      "[1] 6\n"
     ]
    }
   ],
   "source": [
    "i <- 0\n",
    "while (i < 6) {\n",
    "  i <- i + 1\n",
    "  if (i == 3) {\n",
    "    next\n",
    "  }\n",
    "  print(i)\n",
    "}"
   ]
  },
  {
   "cell_type": "code",
   "execution_count": 10,
   "id": "f276d373-90a6-40b0-b38c-92539c23731e",
   "metadata": {},
   "outputs": [
    {
     "name": "stdout",
     "output_type": "stream",
     "text": [
      "[1] \"No Yahtzee\"\n",
      "[1] \"No Yahtzee\"\n",
      "[1] \"No Yahtzee\"\n",
      "[1] \"No Yahtzee\"\n",
      "[1] \"No Yahtzee\"\n",
      "[1] \"Yahtzee!\"\n"
     ]
    }
   ],
   "source": [
    "dice <- 1\n",
    "while (dice <= 6) {\n",
    "  if (dice < 6) {\n",
    "    print(\"No Yahtzee\")\n",
    "  } else {\n",
    "    print(\"Yahtzee!\")\n",
    "  }\n",
    "  dice <- dice + 1\n",
    "}"
   ]
  },
  {
   "cell_type": "markdown",
   "id": "e2887223-e942-4870-aed6-deb789636df5",
   "metadata": {},
   "source": [
    "#### For Loop"
   ]
  },
  {
   "cell_type": "code",
   "execution_count": 9,
   "id": "aca8ac15-0c3a-4355-b7f3-6e7cd973b1cd",
   "metadata": {},
   "outputs": [
    {
     "name": "stdout",
     "output_type": "stream",
     "text": [
      "[1] 1\n",
      "[1] 2\n",
      "[1] 3\n",
      "[1] 4\n",
      "[1] 5\n"
     ]
    }
   ],
   "source": [
    "for(i in 1:5)\n",
    "{\n",
    "  print(i);\n",
    "    \n",
    "}"
   ]
  },
  {
   "cell_type": "code",
   "execution_count": 15,
   "id": "bf0ea401-7c3a-4ffa-868b-ea0aab5f814d",
   "metadata": {},
   "outputs": [
    {
     "name": "stdout",
     "output_type": "stream",
     "text": [
      "[1] \"Iteration: 1\"\n",
      "[1] \"Iteration: 2\"\n",
      "[1] \"Iteration: 3\"\n",
      "[1] \"Iteration: 4\"\n",
      "[1] \"Iteration: 5\"\n"
     ]
    }
   ],
   "source": [
    "# Loop from 1 to 5\n",
    "for (i in 1:5) {\n",
    "  print(paste(\"Iteration:\", i))\n",
    "}"
   ]
  },
  {
   "cell_type": "code",
   "execution_count": 13,
   "id": "e85d5f59-c1d8-4c76-baf0-fd6321121dba",
   "metadata": {},
   "outputs": [
    {
     "name": "stdout",
     "output_type": "stream",
     "text": [
      "[1] \"Welcome\"\n",
      "[1] \"Welcome\"\n",
      "[1] \"Welcome\"\n",
      "[1] \"Welcome\"\n",
      "[1] \"Welcome\"\n"
     ]
    }
   ],
   "source": [
    "for(i in 1:5)\n",
    "{\n",
    "  print(\"Welcome\");\n",
    "    \n",
    "}"
   ]
  },
  {
   "cell_type": "code",
   "execution_count": 12,
   "id": "e2e208ba-990c-4242-b28b-b1ca51187bcf",
   "metadata": {},
   "outputs": [
    {
     "name": "stdout",
     "output_type": "stream",
     "text": [
      "[1] \"Apple\"\n",
      "[1] \"Banana\"\n",
      "[1] \"Orange\"\n",
      "[1] \"Grape\"\n"
     ]
    }
   ],
   "source": [
    "# Loop over elements in a vector\n",
    "fruits <- c(\"Apple\", \"Banana\", \"Orange\", \"Grape\")\n",
    "\n",
    "for (x in fruits) {\n",
    "  print(paste(x))\n",
    "}"
   ]
  },
  {
   "cell_type": "code",
   "execution_count": 13,
   "id": "de1ddd2d-ffa1-4d4a-bc27-8d86e9c02243",
   "metadata": {},
   "outputs": [
    {
     "name": "stdout",
     "output_type": "stream",
     "text": [
      "[1] \"Sum of elements: 15\"\n"
     ]
    }
   ],
   "source": [
    "numbers <- c(1, 2, 3, 4, 5)\n",
    "sum_result <- 0\n",
    "\n",
    "for (num in numbers) {\n",
    "  sum_result <- sum_result + num\n",
    "}\n",
    "\n",
    "print(paste(\"Sum of elements:\", sum_result))"
   ]
  },
  {
   "cell_type": "code",
   "execution_count": 17,
   "id": "e07e4497-9bb3-4a63-822d-918f32a0e4da",
   "metadata": {},
   "outputs": [
    {
     "name": "stdout",
     "output_type": "stream",
     "text": [
      " [1] \"2\"  \"4\"  \"6\"  \"8\"  \"10\" \"12\" \"14\" \"16\" \"18\" \"20\"\n"
     ]
    }
   ],
   "source": [
    "\n",
    "for (i in 1:10L) {\n",
    "  x[i] <- i * 2\n",
    "}\n",
    "\n",
    "print(x)"
   ]
  },
  {
   "cell_type": "markdown",
   "id": "0272ab60-b870-41bb-a7c3-3d8bb5f0314f",
   "metadata": {},
   "source": [
    "#### Functions"
   ]
  },
  {
   "cell_type": "code",
   "execution_count": 43,
   "id": "0980070b-e01e-42f5-986b-5d166625017d",
   "metadata": {},
   "outputs": [],
   "source": [
    "#Pre-defined functions\n",
    "#User defined functions\n"
   ]
  },
  {
   "cell_type": "code",
   "execution_count": 44,
   "id": "93530a0e-227f-43f9-9825-8454adf7fd83",
   "metadata": {},
   "outputs": [
    {
     "data": {
      "text/html": [
       "8.03333333333333"
      ],
      "text/latex": [
       "8.03333333333333"
      ],
      "text/markdown": [
       "8.03333333333333"
      ],
      "text/plain": [
       "[1] 8.033333"
      ]
     },
     "metadata": {},
     "output_type": "display_data"
    }
   ],
   "source": [
    "ratings <- c(8.7, 6.9, 8.5)\n",
    "mean(ratings)"
   ]
  },
  {
   "cell_type": "code",
   "execution_count": 45,
   "id": "26eec84a-3485-4094-b188-a0caa08697a8",
   "metadata": {},
   "outputs": [
    {
     "data": {
      "text/html": [
       "<ol class=list-inline>\n",
       "\t<li>6.9</li>\n",
       "\t<li>8.5</li>\n",
       "\t<li>8.7</li>\n",
       "</ol>\n"
      ],
      "text/latex": [
       "\\begin{enumerate*}\n",
       "\\item 6.9\n",
       "\\item 8.5\n",
       "\\item 8.7\n",
       "\\end{enumerate*}\n"
      ],
      "text/markdown": [
       "1. 6.9\n",
       "2. 8.5\n",
       "3. 8.7\n",
       "\n",
       "\n"
      ],
      "text/plain": [
       "[1] 6.9 8.5 8.7"
      ]
     },
     "metadata": {},
     "output_type": "display_data"
    }
   ],
   "source": [
    "sort(ratings)"
   ]
  },
  {
   "cell_type": "code",
   "execution_count": 19,
   "id": "a1ee3e16-2216-495e-aee2-ba2ac4d457fe",
   "metadata": {},
   "outputs": [
    {
     "name": "stdout",
     "output_type": "stream",
     "text": [
      "[1] \"Welcome\"\n"
     ]
    }
   ],
   "source": [
    "# Define Function\n",
    "demo<-function()\n",
    "    {\n",
    "      print(\"Welcome\")\n",
    "    }\n",
    "# Call\n",
    "demo()"
   ]
  },
  {
   "cell_type": "code",
   "execution_count": 20,
   "id": "58861e59-d587-4c15-9ab0-efe48acd6cf8",
   "metadata": {},
   "outputs": [],
   "source": [
    "# Define a simple function\n",
    "square <- function(x) {\n",
    "  return(x^2)\n",
    "}"
   ]
  },
  {
   "cell_type": "code",
   "execution_count": 21,
   "id": "517a6a57-c6a6-4bae-919f-26e2917ff0b0",
   "metadata": {},
   "outputs": [
    {
     "data": {
      "text/html": [
       "4"
      ],
      "text/latex": [
       "4"
      ],
      "text/markdown": [
       "4"
      ],
      "text/plain": [
       "[1] 4"
      ]
     },
     "metadata": {},
     "output_type": "display_data"
    },
    {
     "name": "stdout",
     "output_type": "stream",
     "text": [
      "[1] 25\n"
     ]
    }
   ],
   "source": [
    "# Use the function\n",
    "square(2)\n",
    "result <- square(5)\n",
    "print(result)  # Output: 25"
   ]
  },
  {
   "cell_type": "code",
   "execution_count": 23,
   "id": "6e70c2cd-8498-4b85-8453-f0245ff00550",
   "metadata": {},
   "outputs": [
    {
     "data": {
      "text/html": [
       "30"
      ],
      "text/latex": [
       "30"
      ],
      "text/markdown": [
       "30"
      ],
      "text/plain": [
       "[1] 30"
      ]
     },
     "metadata": {},
     "output_type": "display_data"
    },
    {
     "name": "stdout",
     "output_type": "stream",
     "text": [
      "[1] 25\n"
     ]
    }
   ],
   "source": [
    "# Define a function with multiple parameters\n",
    "add <- function(a, b) {\n",
    "  return(a + b)\n",
    "}\n",
    "\n",
    "# Use the function\n",
    "add(10,20)\n",
    "sum <- add(10, 15)\n",
    "print(sum)  "
   ]
  },
  {
   "cell_type": "code",
   "execution_count": 24,
   "id": "f8b59650-7245-408d-9eea-8680fea53983",
   "metadata": {},
   "outputs": [
    {
     "name": "stdout",
     "output_type": "stream",
     "text": [
      "[1] 9\n",
      "[1] 27\n"
     ]
    }
   ],
   "source": [
    "# Define a function with a default parameter\n",
    "power <- function(x, exponent = 2) {\n",
    "  return(x^exponent)\n",
    "}\n",
    "\n",
    "# Use the function\n",
    "result1 <- power(3)       # Equivalent to power(3, 2)\n",
    "result2 <- power(3, 3)    # Raise 3 to the power of 3\n",
    "print(result1)  # Output: 9\n",
    "print(result2)  # Output: 27"
   ]
  },
  {
   "cell_type": "code",
   "execution_count": 25,
   "id": "b21305fc-2897-4b2d-a0a6-caf7b584cb77",
   "metadata": {},
   "outputs": [
    {
     "name": "stdout",
     "output_type": "stream",
     "text": [
      "[1] 20\n",
      "[1] 20\n"
     ]
    }
   ],
   "source": [
    "# Define a function returning multiple values\n",
    "calculate_stats <- function(data) {\n",
    "  mean_value <- mean(data)\n",
    "  median_value <- median(data)\n",
    "  return(c(mean_value, median_value))\n",
    "}\n",
    "\n",
    "# Use the function\n",
    "data <- c(10, 15, 20, 25, 30)\n",
    "stats <- calculate_stats(data)\n",
    "print(stats[1])  # Output: Mean value\n",
    "print(stats[2])  # Output: Median value"
   ]
  },
  {
   "cell_type": "code",
   "execution_count": 28,
   "id": "a0dc1f9d-2a7d-476b-969b-2135cb4a15ac",
   "metadata": {},
   "outputs": [
    {
     "name": "stdout",
     "output_type": "stream",
     "text": [
      "[1] 20\n",
      "[1] 20\n"
     ]
    }
   ],
   "source": [
    "# Define a function returning multiple values\n",
    "calculate_stats <- function(data) {\n",
    "  mean_value <- mean(data)\n",
    "  median_value <- median(data)\n",
    "  return(c(mean_value, median_value))\n",
    "}\n",
    "\n",
    "# Use the function\n",
    "data <- c(10, 15, 20, 25, 30)\n",
    "stats <- calculate_stats(data)\n",
    "print(stats[1])  # Output: Mean value\n",
    "print(stats[2])  # Output: Median value"
   ]
  },
  {
   "cell_type": "markdown",
   "id": "7b16faa2-9cd1-44ef-af5e-f6034de8cc98",
   "metadata": {},
   "source": [
    "### Object and Classes"
   ]
  },
  {
   "cell_type": "code",
   "execution_count": 46,
   "id": "ac2b1970-e3d4-4779-b465-309414e1743e",
   "metadata": {},
   "outputs": [
    {
     "data": {
      "text/html": [
       "<ol class=list-inline>\n",
       "\t<li>8.3</li>\n",
       "\t<li>5.2</li>\n",
       "\t<li>9.3</li>\n",
       "\t<li>8</li>\n",
       "</ol>\n"
      ],
      "text/latex": [
       "\\begin{enumerate*}\n",
       "\\item 8.3\n",
       "\\item 5.2\n",
       "\\item 9.3\n",
       "\\item 8\n",
       "\\end{enumerate*}\n"
      ],
      "text/markdown": [
       "1. 8.3\n",
       "2. 5.2\n",
       "3. 9.3\n",
       "4. 8\n",
       "\n",
       "\n"
      ],
      "text/plain": [
       "[1] 8.3 5.2 9.3 8.0"
      ]
     },
     "metadata": {},
     "output_type": "display_data"
    }
   ],
   "source": [
    "movie_rating <- c(8.3, 5.2, 9.3, 8.0) # create a vector from average ratings \n",
    "movie_rating # print the variable"
   ]
  },
  {
   "cell_type": "code",
   "execution_count": 47,
   "id": "b226a89e-c3a4-4cd5-a15e-a29df1302f49",
   "metadata": {},
   "outputs": [
    {
     "data": {
      "text/html": [
       "'numeric'"
      ],
      "text/latex": [
       "'numeric'"
      ],
      "text/markdown": [
       "'numeric'"
      ],
      "text/plain": [
       "[1] \"numeric\""
      ]
     },
     "metadata": {},
     "output_type": "display_data"
    }
   ],
   "source": [
    "class(movie_rating) # show the variable's data type"
   ]
  },
  {
   "cell_type": "code",
   "execution_count": 48,
   "id": "e635dbc4-58c2-4efb-b69a-0511c9ae0d2d",
   "metadata": {},
   "outputs": [
    {
     "data": {
      "text/html": [
       "8.3"
      ],
      "text/latex": [
       "8.3"
      ],
      "text/markdown": [
       "8.3"
      ],
      "text/plain": [
       "[1] 8.3"
      ]
     },
     "metadata": {},
     "output_type": "display_data"
    }
   ],
   "source": [
    "average_rating <- 8.3       # assign a decimal value\n",
    "average_rating    "
   ]
  },
  {
   "cell_type": "code",
   "execution_count": 49,
   "id": "61efd29d-50e2-4c4e-8e45-a6b020974083",
   "metadata": {},
   "outputs": [
    {
     "data": {
      "text/html": [
       "'numeric'"
      ],
      "text/latex": [
       "'numeric'"
      ],
      "text/markdown": [
       "'numeric'"
      ],
      "text/plain": [
       "[1] \"numeric\""
      ]
     },
     "metadata": {},
     "output_type": "display_data"
    }
   ],
   "source": [
    "class(average_rating)   "
   ]
  },
  {
   "cell_type": "code",
   "execution_count": 50,
   "id": "e78ca927-6a28-47bb-b021-4e4ceeb07139",
   "metadata": {},
   "outputs": [],
   "source": [
    "### Character"
   ]
  },
  {
   "cell_type": "code",
   "execution_count": 51,
   "id": "96a3dbc5-0977-47f4-af89-041396703d61",
   "metadata": {},
   "outputs": [
    {
     "data": {
      "text/html": [
       "<ol class=list-inline>\n",
       "\t<li>'Toy Story'</li>\n",
       "\t<li>'Akira'</li>\n",
       "\t<li>'The Breakfast Club'</li>\n",
       "\t<li>'The Artist'</li>\n",
       "</ol>\n"
      ],
      "text/latex": [
       "\\begin{enumerate*}\n",
       "\\item 'Toy Story'\n",
       "\\item 'Akira'\n",
       "\\item 'The Breakfast Club'\n",
       "\\item 'The Artist'\n",
       "\\end{enumerate*}\n"
      ],
      "text/markdown": [
       "1. 'Toy Story'\n",
       "2. 'Akira'\n",
       "3. 'The Breakfast Club'\n",
       "4. 'The Artist'\n",
       "\n",
       "\n"
      ],
      "text/plain": [
       "[1] \"Toy Story\"          \"Akira\"              \"The Breakfast Club\"\n",
       "[4] \"The Artist\"        "
      ]
     },
     "metadata": {},
     "output_type": "display_data"
    },
    {
     "data": {
      "text/html": [
       "'character'"
      ],
      "text/latex": [
       "'character'"
      ],
      "text/markdown": [
       "'character'"
      ],
      "text/plain": [
       "[1] \"character\""
      ]
     },
     "metadata": {},
     "output_type": "display_data"
    }
   ],
   "source": [
    "movies <-c(\"Toy Story\", \"Akira\", \"The Breakfast Club\", \"The Artist\")\n",
    "movies\n",
    "class(movies)"
   ]
  },
  {
   "cell_type": "code",
   "execution_count": 52,
   "id": "f4ae4f62-7732-420f-af35-475a31edf766",
   "metadata": {},
   "outputs": [
    {
     "data": {
      "text/html": [
       "<ol class=list-inline>\n",
       "\t<li>'Toy Story'</li>\n",
       "\t<li>'1995'</li>\n",
       "\t<li>'Akira'</li>\n",
       "\t<li>'1998'</li>\n",
       "</ol>\n"
      ],
      "text/latex": [
       "\\begin{enumerate*}\n",
       "\\item 'Toy Story'\n",
       "\\item '1995'\n",
       "\\item 'Akira'\n",
       "\\item '1998'\n",
       "\\end{enumerate*}\n"
      ],
      "text/markdown": [
       "1. 'Toy Story'\n",
       "2. '1995'\n",
       "3. 'Akira'\n",
       "4. '1998'\n",
       "\n",
       "\n"
      ],
      "text/plain": [
       "[1] \"Toy Story\" \"1995\"      \"Akira\"     \"1998\"     "
      ]
     },
     "metadata": {},
     "output_type": "display_data"
    },
    {
     "data": {
      "text/html": [
       "'character'"
      ],
      "text/latex": [
       "'character'"
      ],
      "text/markdown": [
       "'character'"
      ],
      "text/plain": [
       "[1] \"character\""
      ]
     },
     "metadata": {},
     "output_type": "display_data"
    }
   ],
   "source": [
    "combined <- c(\"Toy Story\", 1995, \"Akira\", 1998)\n",
    "combined\n",
    "class(combined)"
   ]
  },
  {
   "cell_type": "code",
   "execution_count": 53,
   "id": "cdd57a69-f496-4083-811a-200899be944e",
   "metadata": {},
   "outputs": [
    {
     "data": {
      "text/html": [
       "<ol class=list-inline>\n",
       "\t<li>80</li>\n",
       "\t<li>110</li>\n",
       "\t<li>90</li>\n",
       "\t<li>80</li>\n",
       "</ol>\n"
      ],
      "text/latex": [
       "\\begin{enumerate*}\n",
       "\\item 80\n",
       "\\item 110\n",
       "\\item 90\n",
       "\\item 80\n",
       "\\end{enumerate*}\n"
      ],
      "text/markdown": [
       "1. 80\n",
       "2. 110\n",
       "3. 90\n",
       "4. 80\n",
       "\n",
       "\n"
      ],
      "text/plain": [
       "[1]  80 110  90  80"
      ]
     },
     "metadata": {},
     "output_type": "display_data"
    },
    {
     "data": {
      "text/html": [
       "'numeric'"
      ],
      "text/latex": [
       "'numeric'"
      ],
      "text/markdown": [
       "'numeric'"
      ],
      "text/plain": [
       "[1] \"numeric\""
      ]
     },
     "metadata": {},
     "output_type": "display_data"
    }
   ],
   "source": [
    "movie_length <- c(80, 110, 90, 80) # create a vector from movie length\n",
    "movie_length # print the variable\n",
    "class(movie_length)"
   ]
  },
  {
   "cell_type": "code",
   "execution_count": 54,
   "id": "365e500a-21ed-4fb1-8077-fd6f1703b358",
   "metadata": {},
   "outputs": [],
   "source": [
    "#Integer"
   ]
  },
  {
   "cell_type": "code",
   "execution_count": 55,
   "id": "5fd98f71-5666-4131-880b-764b58a895a3",
   "metadata": {},
   "outputs": [
    {
     "data": {
      "text/html": [
       "<ol class=list-inline>\n",
       "\t<li>12</li>\n",
       "\t<li>10</li>\n",
       "\t<li>18</li>\n",
       "\t<li>18</li>\n",
       "</ol>\n"
      ],
      "text/latex": [
       "\\begin{enumerate*}\n",
       "\\item 12\n",
       "\\item 10\n",
       "\\item 18\n",
       "\\item 18\n",
       "\\end{enumerate*}\n"
      ],
      "text/markdown": [
       "1. 12\n",
       "2. 10\n",
       "3. 18\n",
       "4. 18\n",
       "\n",
       "\n"
      ],
      "text/plain": [
       "[1] 12 10 18 18"
      ]
     },
     "metadata": {},
     "output_type": "display_data"
    },
    {
     "data": {
      "text/html": [
       "'numeric'"
      ],
      "text/latex": [
       "'numeric'"
      ],
      "text/markdown": [
       "'numeric'"
      ],
      "text/plain": [
       "[1] \"numeric\""
      ]
     },
     "metadata": {},
     "output_type": "display_data"
    }
   ],
   "source": [
    "age_restriction <- c(12, 10, 18, 18) # create a vector from age restriction\n",
    "age_restriction # print the vector\n",
    "\n",
    "class(age_restriction)"
   ]
  },
  {
   "cell_type": "code",
   "execution_count": 56,
   "id": "bdc924bf-f548-4fb3-96f4-2c3eae785fa1",
   "metadata": {},
   "outputs": [
    {
     "data": {
      "text/html": [
       "'integer'"
      ],
      "text/latex": [
       "'integer'"
      ],
      "text/markdown": [
       "'integer'"
      ],
      "text/plain": [
       "[1] \"integer\""
      ]
     },
     "metadata": {},
     "output_type": "display_data"
    }
   ],
   "source": [
    "integer_vector <- as.integer(age_restriction)\n",
    "class(integer_vector)"
   ]
  },
  {
   "cell_type": "code",
   "execution_count": 57,
   "id": "0d6471de-b18f-45e0-9198-171bec0625d3",
   "metadata": {},
   "outputs": [],
   "source": [
    "### Logical"
   ]
  },
  {
   "cell_type": "code",
   "execution_count": 58,
   "id": "c62b8fb6-ad75-42ba-afb9-07ffefdfc6e7",
   "metadata": {},
   "outputs": [
    {
     "data": {
      "text/html": [
       "'logical'"
      ],
      "text/latex": [
       "'logical'"
      ],
      "text/markdown": [
       "'logical'"
      ],
      "text/plain": [
       "[1] \"logical\""
      ]
     },
     "metadata": {},
     "output_type": "display_data"
    }
   ],
   "source": [
    "logical_vector <- c(T,F,F,T,T) # creating the vector\n",
    "class(logical_vector)"
   ]
  },
  {
   "cell_type": "code",
   "execution_count": 59,
   "id": "f01da922-e80f-437d-9082-ab30062a1bf0",
   "metadata": {},
   "outputs": [],
   "source": [
    "length_Akira <- 125\n",
    "length_ToyStory <- 81"
   ]
  },
  {
   "cell_type": "code",
   "execution_count": 60,
   "id": "aec82f6b-f9b4-44a0-b53f-7be7046c07e3",
   "metadata": {},
   "outputs": [
    {
     "data": {
      "text/html": [
       "FALSE"
      ],
      "text/latex": [
       "FALSE"
      ],
      "text/markdown": [
       "FALSE"
      ],
      "text/plain": [
       "[1] FALSE"
      ]
     },
     "metadata": {},
     "output_type": "display_data"
    }
   ],
   "source": [
    "x <- length_ToyStory > length_Akira      # is ToyStory larger than akira? \n",
    "x          "
   ]
  },
  {
   "cell_type": "code",
   "execution_count": 61,
   "id": "bd29ccba-029b-436d-ab98-879b1cf688e6",
   "metadata": {},
   "outputs": [
    {
     "data": {
      "text/html": [
       "TRUE"
      ],
      "text/latex": [
       "TRUE"
      ],
      "text/markdown": [
       "TRUE"
      ],
      "text/plain": [
       "[1] TRUE"
      ]
     },
     "metadata": {},
     "output_type": "display_data"
    }
   ],
   "source": [
    "x <- length_Akira > length_ToyStory # is akira larger than ToyStory?               \n",
    "x # print the logical value"
   ]
  },
  {
   "cell_type": "code",
   "execution_count": 62,
   "id": "bed5f764-e51a-49af-b5a8-88db2fbb5bfb",
   "metadata": {},
   "outputs": [
    {
     "data": {
      "text/html": [
       "'logical'"
      ],
      "text/latex": [
       "'logical'"
      ],
      "text/markdown": [
       "'logical'"
      ],
      "text/plain": [
       "[1] \"logical\""
      ]
     },
     "metadata": {},
     "output_type": "display_data"
    }
   ],
   "source": [
    "class(x)"
   ]
  },
  {
   "cell_type": "code",
   "execution_count": 63,
   "id": "ade8f4e2-f5bf-48f6-9e00-88eee7c047c1",
   "metadata": {},
   "outputs": [],
   "source": [
    "### Complex"
   ]
  },
  {
   "cell_type": "code",
   "execution_count": 64,
   "id": "22aa45b5-18a1-46cf-89fa-5d87d4d7c1b2",
   "metadata": {},
   "outputs": [
    {
     "data": {
      "text/html": [
       "8+6i"
      ],
      "text/latex": [
       "8+6i"
      ],
      "text/markdown": [
       "8+6i"
      ],
      "text/plain": [
       "[1] 8+6i"
      ]
     },
     "metadata": {},
     "output_type": "display_data"
    }
   ],
   "source": [
    "z = 8 + 6i     # create a complex number \n",
    "z"
   ]
  },
  {
   "cell_type": "code",
   "execution_count": 65,
   "id": "b2695d23-a8b9-43b3-b362-8dcdcfa89e2b",
   "metadata": {},
   "outputs": [
    {
     "data": {
      "text/html": [
       "'complex'"
      ],
      "text/latex": [
       "'complex'"
      ],
      "text/markdown": [
       "'complex'"
      ],
      "text/plain": [
       "[1] \"complex\""
      ]
     },
     "metadata": {},
     "output_type": "display_data"
    }
   ],
   "source": [
    "class(z)"
   ]
  },
  {
   "cell_type": "markdown",
   "id": "003d79f4-23ee-4aed-baf9-8e19c3a4d221",
   "metadata": {},
   "source": [
    "### Converting One Class to Another    "
   ]
  },
  {
   "cell_type": "code",
   "execution_count": 66,
   "id": "9c9d0cf9-e423-4111-b188-5330ca0a22fa",
   "metadata": {},
   "outputs": [
    {
     "data": {
      "text/html": [
       "'1995'"
      ],
      "text/latex": [
       "'1995'"
      ],
      "text/markdown": [
       "'1995'"
      ],
      "text/plain": [
       "[1] \"1995\""
      ]
     },
     "metadata": {},
     "output_type": "display_data"
    }
   ],
   "source": [
    "year <- as.character(1995) # convert integer into character data type\n",
    "year                    # print the value of year in character data type"
   ]
  },
  {
   "cell_type": "code",
   "execution_count": 67,
   "id": "36d4bf8d-803d-4c59-b33b-a5e98da95997",
   "metadata": {},
   "outputs": [
    {
     "data": {
      "text/html": [
       "'numeric'"
      ],
      "text/latex": [
       "'numeric'"
      ],
      "text/markdown": [
       "'numeric'"
      ],
      "text/plain": [
       "[1] \"numeric\""
      ]
     },
     "metadata": {},
     "output_type": "display_data"
    }
   ],
   "source": [
    "Length_ToyStory <- 81\n",
    "class(81)"
   ]
  },
  {
   "cell_type": "code",
   "execution_count": 68,
   "id": "6007d828-d2e2-4086-aa76-08cde3a6dfa3",
   "metadata": {},
   "outputs": [
    {
     "data": {
      "text/html": [
       "'integer'"
      ],
      "text/latex": [
       "'integer'"
      ],
      "text/markdown": [
       "'integer'"
      ],
      "text/plain": [
       "[1] \"integer\""
      ]
     },
     "metadata": {},
     "output_type": "display_data"
    }
   ],
   "source": [
    "length_ToyStory <- as.integer(81) \n",
    "class(length_ToyStory)       # print the class name of length_ToyStory"
   ]
  },
  {
   "cell_type": "markdown",
   "id": "690e4875-2567-4837-a0b0-0a2ab642858c",
   "metadata": {},
   "source": [
    "### Class Vs Mode"
   ]
  },
  {
   "cell_type": "code",
   "execution_count": 70,
   "id": "5605a694-a8db-4d4a-9604-b33e60d3191c",
   "metadata": {},
   "outputs": [
    {
     "data": {
      "text/html": [
       "'character'"
      ],
      "text/latex": [
       "'character'"
      ],
      "text/markdown": [
       "'character'"
      ],
      "text/plain": [
       "[1] \"character\""
      ]
     },
     "metadata": {},
     "output_type": "display_data"
    },
    {
     "data": {
      "text/html": [
       "'character'"
      ],
      "text/latex": [
       "'character'"
      ],
      "text/markdown": [
       "'character'"
      ],
      "text/plain": [
       "[1] \"character\""
      ]
     },
     "metadata": {},
     "output_type": "display_data"
    }
   ],
   "source": [
    "movies <- c(\"Toy Story\", \"Akira\", \"The Breakfast Club\", \"The Artist\") # creating two vectors\n",
    "genre <- c(\"Animation/Adventure/Comedy\", \"Animation/Adventure/Comedy\", \"Comedy/Drama\", \"Comedy/Drama\")\n",
    "\n",
    "class(movies)\n",
    "mode(movies)"
   ]
  },
  {
   "cell_type": "code",
   "execution_count": 71,
   "id": "63eede74-811b-4a5c-8c3e-96bff2de9d4d",
   "metadata": {},
   "outputs": [
    {
     "data": {
      "text/html": [
       "<table>\n",
       "<thead><tr><th scope=col>movies</th><th scope=col>genre</th></tr></thead>\n",
       "<tbody>\n",
       "\t<tr><td>Toy Story                 </td><td>Animation/Adventure/Comedy</td></tr>\n",
       "\t<tr><td>Akira                     </td><td>Animation/Adventure/Comedy</td></tr>\n",
       "\t<tr><td>The Breakfast Club        </td><td>Comedy/Drama              </td></tr>\n",
       "\t<tr><td>The Artist                </td><td>Comedy/Drama              </td></tr>\n",
       "</tbody>\n",
       "</table>\n"
      ],
      "text/latex": [
       "\\begin{tabular}{ll}\n",
       " movies & genre\\\\\n",
       "\\hline\n",
       "\t Toy Story                  & Animation/Adventure/Comedy\\\\\n",
       "\t Akira                      & Animation/Adventure/Comedy\\\\\n",
       "\t The Breakfast Club         & Comedy/Drama              \\\\\n",
       "\t The Artist                 & Comedy/Drama              \\\\\n",
       "\\end{tabular}\n"
      ],
      "text/markdown": [
       "\n",
       "| movies | genre |\n",
       "|---|---|\n",
       "| Toy Story                  | Animation/Adventure/Comedy |\n",
       "| Akira                      | Animation/Adventure/Comedy |\n",
       "| The Breakfast Club         | Comedy/Drama               |\n",
       "| The Artist                 | Comedy/Drama               |\n",
       "\n"
      ],
      "text/plain": [
       "     movies             genre                     \n",
       "[1,] Toy Story          Animation/Adventure/Comedy\n",
       "[2,] Akira              Animation/Adventure/Comedy\n",
       "[3,] The Breakfast Club Comedy/Drama              \n",
       "[4,] The Artist         Comedy/Drama              "
      ]
     },
     "metadata": {},
     "output_type": "display_data"
    }
   ],
   "source": [
    "movies_genre <- cbind(movies, genre)\n",
    "movies_genre "
   ]
  },
  {
   "cell_type": "code",
   "execution_count": 72,
   "id": "109e4bc9-e6f8-4dc3-afd3-848113070312",
   "metadata": {},
   "outputs": [
    {
     "data": {
      "text/html": [
       "'matrix'"
      ],
      "text/latex": [
       "'matrix'"
      ],
      "text/markdown": [
       "'matrix'"
      ],
      "text/plain": [
       "[1] \"matrix\""
      ]
     },
     "metadata": {},
     "output_type": "display_data"
    }
   ],
   "source": [
    "class(movies_genre)"
   ]
  },
  {
   "cell_type": "markdown",
   "id": "c8da2943-4731-4e97-83f2-2cc445307ac8",
   "metadata": {},
   "source": [
    "Other Tyes\n",
    "1-Array\n",
    "2-List\n",
    "3-Factors\n",
    "4_Data Frames\n"
   ]
  },
  {
   "cell_type": "code",
   "execution_count": null,
   "id": "112184f0-cea3-47b7-a4df-3f239f902be1",
   "metadata": {},
   "outputs": [],
   "source": []
  }
 ],
 "metadata": {
  "kernelspec": {
   "display_name": "R",
   "language": "R",
   "name": "ir"
  },
  "language_info": {
   "codemirror_mode": "r",
   "file_extension": ".r",
   "mimetype": "text/x-r-source",
   "name": "R",
   "pygments_lexer": "r",
   "version": "3.6.1"
  }
 },
 "nbformat": 4,
 "nbformat_minor": 5
}
