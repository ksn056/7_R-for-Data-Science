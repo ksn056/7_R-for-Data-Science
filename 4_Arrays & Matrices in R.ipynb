{
 "cells": [
  {
   "cell_type": "markdown",
   "id": "61535549-4824-4498-b96a-bd947d7a05c6",
   "metadata": {},
   "source": [
    "### Difference between an array and a vector\n",
    "\n",
    "Vectors are always one dimensional like a single row of data. On the other hand, an array can be multidimensional (stored as rows and columns).\n"
   ]
  },
  {
   "cell_type": "code",
   "execution_count": 22,
   "id": "f2455201-e3f1-49cd-93df-695473f013f1",
   "metadata": {},
   "outputs": [],
   "source": [
    "movie_vector<-c(2004,2005,2008)"
   ]
  },
  {
   "cell_type": "code",
   "execution_count": 23,
   "id": "b78cfcc7-3d7f-427e-b946-278ae597cd7f",
   "metadata": {},
   "outputs": [
    {
     "data": {
      "text/html": [
       "<ol class=list-inline>\n",
       "\t<li>2004</li>\n",
       "\t<li>2005</li>\n",
       "\t<li>2008</li>\n",
       "</ol>\n"
      ],
      "text/latex": [
       "\\begin{enumerate*}\n",
       "\\item 2004\n",
       "\\item 2005\n",
       "\\item 2008\n",
       "\\end{enumerate*}\n"
      ],
      "text/markdown": [
       "1. 2004\n",
       "2. 2005\n",
       "3. 2008\n",
       "\n",
       "\n"
      ],
      "text/plain": [
       "[1] 2004 2005 2008"
      ]
     },
     "metadata": {},
     "output_type": "display_data"
    }
   ],
   "source": [
    "movie_vector"
   ]
  },
  {
   "cell_type": "code",
   "execution_count": 24,
   "id": "5ad25281-ff6a-4598-a7d7-993a1f704d75",
   "metadata": {},
   "outputs": [
    {
     "data": {
      "text/html": [
       "'numeric'"
      ],
      "text/latex": [
       "'numeric'"
      ],
      "text/markdown": [
       "'numeric'"
      ],
      "text/plain": [
       "[1] \"numeric\""
      ]
     },
     "metadata": {},
     "output_type": "display_data"
    }
   ],
   "source": [
    "class(movie_vector)"
   ]
  },
  {
   "cell_type": "code",
   "execution_count": 25,
   "id": "95a1aeef-6000-4b74-8a5e-c69c73136d9e",
   "metadata": {},
   "outputs": [
    {
     "data": {
      "text/html": [
       "'double'"
      ],
      "text/latex": [
       "'double'"
      ],
      "text/markdown": [
       "'double'"
      ],
      "text/plain": [
       "[1] \"double\""
      ]
     },
     "metadata": {},
     "output_type": "display_data"
    }
   ],
   "source": [
    "typeof(movie_vector)"
   ]
  },
  {
   "cell_type": "code",
   "execution_count": 26,
   "id": "eb969438-60d4-4a1f-a2ad-73d9ca5cbfb2",
   "metadata": {},
   "outputs": [],
   "source": [
    "# Movie Vector is a Vector\n",
    "# Convert it to an array"
   ]
  },
  {
   "cell_type": "code",
   "execution_count": 27,
   "id": "b001eb77-2052-4d00-b163-d941efe5432f",
   "metadata": {},
   "outputs": [],
   "source": [
    "movie_array<-array(movie_vector)"
   ]
  },
  {
   "cell_type": "code",
   "execution_count": 28,
   "id": "752bc39c-d042-4b5e-9f62-d6fd5e1d4fa5",
   "metadata": {},
   "outputs": [
    {
     "data": {
      "text/html": [
       "<ol class=list-inline>\n",
       "\t<li>2004</li>\n",
       "\t<li>2005</li>\n",
       "\t<li>2008</li>\n",
       "</ol>\n"
      ],
      "text/latex": [
       "\\begin{enumerate*}\n",
       "\\item 2004\n",
       "\\item 2005\n",
       "\\item 2008\n",
       "\\end{enumerate*}\n"
      ],
      "text/markdown": [
       "1. 2004\n",
       "2. 2005\n",
       "3. 2008\n",
       "\n",
       "\n"
      ],
      "text/plain": [
       "[1] 2004 2005 2008"
      ]
     },
     "metadata": {},
     "output_type": "display_data"
    }
   ],
   "source": [
    "movie_array"
   ]
  },
  {
   "cell_type": "code",
   "execution_count": 29,
   "id": "f1ac5395-d6f1-4df8-9ebf-ec0a6b440772",
   "metadata": {},
   "outputs": [
    {
     "data": {
      "text/html": [
       "'double'"
      ],
      "text/latex": [
       "'double'"
      ],
      "text/markdown": [
       "'double'"
      ],
      "text/plain": [
       "[1] \"double\""
      ]
     },
     "metadata": {},
     "output_type": "display_data"
    }
   ],
   "source": [
    "typeof(movie_array)"
   ]
  },
  {
   "cell_type": "code",
   "execution_count": 30,
   "id": "fcc4eba3-8b9f-46ec-9074-e24317b3faed",
   "metadata": {},
   "outputs": [
    {
     "data": {
      "text/html": [
       "'array'"
      ],
      "text/latex": [
       "'array'"
      ],
      "text/markdown": [
       "'array'"
      ],
      "text/plain": [
       "[1] \"array\""
      ]
     },
     "metadata": {},
     "output_type": "display_data"
    }
   ],
   "source": [
    "class(movie_array)"
   ]
  },
  {
   "cell_type": "code",
   "execution_count": 31,
   "id": "4f9c5436-8fd0-4c3f-a508-617f54ff0437",
   "metadata": {},
   "outputs": [
    {
     "data": {
      "text/html": [
       "<ol class=list-inline>\n",
       "\t<li>'Akira'</li>\n",
       "\t<li>'Toy Story'</li>\n",
       "\t<li>'Room'</li>\n",
       "\t<li>'The Wave'</li>\n",
       "\t<li>'Whiplash'</li>\n",
       "\t<li>'Star Wars'</li>\n",
       "\t<li>'The Ring'</li>\n",
       "\t<li>'The Artist'</li>\n",
       "\t<li>'Jumanji'</li>\n",
       "</ol>\n"
      ],
      "text/latex": [
       "\\begin{enumerate*}\n",
       "\\item 'Akira'\n",
       "\\item 'Toy Story'\n",
       "\\item 'Room'\n",
       "\\item 'The Wave'\n",
       "\\item 'Whiplash'\n",
       "\\item 'Star Wars'\n",
       "\\item 'The Ring'\n",
       "\\item 'The Artist'\n",
       "\\item 'Jumanji'\n",
       "\\end{enumerate*}\n"
      ],
      "text/markdown": [
       "1. 'Akira'\n",
       "2. 'Toy Story'\n",
       "3. 'Room'\n",
       "4. 'The Wave'\n",
       "5. 'Whiplash'\n",
       "6. 'Star Wars'\n",
       "7. 'The Ring'\n",
       "8. 'The Artist'\n",
       "9. 'Jumanji'\n",
       "\n",
       "\n"
      ],
      "text/plain": [
       "[1] \"Akira\"      \"Toy Story\"  \"Room\"       \"The Wave\"   \"Whiplash\"  \n",
       "[6] \"Star Wars\"  \"The Ring\"   \"The Artist\" \"Jumanji\"   "
      ]
     },
     "metadata": {},
     "output_type": "display_data"
    }
   ],
   "source": [
    "\n",
    "movie_vector <- c(\"Akira\", \"Toy Story\", \"Room\", \"The Wave\", \"Whiplash\",\n",
    "                  \"Star Wars\", \"The Ring\", \"The Artist\", \"Jumanji\")\n",
    "movie_vector"
   ]
  },
  {
   "cell_type": "code",
   "execution_count": 32,
   "id": "cc74fb43-1789-44cb-ac73-0d4cf91acd11",
   "metadata": {},
   "outputs": [
    {
     "data": {
      "text/html": [
       "<table>\n",
       "<tbody>\n",
       "\t<tr><td>Akira     </td><td>Whiplash  </td><td>Jumanji   </td></tr>\n",
       "\t<tr><td>Toy Story </td><td>Star Wars </td><td>Akira     </td></tr>\n",
       "\t<tr><td>Room      </td><td>The Ring  </td><td>Toy Story </td></tr>\n",
       "\t<tr><td>The Wave  </td><td>The Artist</td><td>Room      </td></tr>\n",
       "</tbody>\n",
       "</table>\n"
      ],
      "text/latex": [
       "\\begin{tabular}{lll}\n",
       "\t Akira      & Whiplash   & Jumanji   \\\\\n",
       "\t Toy Story  & Star Wars  & Akira     \\\\\n",
       "\t Room       & The Ring   & Toy Story \\\\\n",
       "\t The Wave   & The Artist & Room      \\\\\n",
       "\\end{tabular}\n"
      ],
      "text/markdown": [
       "\n",
       "| Akira      | Whiplash   | Jumanji    |\n",
       "| Toy Story  | Star Wars  | Akira      |\n",
       "| Room       | The Ring   | Toy Story  |\n",
       "| The Wave   | The Artist | Room       |\n",
       "\n"
      ],
      "text/plain": [
       "     [,1]      [,2]       [,3]     \n",
       "[1,] Akira     Whiplash   Jumanji  \n",
       "[2,] Toy Story Star Wars  Akira    \n",
       "[3,] Room      The Ring   Toy Story\n",
       "[4,] The Wave  The Artist Room     "
      ]
     },
     "metadata": {},
     "output_type": "display_data"
    }
   ],
   "source": [
    "movie_array <- array(movie_vector, dim = c(4,3))\n",
    "movie_array"
   ]
  },
  {
   "cell_type": "code",
   "execution_count": 33,
   "id": "d3da8742-0f43-49ac-94e7-25a90876ee2b",
   "metadata": {},
   "outputs": [
    {
     "data": {
      "text/html": [
       "'Whiplash'"
      ],
      "text/latex": [
       "'Whiplash'"
      ],
      "text/markdown": [
       "'Whiplash'"
      ],
      "text/plain": [
       "[1] \"Whiplash\""
      ]
     },
     "metadata": {},
     "output_type": "display_data"
    }
   ],
   "source": [
    "movie_array[1,2]   #[row, column]"
   ]
  },
  {
   "cell_type": "code",
   "execution_count": 34,
   "id": "2a8bf641-e2f3-4e8a-aad5-f37b6a0ed5da",
   "metadata": {},
   "outputs": [
    {
     "data": {
      "text/html": [
       "<ol class=list-inline>\n",
       "\t<li>'Akira'</li>\n",
       "\t<li>'Whiplash'</li>\n",
       "\t<li>'Jumanji'</li>\n",
       "</ol>\n"
      ],
      "text/latex": [
       "\\begin{enumerate*}\n",
       "\\item 'Akira'\n",
       "\\item 'Whiplash'\n",
       "\\item 'Jumanji'\n",
       "\\end{enumerate*}\n"
      ],
      "text/markdown": [
       "1. 'Akira'\n",
       "2. 'Whiplash'\n",
       "3. 'Jumanji'\n",
       "\n",
       "\n"
      ],
      "text/plain": [
       "[1] \"Akira\"    \"Whiplash\" \"Jumanji\" "
      ]
     },
     "metadata": {},
     "output_type": "display_data"
    }
   ],
   "source": [
    "movie_array[1,]"
   ]
  },
  {
   "cell_type": "code",
   "execution_count": 35,
   "id": "50c98357-b7b2-4a02-9b40-a832dc79c151",
   "metadata": {},
   "outputs": [
    {
     "data": {
      "text/html": [
       "<ol class=list-inline>\n",
       "\t<li>'Toy Story'</li>\n",
       "\t<li>'Star Wars'</li>\n",
       "\t<li>'Akira'</li>\n",
       "</ol>\n"
      ],
      "text/latex": [
       "\\begin{enumerate*}\n",
       "\\item 'Toy Story'\n",
       "\\item 'Star Wars'\n",
       "\\item 'Akira'\n",
       "\\end{enumerate*}\n"
      ],
      "text/markdown": [
       "1. 'Toy Story'\n",
       "2. 'Star Wars'\n",
       "3. 'Akira'\n",
       "\n",
       "\n"
      ],
      "text/plain": [
       "[1] \"Toy Story\" \"Star Wars\" \"Akira\"    "
      ]
     },
     "metadata": {},
     "output_type": "display_data"
    }
   ],
   "source": [
    "movie_array[2,]"
   ]
  },
  {
   "cell_type": "code",
   "execution_count": 36,
   "id": "90623ce5-fe36-460c-92eb-e11971ada2e8",
   "metadata": {},
   "outputs": [
    {
     "data": {
      "text/html": [
       "<ol class=list-inline>\n",
       "\t<li>'Whiplash'</li>\n",
       "\t<li>'Star Wars'</li>\n",
       "\t<li>'The Ring'</li>\n",
       "\t<li>'The Artist'</li>\n",
       "</ol>\n"
      ],
      "text/latex": [
       "\\begin{enumerate*}\n",
       "\\item 'Whiplash'\n",
       "\\item 'Star Wars'\n",
       "\\item 'The Ring'\n",
       "\\item 'The Artist'\n",
       "\\end{enumerate*}\n"
      ],
      "text/markdown": [
       "1. 'Whiplash'\n",
       "2. 'Star Wars'\n",
       "3. 'The Ring'\n",
       "4. 'The Artist'\n",
       "\n",
       "\n"
      ],
      "text/plain": [
       "[1] \"Whiplash\"   \"Star Wars\"  \"The Ring\"   \"The Artist\""
      ]
     },
     "metadata": {},
     "output_type": "display_data"
    }
   ],
   "source": [
    "movie_array[,2]"
   ]
  },
  {
   "cell_type": "code",
   "execution_count": 37,
   "id": "e5932cf8-d3cb-4501-a0cc-056d72d73cef",
   "metadata": {},
   "outputs": [],
   "source": [
    "# Dimention"
   ]
  },
  {
   "cell_type": "code",
   "execution_count": 38,
   "id": "5f803243-9e68-4114-b908-12c5dbe74103",
   "metadata": {},
   "outputs": [
    {
     "data": {
      "text/html": [
       "<ol class=list-inline>\n",
       "\t<li>4</li>\n",
       "\t<li>3</li>\n",
       "</ol>\n"
      ],
      "text/latex": [
       "\\begin{enumerate*}\n",
       "\\item 4\n",
       "\\item 3\n",
       "\\end{enumerate*}\n"
      ],
      "text/markdown": [
       "1. 4\n",
       "2. 3\n",
       "\n",
       "\n"
      ],
      "text/plain": [
       "[1] 4 3"
      ]
     },
     "metadata": {},
     "output_type": "display_data"
    }
   ],
   "source": [
    "dim(movie_array)"
   ]
  },
  {
   "cell_type": "markdown",
   "id": "624fccc3-85f0-4eeb-b470-2bb6c418d695",
   "metadata": {},
   "source": [
    "### Operations"
   ]
  },
  {
   "cell_type": "code",
   "execution_count": 39,
   "id": "0ac477ac-6858-463f-ac03-e4d7f10da235",
   "metadata": {},
   "outputs": [
    {
     "ename": "ERROR",
     "evalue": "Error in array(length_vector, dim = c(3, 3)): object 'length_vector' not found\n",
     "output_type": "error",
     "traceback": [
      "Error in array(length_vector, dim = c(3, 3)): object 'length_vector' not found\nTraceback:\n",
      "1. array(length_vector, dim = c(3, 3))"
     ]
    }
   ],
   "source": [
    "a <- c(125, 81, 118, 81, 106, 121, 95, 100, 104)\n",
    "a <- array(length_vector, dim = c(3,3))\n",
    "a"
   ]
  },
  {
   "cell_type": "code",
   "execution_count": null,
   "id": "66ea3a87-5c74-4915-a38e-c2f387a2a888",
   "metadata": {},
   "outputs": [],
   "source": [
    "a+2"
   ]
  },
  {
   "cell_type": "code",
   "execution_count": null,
   "id": "6df10811-1189-48e0-a568-9717d5dc7070",
   "metadata": {},
   "outputs": [],
   "source": [
    "a*2"
   ]
  },
  {
   "cell_type": "code",
   "execution_count": null,
   "id": "aaae955e-dd45-429e-95d8-602daa625788",
   "metadata": {},
   "outputs": [],
   "source": [
    "a"
   ]
  },
  {
   "cell_type": "code",
   "execution_count": null,
   "id": "92ad080c-c49d-45da-8c20-bdff5d4afebb",
   "metadata": {},
   "outputs": [],
   "source": [
    "res=a**2"
   ]
  },
  {
   "cell_type": "code",
   "execution_count": null,
   "id": "1ed8910a-9125-403a-bf28-efb2626fdcca",
   "metadata": {},
   "outputs": [],
   "source": [
    "res"
   ]
  },
  {
   "cell_type": "code",
   "execution_count": null,
   "id": "134799cf-d848-4cbb-a306-44d836c16488",
   "metadata": {},
   "outputs": [],
   "source": [
    "a"
   ]
  },
  {
   "cell_type": "code",
   "execution_count": null,
   "id": "d2636ad5-e33e-4189-8a64-b202c485a986",
   "metadata": {},
   "outputs": [],
   "source": [
    "a>120"
   ]
  },
  {
   "cell_type": "code",
   "execution_count": null,
   "id": "514dbfb5-3f9b-42b4-8948-acf751714b72",
   "metadata": {},
   "outputs": [],
   "source": [
    "a<120"
   ]
  },
  {
   "cell_type": "code",
   "execution_count": null,
   "id": "a8aa6a12-ee0d-423b-86de-f5083f6fbec0",
   "metadata": {},
   "outputs": [],
   "source": [
    "a!=120"
   ]
  },
  {
   "cell_type": "code",
   "execution_count": null,
   "id": "38f06b6c-9c64-4942-983e-d3509bd30567",
   "metadata": {},
   "outputs": [],
   "source": [
    "a==120"
   ]
  },
  {
   "cell_type": "code",
   "execution_count": null,
   "id": "c5a28cb7-3d53-4437-883c-8f163123063c",
   "metadata": {},
   "outputs": [],
   "source": [
    "mask_array <- a > 120\n",
    "mask_array"
   ]
  },
  {
   "cell_type": "code",
   "execution_count": 40,
   "id": "d4b93340-3d3f-47b4-bded-0fd6c008c51b",
   "metadata": {},
   "outputs": [
    {
     "data": {
      "text/html": [
       "<table>\n",
       "<tbody>\n",
       "\t<tr><td>Akira     </td><td>The Wave  </td><td>The Ring  </td></tr>\n",
       "\t<tr><td>Toy Story </td><td>Whiplash  </td><td>The Artist</td></tr>\n",
       "\t<tr><td>Room      </td><td>Star Wars </td><td>Jumanji   </td></tr>\n",
       "</tbody>\n",
       "</table>\n"
      ],
      "text/latex": [
       "\\begin{tabular}{lll}\n",
       "\t Akira      & The Wave   & The Ring  \\\\\n",
       "\t Toy Story  & Whiplash   & The Artist\\\\\n",
       "\t Room       & Star Wars  & Jumanji   \\\\\n",
       "\\end{tabular}\n"
      ],
      "text/markdown": [
       "\n",
       "| Akira      | The Wave   | The Ring   |\n",
       "| Toy Story  | Whiplash   | The Artist |\n",
       "| Room       | Star Wars  | Jumanji    |\n",
       "\n"
      ],
      "text/plain": [
       "     [,1]      [,2]      [,3]      \n",
       "[1,] Akira     The Wave  The Ring  \n",
       "[2,] Toy Story Whiplash  The Artist\n",
       "[3,] Room      Star Wars Jumanji   "
      ]
     },
     "metadata": {},
     "output_type": "display_data"
    },
    {
     "ename": "ERROR",
     "evalue": "Error in eval(expr, envir, enclos): object 'mask_array' not found\n",
     "output_type": "error",
     "traceback": [
      "Error in eval(expr, envir, enclos): object 'mask_array' not found\nTraceback:\n"
     ]
    }
   ],
   "source": [
    "x_vector <- c(\"Akira\", \"Toy Story\", \"Room\", \"The Wave\", \"Whiplash\",\n",
    "              \"Star Wars\", \"The Ring\", \"The Artist\", \"Jumanji\")\n",
    "\n",
    "x_array <- array(x_vector, dim = c(3,3))\n",
    "\n",
    "x_array\n",
    "\n",
    "x_array[mask_array]"
   ]
  },
  {
   "cell_type": "markdown",
   "id": "2d80e43c-aefe-4944-ae33-2a8627b0b299",
   "metadata": {},
   "source": [
    "### Matrix"
   ]
  },
  {
   "cell_type": "markdown",
   "id": "ac39a8c4-bb49-454b-a65b-ec4d56b4cbac",
   "metadata": {},
   "source": [
    "Matrices are a subtype of arrays. A matrix **must** have 2 dimensions, whereas arrays are more flexible and can have, 1, 2 or more dimensions.  \n",
    "\n",
    "To create a matrix out of a vector , you can use **matrix()**, which takes in an argument for the vector, an argument for the number of rows and another for the number of columns."
   ]
  },
  {
   "cell_type": "code",
   "execution_count": 41,
   "id": "9bde01dc-8db7-439a-9feb-9cb2fdd38186",
   "metadata": {},
   "outputs": [
    {
     "data": {
      "text/html": [
       "<ol class=list-inline>\n",
       "\t<li>'Akira'</li>\n",
       "\t<li>'Toy Story'</li>\n",
       "\t<li>'Room'</li>\n",
       "\t<li>'The Wave'</li>\n",
       "\t<li>'Whiplash'</li>\n",
       "\t<li>'Star Wars'</li>\n",
       "\t<li>'The Ring'</li>\n",
       "\t<li>'The Artist'</li>\n",
       "\t<li>'Jumanji'</li>\n",
       "</ol>\n"
      ],
      "text/latex": [
       "\\begin{enumerate*}\n",
       "\\item 'Akira'\n",
       "\\item 'Toy Story'\n",
       "\\item 'Room'\n",
       "\\item 'The Wave'\n",
       "\\item 'Whiplash'\n",
       "\\item 'Star Wars'\n",
       "\\item 'The Ring'\n",
       "\\item 'The Artist'\n",
       "\\item 'Jumanji'\n",
       "\\end{enumerate*}\n"
      ],
      "text/markdown": [
       "1. 'Akira'\n",
       "2. 'Toy Story'\n",
       "3. 'Room'\n",
       "4. 'The Wave'\n",
       "5. 'Whiplash'\n",
       "6. 'Star Wars'\n",
       "7. 'The Ring'\n",
       "8. 'The Artist'\n",
       "9. 'Jumanji'\n",
       "\n",
       "\n"
      ],
      "text/plain": [
       "[1] \"Akira\"      \"Toy Story\"  \"Room\"       \"The Wave\"   \"Whiplash\"  \n",
       "[6] \"Star Wars\"  \"The Ring\"   \"The Artist\" \"Jumanji\"   "
      ]
     },
     "metadata": {},
     "output_type": "display_data"
    }
   ],
   "source": [
    "movie_vector"
   ]
  },
  {
   "cell_type": "code",
   "execution_count": 42,
   "id": "911ca5bf-edd1-49bb-a56c-51aee693ea5e",
   "metadata": {},
   "outputs": [],
   "source": [
    "movie_matrix<-matrix(movie_vector, nrow=3, ncol=3)"
   ]
  },
  {
   "cell_type": "code",
   "execution_count": 43,
   "id": "50e226e1-8094-4871-9d35-9e73052cef08",
   "metadata": {},
   "outputs": [
    {
     "data": {
      "text/html": [
       "<table>\n",
       "<tbody>\n",
       "\t<tr><td>Akira     </td><td>The Wave  </td><td>The Ring  </td></tr>\n",
       "\t<tr><td>Toy Story </td><td>Whiplash  </td><td>The Artist</td></tr>\n",
       "\t<tr><td>Room      </td><td>Star Wars </td><td>Jumanji   </td></tr>\n",
       "</tbody>\n",
       "</table>\n"
      ],
      "text/latex": [
       "\\begin{tabular}{lll}\n",
       "\t Akira      & The Wave   & The Ring  \\\\\n",
       "\t Toy Story  & Whiplash   & The Artist\\\\\n",
       "\t Room       & Star Wars  & Jumanji   \\\\\n",
       "\\end{tabular}\n"
      ],
      "text/markdown": [
       "\n",
       "| Akira      | The Wave   | The Ring   |\n",
       "| Toy Story  | Whiplash   | The Artist |\n",
       "| Room       | Star Wars  | Jumanji    |\n",
       "\n"
      ],
      "text/plain": [
       "     [,1]      [,2]      [,3]      \n",
       "[1,] Akira     The Wave  The Ring  \n",
       "[2,] Toy Story Whiplash  The Artist\n",
       "[3,] Room      Star Wars Jumanji   "
      ]
     },
     "metadata": {},
     "output_type": "display_data"
    }
   ],
   "source": [
    "movie_matrix"
   ]
  },
  {
   "cell_type": "code",
   "execution_count": 44,
   "id": "ba84c5b3-bacd-4bb6-aef9-1efacfd45f8b",
   "metadata": {},
   "outputs": [
    {
     "data": {
      "text/html": [
       "'character'"
      ],
      "text/latex": [
       "'character'"
      ],
      "text/markdown": [
       "'character'"
      ],
      "text/plain": [
       "[1] \"character\""
      ]
     },
     "metadata": {},
     "output_type": "display_data"
    }
   ],
   "source": [
    "typeof(movie_matrix)"
   ]
  },
  {
   "cell_type": "code",
   "execution_count": 45,
   "id": "8fc50aba-bda0-4df7-a77a-3bb5b7b30930",
   "metadata": {},
   "outputs": [
    {
     "data": {
      "text/html": [
       "'matrix'"
      ],
      "text/latex": [
       "'matrix'"
      ],
      "text/markdown": [
       "'matrix'"
      ],
      "text/plain": [
       "[1] \"matrix\""
      ]
     },
     "metadata": {},
     "output_type": "display_data"
    }
   ],
   "source": [
    "class(movie_matrix)"
   ]
  },
  {
   "cell_type": "code",
   "execution_count": 46,
   "id": "68e9d4da-d4a8-4b9a-9841-6ed247f55472",
   "metadata": {},
   "outputs": [
    {
     "data": {
      "text/html": [
       "'The Wave'"
      ],
      "text/latex": [
       "'The Wave'"
      ],
      "text/markdown": [
       "'The Wave'"
      ],
      "text/plain": [
       "[1] \"The Wave\""
      ]
     },
     "metadata": {},
     "output_type": "display_data"
    }
   ],
   "source": [
    "movie_matrix[1,2]"
   ]
  },
  {
   "cell_type": "code",
   "execution_count": 47,
   "id": "4ec8745a-b07f-4757-845e-a3986a3f6040",
   "metadata": {},
   "outputs": [
    {
     "data": {
      "text/html": [
       "'Akira'"
      ],
      "text/latex": [
       "'Akira'"
      ],
      "text/markdown": [
       "'Akira'"
      ],
      "text/plain": [
       "[1] \"Akira\""
      ]
     },
     "metadata": {},
     "output_type": "display_data"
    }
   ],
   "source": [
    "movie_matrix[1,1]"
   ]
  },
  {
   "cell_type": "code",
   "execution_count": 48,
   "id": "4d484aa3-2955-4d79-ae77-0c78a19f290f",
   "metadata": {},
   "outputs": [
    {
     "data": {
      "text/html": [
       "<ol class=list-inline>\n",
       "\t<li>'Akira'</li>\n",
       "\t<li>'The Wave'</li>\n",
       "\t<li>'The Ring'</li>\n",
       "</ol>\n"
      ],
      "text/latex": [
       "\\begin{enumerate*}\n",
       "\\item 'Akira'\n",
       "\\item 'The Wave'\n",
       "\\item 'The Ring'\n",
       "\\end{enumerate*}\n"
      ],
      "text/markdown": [
       "1. 'Akira'\n",
       "2. 'The Wave'\n",
       "3. 'The Ring'\n",
       "\n",
       "\n"
      ],
      "text/plain": [
       "[1] \"Akira\"    \"The Wave\" \"The Ring\""
      ]
     },
     "metadata": {},
     "output_type": "display_data"
    }
   ],
   "source": [
    "movie_matrix[1,]  # FirstRow"
   ]
  },
  {
   "cell_type": "code",
   "execution_count": 49,
   "id": "5e8836b2-47b4-4169-b98f-d642ac751472",
   "metadata": {},
   "outputs": [
    {
     "data": {
      "text/html": [
       "<ol class=list-inline>\n",
       "\t<li>'Toy Story'</li>\n",
       "\t<li>'Whiplash'</li>\n",
       "\t<li>'The Artist'</li>\n",
       "</ol>\n"
      ],
      "text/latex": [
       "\\begin{enumerate*}\n",
       "\\item 'Toy Story'\n",
       "\\item 'Whiplash'\n",
       "\\item 'The Artist'\n",
       "\\end{enumerate*}\n"
      ],
      "text/markdown": [
       "1. 'Toy Story'\n",
       "2. 'Whiplash'\n",
       "3. 'The Artist'\n",
       "\n",
       "\n"
      ],
      "text/plain": [
       "[1] \"Toy Story\"  \"Whiplash\"   \"The Artist\""
      ]
     },
     "metadata": {},
     "output_type": "display_data"
    }
   ],
   "source": [
    "movie_matrix[2,]   # Second Row"
   ]
  },
  {
   "cell_type": "code",
   "execution_count": 50,
   "id": "b9fdc3f3-d0e1-49ab-a52a-d018c15dfb54",
   "metadata": {},
   "outputs": [
    {
     "data": {
      "text/html": [
       "<ol class=list-inline>\n",
       "\t<li>'Akira'</li>\n",
       "\t<li>'Toy Story'</li>\n",
       "\t<li>'Room'</li>\n",
       "</ol>\n"
      ],
      "text/latex": [
       "\\begin{enumerate*}\n",
       "\\item 'Akira'\n",
       "\\item 'Toy Story'\n",
       "\\item 'Room'\n",
       "\\end{enumerate*}\n"
      ],
      "text/markdown": [
       "1. 'Akira'\n",
       "2. 'Toy Story'\n",
       "3. 'Room'\n",
       "\n",
       "\n"
      ],
      "text/plain": [
       "[1] \"Akira\"     \"Toy Story\" \"Room\"     "
      ]
     },
     "metadata": {},
     "output_type": "display_data"
    }
   ],
   "source": [
    "movie_matrix[,1]  # First Col"
   ]
  },
  {
   "cell_type": "code",
   "execution_count": 51,
   "id": "29c1b1fa-c167-46aa-90ce-70cdd7fc3e09",
   "metadata": {},
   "outputs": [
    {
     "data": {
      "text/html": [
       "<ol class=list-inline>\n",
       "\t<li>'The Wave'</li>\n",
       "\t<li>'Whiplash'</li>\n",
       "\t<li>'Star Wars'</li>\n",
       "</ol>\n"
      ],
      "text/latex": [
       "\\begin{enumerate*}\n",
       "\\item 'The Wave'\n",
       "\\item 'Whiplash'\n",
       "\\item 'Star Wars'\n",
       "\\end{enumerate*}\n"
      ],
      "text/markdown": [
       "1. 'The Wave'\n",
       "2. 'Whiplash'\n",
       "3. 'Star Wars'\n",
       "\n",
       "\n"
      ],
      "text/plain": [
       "[1] \"The Wave\"  \"Whiplash\"  \"Star Wars\""
      ]
     },
     "metadata": {},
     "output_type": "display_data"
    }
   ],
   "source": [
    "movie_matrix[,2]  # Second Column"
   ]
  },
  {
   "cell_type": "code",
   "execution_count": 52,
   "id": "4439e013-92fe-4615-9675-81ed6941d378",
   "metadata": {},
   "outputs": [
    {
     "data": {
      "text/html": [
       "<table>\n",
       "<tbody>\n",
       "\t<tr><td>Akira     </td><td>The Wave  </td><td>The Ring  </td></tr>\n",
       "\t<tr><td>Toy Story </td><td>Whiplash  </td><td>The Artist</td></tr>\n",
       "\t<tr><td>Room      </td><td>Star Wars </td><td>Jumanji   </td></tr>\n",
       "</tbody>\n",
       "</table>\n"
      ],
      "text/latex": [
       "\\begin{tabular}{lll}\n",
       "\t Akira      & The Wave   & The Ring  \\\\\n",
       "\t Toy Story  & Whiplash   & The Artist\\\\\n",
       "\t Room       & Star Wars  & Jumanji   \\\\\n",
       "\\end{tabular}\n"
      ],
      "text/markdown": [
       "\n",
       "| Akira      | The Wave   | The Ring   |\n",
       "| Toy Story  | Whiplash   | The Artist |\n",
       "| Room       | Star Wars  | Jumanji    |\n",
       "\n"
      ],
      "text/plain": [
       "     [,1]      [,2]      [,3]      \n",
       "[1,] Akira     The Wave  The Ring  \n",
       "[2,] Toy Story Whiplash  The Artist\n",
       "[3,] Room      Star Wars Jumanji   "
      ]
     },
     "metadata": {},
     "output_type": "display_data"
    }
   ],
   "source": [
    "movie_matrix"
   ]
  },
  {
   "cell_type": "code",
   "execution_count": 53,
   "id": "da659434-237c-4b97-924c-39859f314575",
   "metadata": {},
   "outputs": [
    {
     "data": {
      "text/html": [
       "<table>\n",
       "<tbody>\n",
       "\t<tr><td>The Wave  </td><td>The Ring  </td></tr>\n",
       "\t<tr><td>Whiplash  </td><td>The Artist</td></tr>\n",
       "\t<tr><td>Star Wars </td><td>Jumanji   </td></tr>\n",
       "</tbody>\n",
       "</table>\n"
      ],
      "text/latex": [
       "\\begin{tabular}{ll}\n",
       "\t The Wave   & The Ring  \\\\\n",
       "\t Whiplash   & The Artist\\\\\n",
       "\t Star Wars  & Jumanji   \\\\\n",
       "\\end{tabular}\n"
      ],
      "text/markdown": [
       "\n",
       "| The Wave   | The Ring   |\n",
       "| Whiplash   | The Artist |\n",
       "| Star Wars  | Jumanji    |\n",
       "\n"
      ],
      "text/plain": [
       "     [,1]      [,2]      \n",
       "[1,] The Wave  The Ring  \n",
       "[2,] Whiplash  The Artist\n",
       "[3,] Star Wars Jumanji   "
      ]
     },
     "metadata": {},
     "output_type": "display_data"
    }
   ],
   "source": [
    "movie_matrix[1:3, 2:3]"
   ]
  },
  {
   "cell_type": "code",
   "execution_count": 54,
   "id": "f8ab962d-74df-4b97-9c65-aae1039f1dc8",
   "metadata": {},
   "outputs": [
    {
     "data": {
      "text/html": [
       "<table>\n",
       "<tbody>\n",
       "\t<tr><td>Toy Story</td><td>Whiplash </td></tr>\n",
       "\t<tr><td>Room     </td><td>Star Wars</td></tr>\n",
       "</tbody>\n",
       "</table>\n"
      ],
      "text/latex": [
       "\\begin{tabular}{ll}\n",
       "\t Toy Story & Whiplash \\\\\n",
       "\t Room      & Star Wars\\\\\n",
       "\\end{tabular}\n"
      ],
      "text/markdown": [
       "\n",
       "| Toy Story | Whiplash  |\n",
       "| Room      | Star Wars |\n",
       "\n"
      ],
      "text/plain": [
       "     [,1]      [,2]     \n",
       "[1,] Toy Story Whiplash \n",
       "[2,] Room      Star Wars"
      ]
     },
     "metadata": {},
     "output_type": "display_data"
    }
   ],
   "source": [
    "movie_matrix[2:3, 1:2]"
   ]
  },
  {
   "cell_type": "code",
   "execution_count": null,
   "id": "9892a7ff-b473-4783-8e0f-a6ad2d4f8659",
   "metadata": {},
   "outputs": [],
   "source": []
  },
  {
   "cell_type": "code",
   "execution_count": null,
   "id": "b84e2717-5214-4c2b-96a6-0772d39738a5",
   "metadata": {},
   "outputs": [],
   "source": []
  }
 ],
 "metadata": {
  "kernelspec": {
   "display_name": "R",
   "language": "R",
   "name": "ir"
  },
  "language_info": {
   "codemirror_mode": "r",
   "file_extension": ".r",
   "mimetype": "text/x-r-source",
   "name": "R",
   "pygments_lexer": "r",
   "version": "3.6.1"
  }
 },
 "nbformat": 4,
 "nbformat_minor": 5
}
