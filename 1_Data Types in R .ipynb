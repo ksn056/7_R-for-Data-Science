{
 "cells": [
  {
   "cell_type": "markdown",
   "id": "92bfc5cb-eae4-41fe-9ddb-7f43be2a3c52",
   "metadata": {},
   "source": [
    "## Variables in R"
   ]
  },
  {
   "cell_type": "code",
   "execution_count": 1,
   "id": "e655a695-6a1d-4e04-b460-e8708a6cb8a4",
   "metadata": {},
   "outputs": [
    {
     "data": {
      "text/html": [
       "'John'"
      ],
      "text/latex": [
       "'John'"
      ],
      "text/markdown": [
       "'John'"
      ],
      "text/plain": [
       "[1] \"John\""
      ]
     },
     "metadata": {},
     "output_type": "display_data"
    },
    {
     "data": {
      "text/html": [
       "40"
      ],
      "text/latex": [
       "40"
      ],
      "text/markdown": [
       "40"
      ],
      "text/plain": [
       "[1] 40"
      ]
     },
     "metadata": {},
     "output_type": "display_data"
    }
   ],
   "source": [
    "name <- \"John\"\n",
    "age <- 40\n",
    "\n",
    "name   # output \"John\"\n",
    "age    # output 40"
   ]
  },
  {
   "cell_type": "code",
   "execution_count": 2,
   "id": "353e3277-1757-4351-a3de-18d4a2798643",
   "metadata": {},
   "outputs": [],
   "source": [
    "x<-2"
   ]
  },
  {
   "cell_type": "code",
   "execution_count": 3,
   "id": "535fc31c-a414-47d2-ae58-295c5bf9a7e9",
   "metadata": {},
   "outputs": [
    {
     "name": "stdout",
     "output_type": "stream",
     "text": [
      "[1] 2\n"
     ]
    }
   ],
   "source": [
    "print(x)"
   ]
  },
  {
   "cell_type": "code",
   "execution_count": 5,
   "id": "0415bcfa-f591-4b8c-9972-3aadfe1ae7f5",
   "metadata": {},
   "outputs": [],
   "source": [
    "day<-\"Sunday\""
   ]
  },
  {
   "cell_type": "markdown",
   "id": "bc34abfc-3eff-4364-8d2c-67a39cd1684c",
   "metadata": {},
   "source": [
    "### Print in R"
   ]
  },
  {
   "cell_type": "code",
   "execution_count": 6,
   "id": "dbc89efc-207f-4c4b-b886-fdbacefbc8c2",
   "metadata": {},
   "outputs": [],
   "source": [
    "day<-\"Sunday\""
   ]
  },
  {
   "cell_type": "code",
   "execution_count": 14,
   "id": "8836f62f-0c3f-4411-ab0e-1d3a3dedf95b",
   "metadata": {},
   "outputs": [
    {
     "data": {
      "text/html": [
       "'Sunday'"
      ],
      "text/latex": [
       "'Sunday'"
      ],
      "text/markdown": [
       "'Sunday'"
      ],
      "text/plain": [
       "[1] \"Sunday\""
      ]
     },
     "metadata": {},
     "output_type": "display_data"
    }
   ],
   "source": [
    "day  "
   ]
  },
  {
   "cell_type": "code",
   "execution_count": 15,
   "id": "3bb7ed12-161a-4bca-940c-fca2d68bf240",
   "metadata": {},
   "outputs": [
    {
     "name": "stdout",
     "output_type": "stream",
     "text": [
      "[1] \"Sunday\"\n"
     ]
    }
   ],
   "source": [
    "print(day)"
   ]
  },
  {
   "cell_type": "code",
   "execution_count": 16,
   "id": "4ca2d453-0070-4bf7-91de-cfc9c71d9350",
   "metadata": {},
   "outputs": [
    {
     "name": "stdout",
     "output_type": "stream",
     "text": [
      "[1] 1\n",
      "[1] 2\n",
      "[1] 3\n",
      "[1] 4\n",
      "[1] 5\n",
      "[1] 6\n",
      "[1] 7\n",
      "[1] 8\n",
      "[1] 9\n",
      "[1] 10\n"
     ]
    }
   ],
   "source": [
    "for (x in 1:10) {\n",
    "  print(x)\n",
    "}"
   ]
  },
  {
   "cell_type": "markdown",
   "id": "bc217fa9-2f16-4ab6-82b6-19bd0e8f89dc",
   "metadata": {},
   "source": [
    "### Concatenating Elements in R"
   ]
  },
  {
   "cell_type": "code",
   "execution_count": 20,
   "id": "1da4dd95-2f69-4a8d-9c0a-6549d947eda0",
   "metadata": {},
   "outputs": [
    {
     "data": {
      "text/html": [
       "'Sunday'"
      ],
      "text/latex": [
       "'Sunday'"
      ],
      "text/markdown": [
       "'Sunday'"
      ],
      "text/plain": [
       "[1] \"Sunday\""
      ]
     },
     "metadata": {},
     "output_type": "display_data"
    }
   ],
   "source": [
    "day"
   ]
  },
  {
   "cell_type": "code",
   "execution_count": 22,
   "id": "60776431-40d2-4051-912d-4d600fa9fd19",
   "metadata": {},
   "outputs": [
    {
     "data": {
      "text/html": [
       "'Today is: Sunday'"
      ],
      "text/latex": [
       "'Today is: Sunday'"
      ],
      "text/markdown": [
       "'Today is: Sunday'"
      ],
      "text/plain": [
       "[1] \"Today is: Sunday\""
      ]
     },
     "metadata": {},
     "output_type": "display_data"
    }
   ],
   "source": [
    "paste(\"Today is:\",day)"
   ]
  },
  {
   "cell_type": "code",
   "execution_count": 23,
   "id": "300f5c30-6ece-40ab-a5f8-dc727a178098",
   "metadata": {},
   "outputs": [
    {
     "name": "stdout",
     "output_type": "stream",
     "text": [
      "[1] \"Today is: Sunday\"\n"
     ]
    }
   ],
   "source": [
    "print(paste(\"Today is:\",day))"
   ]
  },
  {
   "cell_type": "code",
   "execution_count": 24,
   "id": "de271886-5886-41bd-aa60-12249372505d",
   "metadata": {},
   "outputs": [
    {
     "data": {
      "text/html": [
       "'R is awesome'"
      ],
      "text/latex": [
       "'R is awesome'"
      ],
      "text/markdown": [
       "'R is awesome'"
      ],
      "text/plain": [
       "[1] \"R is awesome\""
      ]
     },
     "metadata": {},
     "output_type": "display_data"
    }
   ],
   "source": [
    "text1 <- \"R is\"\n",
    "text2 <- \"awesome\"\n",
    "\n",
    "paste(text1, text2)"
   ]
  },
  {
   "cell_type": "code",
   "execution_count": 25,
   "id": "bdd3fa65-2b6e-42b6-bff3-c28edcba1c43",
   "metadata": {},
   "outputs": [
    {
     "data": {
      "text/html": [
       "15"
      ],
      "text/latex": [
       "15"
      ],
      "text/markdown": [
       "15"
      ],
      "text/plain": [
       "[1] 15"
      ]
     },
     "metadata": {},
     "output_type": "display_data"
    }
   ],
   "source": [
    "num1 <- 5\n",
    "num2 <- 10\n",
    "\n",
    "num1 + num2"
   ]
  },
  {
   "cell_type": "code",
   "execution_count": 26,
   "id": "604a786e-7507-48d8-b1cf-eb76c41272ab",
   "metadata": {},
   "outputs": [
    {
     "ename": "ERROR",
     "evalue": "Error in num + text: non-numeric argument to binary operator\n",
     "output_type": "error",
     "traceback": [
      "Error in num + text: non-numeric argument to binary operator\nTraceback:\n"
     ]
    }
   ],
   "source": [
    "num <- 5\n",
    "text <- \"Some text\"\n",
    "\n",
    "num + text"
   ]
  },
  {
   "cell_type": "markdown",
   "id": "e76643cb-41fb-4079-aa31-70e46a1ab473",
   "metadata": {},
   "source": [
    "### Multiple Variables"
   ]
  },
  {
   "cell_type": "code",
   "execution_count": 27,
   "id": "ae8d4967-4696-4cfd-88b6-87f88c9204bc",
   "metadata": {},
   "outputs": [
    {
     "data": {
      "text/html": [
       "100"
      ],
      "text/latex": [
       "100"
      ],
      "text/markdown": [
       "100"
      ],
      "text/plain": [
       "[1] 100"
      ]
     },
     "metadata": {},
     "output_type": "display_data"
    },
    {
     "data": {
      "text/html": [
       "100"
      ],
      "text/latex": [
       "100"
      ],
      "text/markdown": [
       "100"
      ],
      "text/plain": [
       "[1] 100"
      ]
     },
     "metadata": {},
     "output_type": "display_data"
    },
    {
     "data": {
      "text/html": [
       "100"
      ],
      "text/latex": [
       "100"
      ],
      "text/markdown": [
       "100"
      ],
      "text/plain": [
       "[1] 100"
      ]
     },
     "metadata": {},
     "output_type": "display_data"
    }
   ],
   "source": [
    "# Assign the same value to multiple variables in one line\n",
    "var1 <- var2 <- var3 <- 100\n",
    "\n",
    "# Print variable values\n",
    "var1\n",
    "var2\n",
    "var3"
   ]
  },
  {
   "cell_type": "markdown",
   "id": "6f402aea-706f-4f18-a8d1-08431755ff81",
   "metadata": {},
   "source": [
    "## R Data Types\n"
   ]
  },
  {
   "cell_type": "raw",
   "id": "6ba55032-b076-40ed-8fd5-34790d9aa5c6",
   "metadata": {},
   "source": [
    "numeric - (10.5, 55, 787)\n",
    "integer - (1L, 55L, 100L, where the letter \"L\" declares this as an integer)\n",
    "complex - (9 + 3i, where \"i\" is the imaginary part)\n",
    "character (a.k.a. string) - (\"k\", \"R is exciting\", \"FALSE\", \"11.5\")\n",
    "logical (a.k.a. boolean) - (TRUE or FALSE)"
   ]
  },
  {
   "cell_type": "code",
   "execution_count": 28,
   "id": "d3225552-25ac-4f1f-b272-8e355fedaf06",
   "metadata": {},
   "outputs": [
    {
     "data": {
      "text/html": [
       "'numeric'"
      ],
      "text/latex": [
       "'numeric'"
      ],
      "text/markdown": [
       "'numeric'"
      ],
      "text/plain": [
       "[1] \"numeric\""
      ]
     },
     "metadata": {},
     "output_type": "display_data"
    },
    {
     "data": {
      "text/html": [
       "'integer'"
      ],
      "text/latex": [
       "'integer'"
      ],
      "text/markdown": [
       "'integer'"
      ],
      "text/plain": [
       "[1] \"integer\""
      ]
     },
     "metadata": {},
     "output_type": "display_data"
    },
    {
     "data": {
      "text/html": [
       "'complex'"
      ],
      "text/latex": [
       "'complex'"
      ],
      "text/markdown": [
       "'complex'"
      ],
      "text/plain": [
       "[1] \"complex\""
      ]
     },
     "metadata": {},
     "output_type": "display_data"
    },
    {
     "data": {
      "text/html": [
       "'character'"
      ],
      "text/latex": [
       "'character'"
      ],
      "text/markdown": [
       "'character'"
      ],
      "text/plain": [
       "[1] \"character\""
      ]
     },
     "metadata": {},
     "output_type": "display_data"
    },
    {
     "data": {
      "text/html": [
       "'logical'"
      ],
      "text/latex": [
       "'logical'"
      ],
      "text/markdown": [
       "'logical'"
      ],
      "text/plain": [
       "[1] \"logical\""
      ]
     },
     "metadata": {},
     "output_type": "display_data"
    }
   ],
   "source": [
    "# numeric\n",
    "x <- 10.5\n",
    "class(x)\n",
    "\n",
    "# integer\n",
    "x <- 1000L\n",
    "class(x)\n",
    "\n",
    "# complex\n",
    "x <- 9i + 3\n",
    "class(x)\n",
    "\n",
    "# character/string\n",
    "x <- \"R is exciting\"\n",
    "class(x)\n",
    "\n",
    "# logical/boolean\n",
    "x <- TRUE\n",
    "class(x)"
   ]
  },
  {
   "cell_type": "markdown",
   "id": "449037a5-026b-48d3-9f40-33dfd99a19fa",
   "metadata": {},
   "source": [
    "## Type Conversion\n",
    "You can convert from one type to another with the following functions:\n",
    "\n",
    "as.numeric()\n",
    "as.integer()\n",
    "as.complex()"
   ]
  },
  {
   "cell_type": "code",
   "execution_count": 37,
   "id": "3bf639c6-e974-4d40-bc3d-25a0cbec4afa",
   "metadata": {},
   "outputs": [],
   "source": [
    "x <- 10L # integer"
   ]
  },
  {
   "cell_type": "code",
   "execution_count": 38,
   "id": "f585648f-6c88-4479-8909-14b5f4b51ec2",
   "metadata": {},
   "outputs": [
    {
     "data": {
      "text/html": [
       "10"
      ],
      "text/latex": [
       "10"
      ],
      "text/markdown": [
       "10"
      ],
      "text/plain": [
       "[1] 10"
      ]
     },
     "metadata": {},
     "output_type": "display_data"
    }
   ],
   "source": [
    "x"
   ]
  },
  {
   "cell_type": "code",
   "execution_count": 39,
   "id": "bf51c0e3-eecd-4f45-9950-a3dac6eb12bb",
   "metadata": {},
   "outputs": [
    {
     "data": {
      "text/html": [
       "'integer'"
      ],
      "text/latex": [
       "'integer'"
      ],
      "text/markdown": [
       "'integer'"
      ],
      "text/plain": [
       "[1] \"integer\""
      ]
     },
     "metadata": {},
     "output_type": "display_data"
    }
   ],
   "source": [
    "class(x)"
   ]
  },
  {
   "cell_type": "code",
   "execution_count": 40,
   "id": "7bb70115-37c6-40f3-889a-c53a5214896c",
   "metadata": {},
   "outputs": [],
   "source": [
    "a=as.numeric(x)"
   ]
  },
  {
   "cell_type": "code",
   "execution_count": 41,
   "id": "34549240-31f4-4cab-adcd-480dce3a62e3",
   "metadata": {},
   "outputs": [
    {
     "data": {
      "text/html": [
       "10"
      ],
      "text/latex": [
       "10"
      ],
      "text/markdown": [
       "10"
      ],
      "text/plain": [
       "[1] 10"
      ]
     },
     "metadata": {},
     "output_type": "display_data"
    }
   ],
   "source": [
    "a"
   ]
  },
  {
   "cell_type": "code",
   "execution_count": 42,
   "id": "281290df-d720-4f47-a826-73d0362b3da0",
   "metadata": {},
   "outputs": [
    {
     "data": {
      "text/html": [
       "'numeric'"
      ],
      "text/latex": [
       "'numeric'"
      ],
      "text/markdown": [
       "'numeric'"
      ],
      "text/plain": [
       "[1] \"numeric\""
      ]
     },
     "metadata": {},
     "output_type": "display_data"
    }
   ],
   "source": [
    "class(a)"
   ]
  },
  {
   "cell_type": "markdown",
   "id": "4a1c610a-e450-4311-8f36-922f9009df91",
   "metadata": {},
   "source": [
    "## Operations in R"
   ]
  },
  {
   "cell_type": "code",
   "execution_count": 43,
   "id": "a44cee84-79a4-4183-9f70-19bb8f4cd9c4",
   "metadata": {},
   "outputs": [
    {
     "data": {
      "text/html": [
       "5"
      ],
      "text/latex": [
       "5"
      ],
      "text/markdown": [
       "5"
      ],
      "text/plain": [
       "[1] 5"
      ]
     },
     "metadata": {},
     "output_type": "display_data"
    }
   ],
   "source": [
    "2+3"
   ]
  },
  {
   "cell_type": "code",
   "execution_count": 44,
   "id": "0aaca0e0-1a55-4021-bfc7-531c3e9a09a8",
   "metadata": {},
   "outputs": [
    {
     "data": {
      "text/html": [
       "5"
      ],
      "text/latex": [
       "5"
      ],
      "text/markdown": [
       "5"
      ],
      "text/plain": [
       "[1] 5"
      ]
     },
     "metadata": {},
     "output_type": "display_data"
    }
   ],
   "source": [
    "max(3,4,5)"
   ]
  },
  {
   "cell_type": "code",
   "execution_count": 45,
   "id": "7776d5a2-53a4-4c97-a5cf-83dbfd5c8a7b",
   "metadata": {},
   "outputs": [
    {
     "data": {
      "text/html": [
       "2"
      ],
      "text/latex": [
       "2"
      ],
      "text/markdown": [
       "2"
      ],
      "text/plain": [
       "[1] 2"
      ]
     },
     "metadata": {},
     "output_type": "display_data"
    }
   ],
   "source": [
    "sqrt(4)"
   ]
  },
  {
   "cell_type": "code",
   "execution_count": 46,
   "id": "b3729dba-a194-41ac-8471-02f21b4fb5b1",
   "metadata": {},
   "outputs": [
    {
     "data": {
      "text/html": [
       "\n",
       "<table width=\"100%\" summary=\"page for MathFun {base}\"><tr><td>MathFun {base}</td><td style=\"text-align: right;\">R Documentation</td></tr></table>\n",
       "\n",
       "<h2>Miscellaneous Mathematical Functions</h2>\n",
       "\n",
       "<h3>Description</h3>\n",
       "\n",
       "<p><code>abs(x)</code> computes the absolute value of x, <code>sqrt(x)</code> computes the\n",
       "(principal) square root of x, <i>&radic;{x}</i>.\n",
       "</p>\n",
       "<p>The naming follows the standard for computer languages such as C or Fortran.\n",
       "</p>\n",
       "\n",
       "\n",
       "<h3>Usage</h3>\n",
       "\n",
       "<pre>\n",
       "abs(x)\n",
       "sqrt(x)\n",
       "</pre>\n",
       "\n",
       "\n",
       "<h3>Arguments</h3>\n",
       "\n",
       "<table summary=\"R argblock\">\n",
       "<tr valign=\"top\"><td><code>x</code></td>\n",
       "<td>\n",
       "<p>a numeric or <code>complex</code> vector or array.</p>\n",
       "</td></tr>\n",
       "</table>\n",
       "\n",
       "\n",
       "<h3>Details</h3>\n",
       "\n",
       "<p>These are internal generic primitive functions: methods\n",
       "can be defined for them individually or via the\n",
       "<code>Math</code> group generic.  For complex\n",
       "arguments (and the default method), <code>z</code>, <code>abs(z) ==\n",
       "  Mod(z)</code> and <code>sqrt(z) == z^0.5</code>.\n",
       "</p>\n",
       "<p><code>abs(x)</code> returns an <code>integer</code> vector when <code>x</code> is\n",
       "<code>integer</code> or <code>logical</code>.\n",
       "</p>\n",
       "\n",
       "\n",
       "<h3>S4 methods</h3>\n",
       "\n",
       "<p>Both are S4 generic and members of the\n",
       "<code>Math</code> group generic.\n",
       "</p>\n",
       "\n",
       "\n",
       "<h3>References</h3>\n",
       "\n",
       "<p>Becker, R. A., Chambers, J. M. and Wilks, A. R. (1988)\n",
       "<em>The New S Language</em>.\n",
       "Wadsworth &amp; Brooks/Cole.\n",
       "</p>\n",
       "\n",
       "\n",
       "<h3>See Also</h3>\n",
       "\n",
       "<p><code>Arithmetic</code> for simple, <code>log</code> for logarithmic,\n",
       "<code>sin</code> for trigonometric, and <code>Special</code> for\n",
       "special mathematical functions.\n",
       "</p>\n",
       "<p>&lsquo;plotmath&rsquo; for the use of <code>sqrt</code> in plot annotation.\n",
       "</p>\n",
       "\n",
       "\n",
       "<h3>Examples</h3>\n",
       "\n",
       "<pre>\n",
       "require(stats) # for spline\n",
       "require(graphics)\n",
       "xx &lt;- -9:9\n",
       "plot(xx, sqrt(abs(xx)),  col = \"red\")\n",
       "lines(spline(xx, sqrt(abs(xx)), n=101), col = \"pink\")\n",
       "</pre>\n",
       "\n",
       "<hr /><div style=\"text-align: center;\">[Package <em>base</em> version 3.6.1 ]</div>"
      ],
      "text/latex": [
       "\\inputencoding{utf8}\n",
       "\\HeaderA{MathFun}{Miscellaneous Mathematical Functions}{MathFun}\n",
       "\\aliasA{abs}{MathFun}{abs}\n",
       "\\aliasA{sqrt}{MathFun}{sqrt}\n",
       "\\keyword{math}{MathFun}\n",
       "%\n",
       "\\begin{Description}\\relax\n",
       "\\code{abs(x)} computes the absolute value of x, \\code{sqrt(x)} computes the\n",
       "(principal) square root of x, \\eqn{\\sqrt{x}}{}.\n",
       "\n",
       "The naming follows the standard for computer languages such as C or Fortran.\n",
       "\\end{Description}\n",
       "%\n",
       "\\begin{Usage}\n",
       "\\begin{verbatim}\n",
       "abs(x)\n",
       "sqrt(x)\n",
       "\\end{verbatim}\n",
       "\\end{Usage}\n",
       "%\n",
       "\\begin{Arguments}\n",
       "\\begin{ldescription}\n",
       "\\item[\\code{x}] a numeric or \\code{\\LinkA{complex}{complex}} vector or array.\n",
       "\\end{ldescription}\n",
       "\\end{Arguments}\n",
       "%\n",
       "\\begin{Details}\\relax\n",
       "These are \\LinkA{internal generic}{internal generic} \\LinkA{primitive}{primitive} functions: methods\n",
       "can be defined for them individually or via the\n",
       "\\code{\\LinkA{Math}{S3groupGeneric}} group generic.  For complex\n",
       "arguments (and the default method), \\code{z}, \\code{abs(z) ==\n",
       "  \\LinkA{Mod}{Mod}(z)} and \\code{sqrt(z) == z\\textasciicircum{}0.5}.\n",
       "\n",
       "\\code{abs(x)} returns an \\code{\\LinkA{integer}{integer}} vector when \\code{x} is\n",
       "\\code{integer} or \\code{\\LinkA{logical}{logical}}.\n",
       "\\end{Details}\n",
       "%\n",
       "\\begin{Section}{S4 methods}\n",
       "Both are S4 generic and members of the\n",
       "\\code{\\LinkA{Math}{S4groupGeneric}} group generic.\n",
       "\\end{Section}\n",
       "%\n",
       "\\begin{References}\\relax\n",
       "Becker, R. A., Chambers, J. M. and Wilks, A. R. (1988)\n",
       "\\emph{The New S Language}.\n",
       "Wadsworth \\& Brooks/Cole.\n",
       "\\end{References}\n",
       "%\n",
       "\\begin{SeeAlso}\\relax\n",
       "\\code{\\LinkA{Arithmetic}{Arithmetic}} for simple, \\code{\\LinkA{log}{log}} for logarithmic,\n",
       "\\code{\\LinkA{sin}{sin}} for trigonometric, and \\code{\\LinkA{Special}{Special}} for\n",
       "special mathematical functions.\n",
       "\n",
       "`\\LinkA{plotmath}{plotmath}' for the use of \\code{sqrt} in plot annotation.\n",
       "\\end{SeeAlso}\n",
       "%\n",
       "\\begin{Examples}\n",
       "\\begin{ExampleCode}\n",
       "require(stats) # for spline\n",
       "require(graphics)\n",
       "xx <- -9:9\n",
       "plot(xx, sqrt(abs(xx)),  col = \"red\")\n",
       "lines(spline(xx, sqrt(abs(xx)), n=101), col = \"pink\")\n",
       "\\end{ExampleCode}\n",
       "\\end{Examples}"
      ],
      "text/plain": [
       "MathFun                  package:base                  R Documentation\n",
       "\n",
       "_\bM_\bi_\bs_\bc_\be_\bl_\bl_\ba_\bn_\be_\bo_\bu_\bs _\bM_\ba_\bt_\bh_\be_\bm_\ba_\bt_\bi_\bc_\ba_\bl _\bF_\bu_\bn_\bc_\bt_\bi_\bo_\bn_\bs\n",
       "\n",
       "_\bD_\be_\bs_\bc_\br_\bi_\bp_\bt_\bi_\bo_\bn:\n",
       "\n",
       "     'abs(x)' computes the absolute value of x, 'sqrt(x)' computes the\n",
       "     (principal) square root of x, sqrt{x}.\n",
       "\n",
       "     The naming follows the standard for computer languages such as C\n",
       "     or Fortran.\n",
       "\n",
       "_\bU_\bs_\ba_\bg_\be:\n",
       "\n",
       "     abs(x)\n",
       "     sqrt(x)\n",
       "     \n",
       "_\bA_\br_\bg_\bu_\bm_\be_\bn_\bt_\bs:\n",
       "\n",
       "       x: a numeric or 'complex' vector or array.\n",
       "\n",
       "_\bD_\be_\bt_\ba_\bi_\bl_\bs:\n",
       "\n",
       "     These are internal generic primitive functions: methods can be\n",
       "     defined for them individually or via the 'Math' group generic.\n",
       "     For complex arguments (and the default method), 'z', 'abs(z) ==\n",
       "     Mod(z)' and 'sqrt(z) == z^0.5'.\n",
       "\n",
       "     'abs(x)' returns an 'integer' vector when 'x' is 'integer' or\n",
       "     'logical'.\n",
       "\n",
       "_\bS_\b4 _\bm_\be_\bt_\bh_\bo_\bd_\bs:\n",
       "\n",
       "     Both are S4 generic and members of the 'Math' group generic.\n",
       "\n",
       "_\bR_\be_\bf_\be_\br_\be_\bn_\bc_\be_\bs:\n",
       "\n",
       "     Becker, R. A., Chambers, J. M. and Wilks, A. R. (1988) _The New S\n",
       "     Language_.  Wadsworth & Brooks/Cole.\n",
       "\n",
       "_\bS_\be_\be _\bA_\bl_\bs_\bo:\n",
       "\n",
       "     'Arithmetic' for simple, 'log' for logarithmic, 'sin' for\n",
       "     trigonometric, and 'Special' for special mathematical functions.\n",
       "\n",
       "     'plotmath' for the use of 'sqrt' in plot annotation.\n",
       "\n",
       "_\bE_\bx_\ba_\bm_\bp_\bl_\be_\bs:\n",
       "\n",
       "     require(stats) # for spline\n",
       "     require(graphics)\n",
       "     xx <- -9:9\n",
       "     plot(xx, sqrt(abs(xx)),  col = \"red\")\n",
       "     lines(spline(xx, sqrt(abs(xx)), n=101), col = \"pink\")\n",
       "     "
      ]
     },
     "metadata": {},
     "output_type": "display_data"
    }
   ],
   "source": [
    "?sqrt()"
   ]
  },
  {
   "cell_type": "code",
   "execution_count": 47,
   "id": "ae5e5e71-9cdc-4171-916e-0a78172ee64b",
   "metadata": {},
   "outputs": [
    {
     "data": {
      "text/html": [
       "\n",
       "<table width=\"100%\" summary=\"page for MathFun {base}\"><tr><td>MathFun {base}</td><td style=\"text-align: right;\">R Documentation</td></tr></table>\n",
       "\n",
       "<h2>Miscellaneous Mathematical Functions</h2>\n",
       "\n",
       "<h3>Description</h3>\n",
       "\n",
       "<p><code>abs(x)</code> computes the absolute value of x, <code>sqrt(x)</code> computes the\n",
       "(principal) square root of x, <i>&radic;{x}</i>.\n",
       "</p>\n",
       "<p>The naming follows the standard for computer languages such as C or Fortran.\n",
       "</p>\n",
       "\n",
       "\n",
       "<h3>Usage</h3>\n",
       "\n",
       "<pre>\n",
       "abs(x)\n",
       "sqrt(x)\n",
       "</pre>\n",
       "\n",
       "\n",
       "<h3>Arguments</h3>\n",
       "\n",
       "<table summary=\"R argblock\">\n",
       "<tr valign=\"top\"><td><code>x</code></td>\n",
       "<td>\n",
       "<p>a numeric or <code>complex</code> vector or array.</p>\n",
       "</td></tr>\n",
       "</table>\n",
       "\n",
       "\n",
       "<h3>Details</h3>\n",
       "\n",
       "<p>These are internal generic primitive functions: methods\n",
       "can be defined for them individually or via the\n",
       "<code>Math</code> group generic.  For complex\n",
       "arguments (and the default method), <code>z</code>, <code>abs(z) ==\n",
       "  Mod(z)</code> and <code>sqrt(z) == z^0.5</code>.\n",
       "</p>\n",
       "<p><code>abs(x)</code> returns an <code>integer</code> vector when <code>x</code> is\n",
       "<code>integer</code> or <code>logical</code>.\n",
       "</p>\n",
       "\n",
       "\n",
       "<h3>S4 methods</h3>\n",
       "\n",
       "<p>Both are S4 generic and members of the\n",
       "<code>Math</code> group generic.\n",
       "</p>\n",
       "\n",
       "\n",
       "<h3>References</h3>\n",
       "\n",
       "<p>Becker, R. A., Chambers, J. M. and Wilks, A. R. (1988)\n",
       "<em>The New S Language</em>.\n",
       "Wadsworth &amp; Brooks/Cole.\n",
       "</p>\n",
       "\n",
       "\n",
       "<h3>See Also</h3>\n",
       "\n",
       "<p><code>Arithmetic</code> for simple, <code>log</code> for logarithmic,\n",
       "<code>sin</code> for trigonometric, and <code>Special</code> for\n",
       "special mathematical functions.\n",
       "</p>\n",
       "<p>&lsquo;plotmath&rsquo; for the use of <code>sqrt</code> in plot annotation.\n",
       "</p>\n",
       "\n",
       "\n",
       "<h3>Examples</h3>\n",
       "\n",
       "<pre>\n",
       "require(stats) # for spline\n",
       "require(graphics)\n",
       "xx &lt;- -9:9\n",
       "plot(xx, sqrt(abs(xx)),  col = \"red\")\n",
       "lines(spline(xx, sqrt(abs(xx)), n=101), col = \"pink\")\n",
       "</pre>\n",
       "\n",
       "<hr /><div style=\"text-align: center;\">[Package <em>base</em> version 3.6.1 ]</div>"
      ],
      "text/latex": [
       "\\inputencoding{utf8}\n",
       "\\HeaderA{MathFun}{Miscellaneous Mathematical Functions}{MathFun}\n",
       "\\aliasA{abs}{MathFun}{abs}\n",
       "\\aliasA{sqrt}{MathFun}{sqrt}\n",
       "\\keyword{math}{MathFun}\n",
       "%\n",
       "\\begin{Description}\\relax\n",
       "\\code{abs(x)} computes the absolute value of x, \\code{sqrt(x)} computes the\n",
       "(principal) square root of x, \\eqn{\\sqrt{x}}{}.\n",
       "\n",
       "The naming follows the standard for computer languages such as C or Fortran.\n",
       "\\end{Description}\n",
       "%\n",
       "\\begin{Usage}\n",
       "\\begin{verbatim}\n",
       "abs(x)\n",
       "sqrt(x)\n",
       "\\end{verbatim}\n",
       "\\end{Usage}\n",
       "%\n",
       "\\begin{Arguments}\n",
       "\\begin{ldescription}\n",
       "\\item[\\code{x}] a numeric or \\code{\\LinkA{complex}{complex}} vector or array.\n",
       "\\end{ldescription}\n",
       "\\end{Arguments}\n",
       "%\n",
       "\\begin{Details}\\relax\n",
       "These are \\LinkA{internal generic}{internal generic} \\LinkA{primitive}{primitive} functions: methods\n",
       "can be defined for them individually or via the\n",
       "\\code{\\LinkA{Math}{S3groupGeneric}} group generic.  For complex\n",
       "arguments (and the default method), \\code{z}, \\code{abs(z) ==\n",
       "  \\LinkA{Mod}{Mod}(z)} and \\code{sqrt(z) == z\\textasciicircum{}0.5}.\n",
       "\n",
       "\\code{abs(x)} returns an \\code{\\LinkA{integer}{integer}} vector when \\code{x} is\n",
       "\\code{integer} or \\code{\\LinkA{logical}{logical}}.\n",
       "\\end{Details}\n",
       "%\n",
       "\\begin{Section}{S4 methods}\n",
       "Both are S4 generic and members of the\n",
       "\\code{\\LinkA{Math}{S4groupGeneric}} group generic.\n",
       "\\end{Section}\n",
       "%\n",
       "\\begin{References}\\relax\n",
       "Becker, R. A., Chambers, J. M. and Wilks, A. R. (1988)\n",
       "\\emph{The New S Language}.\n",
       "Wadsworth \\& Brooks/Cole.\n",
       "\\end{References}\n",
       "%\n",
       "\\begin{SeeAlso}\\relax\n",
       "\\code{\\LinkA{Arithmetic}{Arithmetic}} for simple, \\code{\\LinkA{log}{log}} for logarithmic,\n",
       "\\code{\\LinkA{sin}{sin}} for trigonometric, and \\code{\\LinkA{Special}{Special}} for\n",
       "special mathematical functions.\n",
       "\n",
       "`\\LinkA{plotmath}{plotmath}' for the use of \\code{sqrt} in plot annotation.\n",
       "\\end{SeeAlso}\n",
       "%\n",
       "\\begin{Examples}\n",
       "\\begin{ExampleCode}\n",
       "require(stats) # for spline\n",
       "require(graphics)\n",
       "xx <- -9:9\n",
       "plot(xx, sqrt(abs(xx)),  col = \"red\")\n",
       "lines(spline(xx, sqrt(abs(xx)), n=101), col = \"pink\")\n",
       "\\end{ExampleCode}\n",
       "\\end{Examples}"
      ],
      "text/plain": [
       "MathFun                  package:base                  R Documentation\n",
       "\n",
       "_\bM_\bi_\bs_\bc_\be_\bl_\bl_\ba_\bn_\be_\bo_\bu_\bs _\bM_\ba_\bt_\bh_\be_\bm_\ba_\bt_\bi_\bc_\ba_\bl _\bF_\bu_\bn_\bc_\bt_\bi_\bo_\bn_\bs\n",
       "\n",
       "_\bD_\be_\bs_\bc_\br_\bi_\bp_\bt_\bi_\bo_\bn:\n",
       "\n",
       "     'abs(x)' computes the absolute value of x, 'sqrt(x)' computes the\n",
       "     (principal) square root of x, sqrt{x}.\n",
       "\n",
       "     The naming follows the standard for computer languages such as C\n",
       "     or Fortran.\n",
       "\n",
       "_\bU_\bs_\ba_\bg_\be:\n",
       "\n",
       "     abs(x)\n",
       "     sqrt(x)\n",
       "     \n",
       "_\bA_\br_\bg_\bu_\bm_\be_\bn_\bt_\bs:\n",
       "\n",
       "       x: a numeric or 'complex' vector or array.\n",
       "\n",
       "_\bD_\be_\bt_\ba_\bi_\bl_\bs:\n",
       "\n",
       "     These are internal generic primitive functions: methods can be\n",
       "     defined for them individually or via the 'Math' group generic.\n",
       "     For complex arguments (and the default method), 'z', 'abs(z) ==\n",
       "     Mod(z)' and 'sqrt(z) == z^0.5'.\n",
       "\n",
       "     'abs(x)' returns an 'integer' vector when 'x' is 'integer' or\n",
       "     'logical'.\n",
       "\n",
       "_\bS_\b4 _\bm_\be_\bt_\bh_\bo_\bd_\bs:\n",
       "\n",
       "     Both are S4 generic and members of the 'Math' group generic.\n",
       "\n",
       "_\bR_\be_\bf_\be_\br_\be_\bn_\bc_\be_\bs:\n",
       "\n",
       "     Becker, R. A., Chambers, J. M. and Wilks, A. R. (1988) _The New S\n",
       "     Language_.  Wadsworth & Brooks/Cole.\n",
       "\n",
       "_\bS_\be_\be _\bA_\bl_\bs_\bo:\n",
       "\n",
       "     'Arithmetic' for simple, 'log' for logarithmic, 'sin' for\n",
       "     trigonometric, and 'Special' for special mathematical functions.\n",
       "\n",
       "     'plotmath' for the use of 'sqrt' in plot annotation.\n",
       "\n",
       "_\bE_\bx_\ba_\bm_\bp_\bl_\be_\bs:\n",
       "\n",
       "     require(stats) # for spline\n",
       "     require(graphics)\n",
       "     xx <- -9:9\n",
       "     plot(xx, sqrt(abs(xx)),  col = \"red\")\n",
       "     lines(spline(xx, sqrt(abs(xx)), n=101), col = \"pink\")\n",
       "     "
      ]
     },
     "metadata": {},
     "output_type": "display_data"
    }
   ],
   "source": [
    "?abs()"
   ]
  },
  {
   "cell_type": "markdown",
   "id": "af2164a2-bb57-4801-afae-72069e1da01d",
   "metadata": {},
   "source": [
    "#### Booleans (Logical Values)"
   ]
  },
  {
   "cell_type": "code",
   "execution_count": 48,
   "id": "0f8c5671-75c7-4b48-9f6f-7e33b8d4da1a",
   "metadata": {},
   "outputs": [
    {
     "data": {
      "text/html": [
       "TRUE"
      ],
      "text/latex": [
       "TRUE"
      ],
      "text/markdown": [
       "TRUE"
      ],
      "text/plain": [
       "[1] TRUE"
      ]
     },
     "metadata": {},
     "output_type": "display_data"
    },
    {
     "data": {
      "text/html": [
       "FALSE"
      ],
      "text/latex": [
       "FALSE"
      ],
      "text/markdown": [
       "FALSE"
      ],
      "text/plain": [
       "[1] FALSE"
      ]
     },
     "metadata": {},
     "output_type": "display_data"
    },
    {
     "data": {
      "text/html": [
       "FALSE"
      ],
      "text/latex": [
       "FALSE"
      ],
      "text/markdown": [
       "FALSE"
      ],
      "text/plain": [
       "[1] FALSE"
      ]
     },
     "metadata": {},
     "output_type": "display_data"
    }
   ],
   "source": [
    "10 > 9    # TRUE because 10 is greater than 9\n",
    "10 == 9   # FALSE because 10 is not equal to 9\n",
    "10 < 9    # FALSE because 10 is greater than 9"
   ]
  },
  {
   "cell_type": "code",
   "execution_count": 49,
   "id": "85f8a2e9-2fda-49bb-b31e-2c5da0d86103",
   "metadata": {},
   "outputs": [
    {
     "data": {
      "text/html": [
       "TRUE"
      ],
      "text/latex": [
       "TRUE"
      ],
      "text/markdown": [
       "TRUE"
      ],
      "text/plain": [
       "[1] TRUE"
      ]
     },
     "metadata": {},
     "output_type": "display_data"
    }
   ],
   "source": [
    "a <- 10\n",
    "b <- 9\n",
    "\n",
    "a > b"
   ]
  },
  {
   "cell_type": "markdown",
   "id": "78c0f631-5a8c-460b-8cfa-b0f353660c83",
   "metadata": {},
   "source": [
    "### Operators"
   ]
  },
  {
   "cell_type": "raw",
   "id": "f6c20b36-2a24-4884-ac01-a8719cd1f792",
   "metadata": {},
   "source": [
    "Arithmetic operators\n",
    "Assignment operators\n",
    "Comparison operators\n",
    "Logical operators\n",
    "Miscellaneous operators"
   ]
  },
  {
   "cell_type": "code",
   "execution_count": null,
   "id": "3e9e71c2-62e9-4381-8906-385db916e9ff",
   "metadata": {},
   "outputs": [],
   "source": []
  }
 ],
 "metadata": {
  "kernelspec": {
   "display_name": "R",
   "language": "R",
   "name": "ir"
  },
  "language_info": {
   "codemirror_mode": "r",
   "file_extension": ".r",
   "mimetype": "text/x-r-source",
   "name": "R",
   "pygments_lexer": "r",
   "version": "3.6.1"
  }
 },
 "nbformat": 4,
 "nbformat_minor": 5
}
